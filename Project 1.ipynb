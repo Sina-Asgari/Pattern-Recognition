{
 "cells": [
  {
   "cell_type": "code",
   "execution_count": 1,
   "metadata": {
    "colab": {
     "base_uri": "https://localhost:8080/"
    },
    "id": "6FN_5OtZT3h_",
    "outputId": "d95a731a-d091-4f9a-ef12-03b070c1d395"
   },
   "outputs": [
    {
     "name": "stdout",
     "output_type": "stream",
     "text": [
      "Mounted at /content/gdrive/\n"
     ]
    }
   ],
   "source": [
    "# for using google drive\n",
    "from google.colab import drive\n",
    "drive.mount('/content/gdrive/')"
   ]
  },
  {
   "cell_type": "code",
   "execution_count": 2,
   "metadata": {
    "id": "G0_BW5APFzaA"
   },
   "outputs": [],
   "source": [
    "import pandas as pd\n",
    "import pickle\n",
    "import numpy as np"
   ]
  },
  {
   "cell_type": "code",
   "execution_count": 3,
   "metadata": {
    "id": "laJO0nqOFzaH"
   },
   "outputs": [],
   "source": [
    "# for using google drive\n",
    "train = pd.read_csv('gdrive/MyDrive/Data/Train_processed.csv')\n",
    "valid = pd.read_csv('gdrive/MyDrive/Data/Valid_processed.csv')\n",
    "test = pd.read_csv('gdrive/MyDrive/Data/Test_processed.csv')"
   ]
  },
  {
   "cell_type": "code",
   "execution_count": null,
   "metadata": {
    "id": "RHgX7t24FzaK"
   },
   "outputs": [],
   "source": [
    "train = pd.read_csv('Train.csv')\n",
    "valid = pd.read_csv('Valid.csv')\n",
    "test = pd.read_csv('Test.csv')"
   ]
  },
  {
   "cell_type": "code",
   "execution_count": null,
   "metadata": {
    "id": "romNDY5iFzaR",
    "outputId": "72f1a265-6d76-4a0d-d27c-0fab1b926436"
   },
   "outputs": [
    {
     "data": {
      "text/html": [
       "<div>\n",
       "<style scoped>\n",
       "    .dataframe tbody tr th:only-of-type {\n",
       "        vertical-align: middle;\n",
       "    }\n",
       "\n",
       "    .dataframe tbody tr th {\n",
       "        vertical-align: top;\n",
       "    }\n",
       "\n",
       "    .dataframe thead th {\n",
       "        text-align: right;\n",
       "    }\n",
       "</style>\n",
       "<table border=\"1\" class=\"dataframe\">\n",
       "  <thead>\n",
       "    <tr style=\"text-align: right;\">\n",
       "      <th></th>\n",
       "      <th>text</th>\n",
       "      <th>label</th>\n",
       "    </tr>\n",
       "  </thead>\n",
       "  <tbody>\n",
       "    <tr>\n",
       "      <th>0</th>\n",
       "      <td>I grew up (b. 1965) watching and loving the Th...</td>\n",
       "      <td>0</td>\n",
       "    </tr>\n",
       "    <tr>\n",
       "      <th>1</th>\n",
       "      <td>When I put this movie in my DVD player, and sa...</td>\n",
       "      <td>0</td>\n",
       "    </tr>\n",
       "    <tr>\n",
       "      <th>2</th>\n",
       "      <td>Why do people who do not know what a particula...</td>\n",
       "      <td>0</td>\n",
       "    </tr>\n",
       "    <tr>\n",
       "      <th>3</th>\n",
       "      <td>Even though I have great interest in Biblical ...</td>\n",
       "      <td>0</td>\n",
       "    </tr>\n",
       "    <tr>\n",
       "      <th>4</th>\n",
       "      <td>Im a die hard Dads Army fan and nothing will e...</td>\n",
       "      <td>1</td>\n",
       "    </tr>\n",
       "  </tbody>\n",
       "</table>\n",
       "</div>"
      ],
      "text/plain": [
       "                                                text  label\n",
       "0  I grew up (b. 1965) watching and loving the Th...      0\n",
       "1  When I put this movie in my DVD player, and sa...      0\n",
       "2  Why do people who do not know what a particula...      0\n",
       "3  Even though I have great interest in Biblical ...      0\n",
       "4  Im a die hard Dads Army fan and nothing will e...      1"
      ]
     },
     "execution_count": 3,
     "metadata": {
      "tags": []
     },
     "output_type": "execute_result"
    }
   ],
   "source": [
    "train.head()"
   ]
  },
  {
   "cell_type": "code",
   "execution_count": null,
   "metadata": {
    "id": "bdNmjFDPFzaX",
    "scrolled": true
   },
   "outputs": [],
   "source": [
    "def count(text):\n",
    "    text = text.split()\n",
    "    return len(text)\n"
   ]
  },
  {
   "cell_type": "code",
   "execution_count": null,
   "metadata": {
    "id": "0dfZM8IsFzaa",
    "outputId": "bd6b6ba0-f8ae-40dd-87bc-cd6a4cad72c9"
   },
   "outputs": [
    {
     "data": {
      "text/plain": [
       "0        151\n",
       "1        326\n",
       "2        184\n",
       "3         69\n",
       "4        178\n",
       "        ... \n",
       "39995    541\n",
       "39996     50\n",
       "39997    168\n",
       "39998    168\n",
       "39999    137\n",
       "Name: text, Length: 40000, dtype: int64"
      ]
     },
     "execution_count": 5,
     "metadata": {
      "tags": []
     },
     "output_type": "execute_result"
    }
   ],
   "source": [
    "train['text'].apply(lambda x: count(x))"
   ]
  },
  {
   "cell_type": "code",
   "execution_count": null,
   "metadata": {
    "id": "LhEBXyQZFzae",
    "outputId": "c3e683d5-1e32-482c-eb42-ebc97940b1bf"
   },
   "outputs": [
    {
     "data": {
      "text/plain": [
       "'I grew up (b. 1965) watching and loving the Thunderbirds. All my mates at school watched. We played \"Thunderbirds\" before school, during lunch and after school. We all wanted to be Virgil or Scott. No one wanted to be Alan. Counting down from 5 became an art form. I took my children to see the movie hoping they would get a glimpse of what I loved as a child. How bitterly disappointing. The only high point was the snappy theme tune. Not that it could compare with the original score of the Thunderbirds. Thankfully early Saturday mornings one television channel still plays reruns of the series Gerry Anderson and his wife created. Jonatha Frakes should hand in his directors chair, his version was completely hopeless. A waste of film. Utter rubbish. A CGI remake may be acceptable but replacing marionettes with Homo sapiens subsp. sapiens was a huge error of judgment.'"
      ]
     },
     "execution_count": 6,
     "metadata": {
      "tags": []
     },
     "output_type": "execute_result"
    }
   ],
   "source": [
    "train['text'][0]"
   ]
  },
  {
   "cell_type": "markdown",
   "metadata": {
    "heading_collapsed": true,
    "id": "XwHUHsOVFzak"
   },
   "source": [
    "# remove HTML tag"
   ]
  },
  {
   "cell_type": "code",
   "execution_count": null,
   "metadata": {
    "hidden": true,
    "id": "-318W7-xFzak"
   },
   "outputs": [],
   "source": [
    "import nltk\n",
    "from bs4 import BeautifulSoup"
   ]
  },
  {
   "cell_type": "code",
   "execution_count": null,
   "metadata": {
    "hidden": true,
    "id": "IJdo4yE6Fzao"
   },
   "outputs": [],
   "source": [
    "def remove_html(text):\n",
    "    soup = BeautifulSoup(text, 'lxml')\n",
    "    text = soup.get_text()\n",
    "    return text"
   ]
  },
  {
   "cell_type": "code",
   "execution_count": null,
   "metadata": {
    "hidden": true,
    "id": "xR2bpPInFzar",
    "outputId": "4aca3903-bace-438a-f5ed-f4faf0eaea8f"
   },
   "outputs": [
    {
     "data": {
      "text/plain": [
       "'\"Western Union\" is something of a forgotten classic western! Perhaps the reason for this lies in the fact of its unavailability on DVD in the United States. However, all is not lost as it has now appeared on Region 2 in England. This - being a blessing in some ways - is not only incongruous but totally ironic when one considers that a movie depicting the founding and establishment of such a uniquely American organization as The Western Union Telegraph Company is without a Region 1 release. It beggars belief! It simply doesn\\'t make sense!<br /><br />Produced by Fox in 1941 \"Western Union\" was directed by Fritz Lang. This was only the second occasion the great German director undertook to direct a western! He had done an excellent job the year before with Fox\\'s \"The Return Of Frank James\" and would have only one more western outing in 1952 with the splendid \"Rancho Notorious\". Lang was no Ford or Hawks but with \"Western Union\" he turned in a fine solid western that holds up very well. Beautifully photographed in early three strip Technicolor by Edward Cronjager it boasted a good cast headed by Robert Young, Randolph Scott and Dean Jagger. The female lead is taken by Virginia Gilmore who really has little to do in the picture. An actress who never made anything of her career. Her presence here is merely cosmetic.<br /><br />It is curious that Robert Young has top billing over Scott! It is clearly Scott\\'s picture from the very beginning when we first see him in the film\\'s terrific opening scene being chased by a posse across the plains. Young doesn\\'t have much to do throughout the movie and seems out of place in a western. He just looks plain silly going up against Barton McLane in a gunfight! An actor who never really distinguished himself - except perhaps with \"Crossfire\" (1947)- Young appeared in a string of forgettable romantic comedies in the forties and fifties culminating with his greatest success when for seven years he was TV\\'s \"Marcus Welby MD\" in the seventies. He died in 1998 at the age of 91.<br /><br />\"Western Union\" recounts the connection by telegraph wire of Omaha and Salt Lake City. Scott plays a reformed outlaw hired by Western Union boss Dean Jagger to protect the line from marauding Sioux and to also take on McLane and his gang who are trying to destroy the line for their own devious ends. Robert Young is the young engineer from back east who joins the company and vies with Scott for the affections of Miss Gilmore. Some comic relief is provided by - and irritatingly so some would say - by Slim Summerville and John Carradine turns up in a meager role as the company doctor.<br /><br />Altogether though a spanking good western, albeit on Region 2, but in sparkling good quality that fans will be delighted with. My only crib is that there are no extras, not even a trailer and that terrible cover with those dull graphics. UGH!<br /><br />Footnote: Interestingly the associate producer on \"Western Union\" was Harry Joe Brown who later with Randolph Scott would create a partnership that would produce some of Scott\\'s finest westerns in the fifties.'"
      ]
     },
     "execution_count": 6,
     "metadata": {
      "tags": []
     },
     "output_type": "execute_result"
    }
   ],
   "source": [
    "train['text'][39995]"
   ]
  },
  {
   "cell_type": "code",
   "execution_count": null,
   "metadata": {
    "hidden": true,
    "id": "5rbWiGjoFzaw",
    "outputId": "05fde6bf-d60b-4da3-f133-9431f6bd38ef"
   },
   "outputs": [
    {
     "data": {
      "text/plain": [
       "'\"Western Union\" is something of a forgotten classic western! Perhaps the reason for this lies in the fact of its unavailability on DVD in the United States. However, all is not lost as it has now appeared on Region 2 in England. This - being a blessing in some ways - is not only incongruous but totally ironic when one considers that a movie depicting the founding and establishment of such a uniquely American organization as The Western Union Telegraph Company is without a Region 1 release. It beggars belief! It simply doesn\\'t make sense!Produced by Fox in 1941 \"Western Union\" was directed by Fritz Lang. This was only the second occasion the great German director undertook to direct a western! He had done an excellent job the year before with Fox\\'s \"The Return Of Frank James\" and would have only one more western outing in 1952 with the splendid \"Rancho Notorious\". Lang was no Ford or Hawks but with \"Western Union\" he turned in a fine solid western that holds up very well. Beautifully photographed in early three strip Technicolor by Edward Cronjager it boasted a good cast headed by Robert Young, Randolph Scott and Dean Jagger. The female lead is taken by Virginia Gilmore who really has little to do in the picture. An actress who never made anything of her career. Her presence here is merely cosmetic.It is curious that Robert Young has top billing over Scott! It is clearly Scott\\'s picture from the very beginning when we first see him in the film\\'s terrific opening scene being chased by a posse across the plains. Young doesn\\'t have much to do throughout the movie and seems out of place in a western. He just looks plain silly going up against Barton McLane in a gunfight! An actor who never really distinguished himself - except perhaps with \"Crossfire\" (1947)- Young appeared in a string of forgettable romantic comedies in the forties and fifties culminating with his greatest success when for seven years he was TV\\'s \"Marcus Welby MD\" in the seventies. He died in 1998 at the age of 91.\"Western Union\" recounts the connection by telegraph wire of Omaha and Salt Lake City. Scott plays a reformed outlaw hired by Western Union boss Dean Jagger to protect the line from marauding Sioux and to also take on McLane and his gang who are trying to destroy the line for their own devious ends. Robert Young is the young engineer from back east who joins the company and vies with Scott for the affections of Miss Gilmore. Some comic relief is provided by - and irritatingly so some would say - by Slim Summerville and John Carradine turns up in a meager role as the company doctor.Altogether though a spanking good western, albeit on Region 2, but in sparkling good quality that fans will be delighted with. My only crib is that there are no extras, not even a trailer and that terrible cover with those dull graphics. UGH!Footnote: Interestingly the associate producer on \"Western Union\" was Harry Joe Brown who later with Randolph Scott would create a partnership that would produce some of Scott\\'s finest westerns in the fifties.'"
      ]
     },
     "execution_count": 7,
     "metadata": {
      "tags": []
     },
     "output_type": "execute_result"
    }
   ],
   "source": [
    "remove_html(train['text'][39995])"
   ]
  },
  {
   "cell_type": "code",
   "execution_count": null,
   "metadata": {
    "hidden": true,
    "id": "E1BRnj_LFzaz"
   },
   "outputs": [],
   "source": [
    "train['text'] = train['text'].apply(lambda x: remove_html(x))"
   ]
  },
  {
   "cell_type": "code",
   "execution_count": null,
   "metadata": {
    "hidden": true,
    "id": "dpvTr2ybTn3i"
   },
   "outputs": [],
   "source": [
    "valid['text'] = valid['text'].apply(lambda x: remove_html(x))"
   ]
  },
  {
   "cell_type": "code",
   "execution_count": null,
   "metadata": {
    "hidden": true,
    "id": "L9Dv3VVHTn3i"
   },
   "outputs": [],
   "source": [
    "test['text'] = test['text'].apply(lambda x: remove_html(x))"
   ]
  },
  {
   "cell_type": "markdown",
   "metadata": {
    "heading_collapsed": true,
    "id": "2jinnTLKFza2"
   },
   "source": [
    "# remove punctuation"
   ]
  },
  {
   "cell_type": "code",
   "execution_count": null,
   "metadata": {
    "hidden": true,
    "id": "tX97dQ-WFza2"
   },
   "outputs": [],
   "source": [
    "import string "
   ]
  },
  {
   "cell_type": "code",
   "execution_count": null,
   "metadata": {
    "hidden": true,
    "id": "OidLbdEdFza6"
   },
   "outputs": [],
   "source": [
    "def remove_punctuation(text):\n",
    "    return \"\".join([w for w in text if w not in string.punctuation])"
   ]
  },
  {
   "cell_type": "code",
   "execution_count": null,
   "metadata": {
    "hidden": true,
    "id": "mrDa6XODFza-",
    "outputId": "3debdd3f-ab75-4fed-c9d1-8ec4b2cd6aae"
   },
   "outputs": [
    {
     "data": {
      "text/plain": [
       "'!\"#$%&\\'()*+,-./:;<=>?@[\\\\]^_`{|}~'"
      ]
     },
     "execution_count": 11,
     "metadata": {
      "tags": []
     },
     "output_type": "execute_result"
    }
   ],
   "source": [
    "string.punctuation"
   ]
  },
  {
   "cell_type": "code",
   "execution_count": null,
   "metadata": {
    "hidden": true,
    "id": "fAIehgi1FzbC",
    "outputId": "56f37f05-3392-41df-c209-3d52f49a8d08"
   },
   "outputs": [
    {
     "data": {
      "text/plain": [
       "'Hello World'"
      ]
     },
     "execution_count": 12,
     "metadata": {
      "tags": []
     },
     "output_type": "execute_result"
    }
   ],
   "source": [
    "remove_punctuation('Hello! World@')"
   ]
  },
  {
   "cell_type": "code",
   "execution_count": null,
   "metadata": {
    "hidden": true,
    "id": "3mhZLet6FzbF"
   },
   "outputs": [],
   "source": [
    "train['text'] = train['text'].apply(lambda x: remove_punctuation(x))"
   ]
  },
  {
   "cell_type": "code",
   "execution_count": null,
   "metadata": {
    "hidden": true,
    "id": "FIhtgPpHTn3j"
   },
   "outputs": [],
   "source": [
    "valid['text'] = valid['text'].apply(lambda x: remove_punctuation(x))"
   ]
  },
  {
   "cell_type": "code",
   "execution_count": null,
   "metadata": {
    "hidden": true,
    "id": "11s7eu1RTn3j"
   },
   "outputs": [],
   "source": [
    "test['text'] = test['text'].apply(lambda x: remove_punctuation(x))"
   ]
  },
  {
   "cell_type": "code",
   "execution_count": null,
   "metadata": {
    "hidden": true,
    "id": "uNBCAfxXFzbI"
   },
   "outputs": [],
   "source": []
  },
  {
   "cell_type": "code",
   "execution_count": null,
   "metadata": {
    "hidden": true,
    "id": "J_Q1vik1FzbL",
    "outputId": "5a2e45a2-14a4-4a30-e942-010927d867c1"
   },
   "outputs": [
    {
     "data": {
      "text/plain": [
       "\"Its really been a long time since the last time somebody created a movie such as like this on. A so called B movie. Maybe it was not a great movie, but it is fun to watch, classic Bruce Cambell, it has its Good parts, funny ones, Disgusting ones, even artistic ones. ******Spoiler Ahead*******----------------------- --------------------------------- --------------------------- -------------The part where his wife as a dummy-robot-avenger is about to die, I don't know about you, but it made me feel so weird, so sad and disgusted in a good way. I compare this scene with the scene form the Fly 2 where his dog as a monster dies. Makes you think oh my god.---------------- --------------------------------------------- ------------------------------ --------------------------********No more Spoilers********* If you are a Bruce Cambell fan, you definitely wanna have this movie in your collection. If you are generally interested in movies, you might wanna. Just think that the movies target is to make you smile, gross you out(Don't worry not that bad though) and make you have a good time with your buddies. Attention, I said buddies, not possible future girlfriend.\""
      ]
     },
     "execution_count": 21,
     "metadata": {
      "tags": []
     },
     "output_type": "execute_result"
    }
   ],
   "source": [
    "# Don't Run this Cell!!\n",
    "train['text'][254]"
   ]
  },
  {
   "cell_type": "code",
   "execution_count": null,
   "metadata": {
    "hidden": true,
    "id": "-Bbqy_knFzbP",
    "outputId": "012e5f1f-12b3-44b1-c8a2-007486befbb5"
   },
   "outputs": [
    {
     "data": {
      "text/plain": [
       "'Its really been a long time since the last time somebody created a movie such as like this on A so called B movie Maybe it was not a great movie but it is fun to watch classic Bruce Cambell it has its Good parts funny ones Disgusting ones even artistic ones Spoiler Ahead   The part where his wife as a dummyrobotavenger is about to die I dont know about you but it made me feel so weird so sad and disgusted in a good way I compare this scene with the scene form the Fly 2 where his dog as a monster dies Makes you think oh my god   No more Spoilers If you are a Bruce Cambell fan you definitely wanna have this movie in your collection If you are generally interested in movies you might wanna Just think that the movies target is to make you smile gross you outDont worry not that bad though and make you have a good time with your buddies Attention I said buddies not possible future girlfriend'"
      ]
     },
     "execution_count": 17,
     "metadata": {
      "tags": []
     },
     "output_type": "execute_result"
    }
   ],
   "source": [
    "train['text'][254]"
   ]
  },
  {
   "cell_type": "code",
   "execution_count": null,
   "metadata": {
    "hidden": true,
    "id": "rnstCrz1FzbT",
    "outputId": "3fe4a58f-2aad-4f18-8758-8b68b53f4a08"
   },
   "outputs": [
    {
     "data": {
      "text/plain": [
       "'its really been a long time since the last time somebody created a movie such as like this on a so called b movie maybe it was not a great movie but it is fun to watch classic bruce cambell it has its good parts funny ones disgusting ones even artistic ones spoiler ahead   the part where his wife as a dummyrobotavenger is about to die i dont know about you but it made me feel so weird so sad and disgusted in a good way i compare this scene with the scene form the fly 2 where his dog as a monster dies makes you think oh my god   no more spoilers if you are a bruce cambell fan you definitely wanna have this movie in your collection if you are generally interested in movies you might wanna just think that the movies target is to make you smile gross you outdont worry not that bad though and make you have a good time with your buddies attention i said buddies not possible future girlfriend'"
      ]
     },
     "execution_count": 19,
     "metadata": {
      "tags": []
     },
     "output_type": "execute_result"
    }
   ],
   "source": [
    "train['text'][254]"
   ]
  },
  {
   "cell_type": "code",
   "execution_count": null,
   "metadata": {
    "hidden": true,
    "id": "Ojt3KEi0FzbX",
    "outputId": "b37e4c96-6a23-4400-da4b-8d63a1eab567"
   },
   "outputs": [
    {
     "data": {
      "text/plain": [
       "'really long time since last time somebody created movie like called b movie maybe great movie fun watch classic bruce cambell good parts funny ones disgusting ones even artistic ones spoiler ahead part wife dummyrobotavenger die dont know made feel weird sad disgusted good way compare scene scene form fly 2 dog monster dies makes think oh god spoilers bruce cambell fan definitely wanna movie collection generally interested movies might wanna think movies target make smile gross outdont worry bad though make good time buddies attention said buddies possible future girlfriend'"
      ]
     },
     "execution_count": 24,
     "metadata": {
      "tags": []
     },
     "output_type": "execute_result"
    }
   ],
   "source": [
    "train['text'][254]"
   ]
  },
  {
   "cell_type": "markdown",
   "metadata": {
    "heading_collapsed": true,
    "id": "gfSTY3IpFzbc"
   },
   "source": [
    "# lower case"
   ]
  },
  {
   "cell_type": "code",
   "execution_count": null,
   "metadata": {
    "hidden": true,
    "id": "JU_jpmBfFzbd"
   },
   "outputs": [],
   "source": [
    "train['text'] = train['text'].apply(lambda x: x.lower())"
   ]
  },
  {
   "cell_type": "code",
   "execution_count": null,
   "metadata": {
    "hidden": true,
    "id": "nT9R3J10Tn3j"
   },
   "outputs": [],
   "source": [
    "valid['text'] = valid['text'].apply(lambda x: x.lower())"
   ]
  },
  {
   "cell_type": "code",
   "execution_count": null,
   "metadata": {
    "hidden": true,
    "id": "MfoHOZP7Tn3j"
   },
   "outputs": [],
   "source": [
    "test['text'] = test['text'].apply(lambda x: x.lower())"
   ]
  },
  {
   "cell_type": "markdown",
   "metadata": {
    "heading_collapsed": true,
    "id": "vBgWZnSxFzbh"
   },
   "source": [
    "# Stop Words"
   ]
  },
  {
   "cell_type": "code",
   "execution_count": null,
   "metadata": {
    "hidden": true,
    "id": "-zZYJFdpFzbj"
   },
   "outputs": [],
   "source": [
    "from nltk.corpus import stopwords"
   ]
  },
  {
   "cell_type": "code",
   "execution_count": null,
   "metadata": {
    "hidden": true,
    "id": "1DRoS7K8Fzbn"
   },
   "outputs": [],
   "source": [
    "stop_words = stopwords.words('english')"
   ]
  },
  {
   "cell_type": "code",
   "execution_count": null,
   "metadata": {
    "hidden": true,
    "id": "PvVsGXE4Fzbs"
   },
   "outputs": [],
   "source": [
    "def remove_stop_words(text):\n",
    "    stop_words = stopwords.words('english')\n",
    "    return \" \".join([word for word in text.lower().split() if not word in stop_words])"
   ]
  },
  {
   "cell_type": "code",
   "execution_count": null,
   "metadata": {
    "hidden": true,
    "id": "9HvtsSo8Fzbv"
   },
   "outputs": [],
   "source": [
    "train['text'] = train['text'].apply(lambda x: remove_stop_words(x))"
   ]
  },
  {
   "cell_type": "code",
   "execution_count": null,
   "metadata": {
    "hidden": true,
    "id": "YkSVvr6kTn3j"
   },
   "outputs": [],
   "source": [
    "valid['text'] = valid['text'].apply(lambda x: remove_stop_words(x))"
   ]
  },
  {
   "cell_type": "code",
   "execution_count": null,
   "metadata": {
    "hidden": true,
    "id": "28X1POo3Tn3j"
   },
   "outputs": [],
   "source": [
    "test['text'] = test['text'].apply(lambda x: remove_stop_words(x))"
   ]
  },
  {
   "cell_type": "markdown",
   "metadata": {
    "heading_collapsed": true,
    "id": "VgzAixhSUUhf"
   },
   "source": [
    "# Lemmatization Words"
   ]
  },
  {
   "cell_type": "code",
   "execution_count": 4,
   "metadata": {
    "hidden": true,
    "id": "w4B0xr4zUUhf"
   },
   "outputs": [],
   "source": [
    "from nltk.stem import WordNetLemmatizer \n",
    "from nltk.tokenize import word_tokenize"
   ]
  },
  {
   "cell_type": "code",
   "execution_count": 5,
   "metadata": {
    "colab": {
     "base_uri": "https://localhost:8080/"
    },
    "hidden": true,
    "id": "Y79l81MxUUhf",
    "outputId": "dabf2d43-f50f-49ad-faaa-292c38f2ed5b"
   },
   "outputs": [
    {
     "name": "stdout",
     "output_type": "stream",
     "text": [
      "[nltk_data] Downloading package wordnet to /root/nltk_data...\n",
      "[nltk_data]   Unzipping corpora/wordnet.zip.\n",
      "[nltk_data] Downloading package punkt to /root/nltk_data...\n",
      "[nltk_data]   Unzipping tokenizers/punkt.zip.\n"
     ]
    },
    {
     "data": {
      "text/plain": [
       "True"
      ]
     },
     "execution_count": 5,
     "metadata": {
      "tags": []
     },
     "output_type": "execute_result"
    }
   ],
   "source": [
    "import nltk\n",
    "nltk.download('wordnet')\n",
    "nltk.download('punkt')"
   ]
  },
  {
   "cell_type": "code",
   "execution_count": 6,
   "metadata": {
    "hidden": true,
    "id": "s6rNSXBhUUhf"
   },
   "outputs": [],
   "source": [
    "lemmatizer = WordNetLemmatizer()\n",
    "def remove_lemmatization(text):\n",
    "    return ' '.join([lemmatizer.lemmatize(w) for w in word_tokenize(text)])"
   ]
  },
  {
   "cell_type": "code",
   "execution_count": 7,
   "metadata": {
    "hidden": true,
    "id": "vx4_9phIUUhf"
   },
   "outputs": [],
   "source": [
    "train['text'] = train['text'].apply(lambda x: remove_lemmatization(x))"
   ]
  },
  {
   "cell_type": "code",
   "execution_count": 8,
   "metadata": {
    "hidden": true,
    "id": "TemcKlg-UUhg"
   },
   "outputs": [],
   "source": [
    "valid['text'] = valid['text'].apply(lambda x: remove_lemmatization(x))"
   ]
  },
  {
   "cell_type": "code",
   "execution_count": 9,
   "metadata": {
    "hidden": true,
    "id": "OOr4CCrXVxdG"
   },
   "outputs": [],
   "source": [
    "test['text'] = test['text'].apply(lambda x: remove_lemmatization(x))"
   ]
  },
  {
   "cell_type": "markdown",
   "metadata": {
    "heading_collapsed": true,
    "id": "_ofFHLx9Fzby"
   },
   "source": [
    "# Most used words"
   ]
  },
  {
   "cell_type": "code",
   "execution_count": null,
   "metadata": {
    "hidden": true,
    "id": "tj-G-ABRFzbz"
   },
   "outputs": [],
   "source": [
    "l = []\n",
    "for text in train['text']:\n",
    "    l.append(text)"
   ]
  },
  {
   "cell_type": "code",
   "execution_count": null,
   "metadata": {
    "hidden": true,
    "id": "ngKqf-a8Fzb2"
   },
   "outputs": [],
   "source": [
    "giant_string = \" \".join(l)"
   ]
  },
  {
   "cell_type": "code",
   "execution_count": null,
   "metadata": {
    "hidden": true,
    "id": "Jq4-oT2HFzb5"
   },
   "outputs": [],
   "source": [
    "Words = {}\n",
    "for word in giant_string.split():\n",
    "    Words[word] = Words.get(word, 0) + 1"
   ]
  },
  {
   "cell_type": "code",
   "execution_count": null,
   "metadata": {
    "hidden": true,
    "id": "28vpDDBiFzb9"
   },
   "outputs": [],
   "source": [
    "Words = {k: v for k, v in sorted(Words.items(), key=lambda item: item[1], reverse=True)}"
   ]
  },
  {
   "cell_type": "code",
   "execution_count": null,
   "metadata": {
    "colab": {
     "base_uri": "https://localhost:8080/"
    },
    "hidden": true,
    "id": "Xpb6mjvYFzcC",
    "outputId": "91d6d87d-836a-46da-9a2a-297d33ec372b"
   },
   "outputs": [
    {
     "data": {
      "text/plain": [
       "182488"
      ]
     },
     "execution_count": 18,
     "metadata": {
      "tags": []
     },
     "output_type": "execute_result"
    }
   ],
   "source": [
    "len(Words)"
   ]
  },
  {
   "cell_type": "code",
   "execution_count": null,
   "metadata": {
    "hidden": true,
    "id": "awEbFEzbNqvm"
   },
   "outputs": [],
   "source": []
  },
  {
   "cell_type": "markdown",
   "metadata": {
    "heading_collapsed": true,
    "id": "Oewd5ligFzcF"
   },
   "source": [
    "# BoW"
   ]
  },
  {
   "cell_type": "markdown",
   "metadata": {
    "heading_collapsed": true,
    "hidden": true,
    "id": "gl3EIuPTTn3k"
   },
   "source": [
    "## Processing for BoW"
   ]
  },
  {
   "cell_type": "code",
   "execution_count": null,
   "metadata": {
    "hidden": true,
    "id": "uQcv23vGFzcI"
   },
   "outputs": [],
   "source": [
    "from sklearn.feature_extraction.text import CountVectorizer"
   ]
  },
  {
   "cell_type": "code",
   "execution_count": null,
   "metadata": {
    "hidden": true,
    "id": "xPYmLlXbFzcN"
   },
   "outputs": [],
   "source": [
    "cv = CountVectorizer(min_df=2000)"
   ]
  },
  {
   "cell_type": "code",
   "execution_count": null,
   "metadata": {
    "hidden": true,
    "id": "tS-T1eDoFzcP"
   },
   "outputs": [],
   "source": [
    "train_set = cv.fit_transform(train['text'].values.tolist()).toarray()"
   ]
  },
  {
   "cell_type": "code",
   "execution_count": null,
   "metadata": {
    "hidden": true,
    "id": "WzBsyOvTTn3k"
   },
   "outputs": [],
   "source": [
    "valid_set = cv.transform(valid['text'].values.tolist()).toarray()"
   ]
  },
  {
   "cell_type": "code",
   "execution_count": null,
   "metadata": {
    "hidden": true,
    "id": "apnbhw0QTn3k"
   },
   "outputs": [],
   "source": [
    "test_set = cv.transform(test['text'].values.tolist()).toarray()"
   ]
  },
  {
   "cell_type": "code",
   "execution_count": null,
   "metadata": {
    "colab": {
     "base_uri": "https://localhost:8080/"
    },
    "hidden": true,
    "id": "edQ_AEnJFzcS",
    "outputId": "c15c77fd-2783-43fc-abf6-af8f91ac4868"
   },
   "outputs": [
    {
     "data": {
      "text/plain": [
       "320"
      ]
     },
     "execution_count": 110,
     "metadata": {
      "tags": []
     },
     "output_type": "execute_result"
    }
   ],
   "source": [
    "len(cv.vocabulary_)"
   ]
  },
  {
   "cell_type": "code",
   "execution_count": null,
   "metadata": {
    "hidden": true,
    "id": "Bjit-mV3Tn3k",
    "scrolled": true
   },
   "outputs": [],
   "source": [
    "X = np.concatenate((train_set, valid_set))"
   ]
  },
  {
   "cell_type": "code",
   "execution_count": null,
   "metadata": {
    "hidden": true,
    "id": "UigDptSQTn3k"
   },
   "outputs": [],
   "source": [
    "y = np.concatenate((train['label'], valid['label']))"
   ]
  },
  {
   "cell_type": "code",
   "execution_count": null,
   "metadata": {
    "hidden": true,
    "id": "D3Aj7ofh2XiM"
   },
   "outputs": [],
   "source": []
  },
  {
   "cell_type": "markdown",
   "metadata": {
    "heading_collapsed": true,
    "hidden": true,
    "id": "B1M6YKyd2aOU"
   },
   "source": [
    "## Naive Bayes"
   ]
  },
  {
   "cell_type": "code",
   "execution_count": null,
   "metadata": {
    "hidden": true,
    "id": "Em4I3hfE2c3v"
   },
   "outputs": [],
   "source": [
    "from sklearn.naive_bayes import MultinomialNB\n",
    "from sklearn.model_selection import GridSearchCV\n",
    "from sklearn.model_selection import PredefinedSplit"
   ]
  },
  {
   "cell_type": "code",
   "execution_count": null,
   "metadata": {
    "hidden": true,
    "id": "UzzSmzqlSN_O"
   },
   "outputs": [],
   "source": [
    "param_grid = {'alpha': list(np.arange(0.0001, 0.1, 0.0001))}"
   ]
  },
  {
   "cell_type": "code",
   "execution_count": null,
   "metadata": {
    "hidden": true,
    "id": "C6lV_Y2uSN3Q"
   },
   "outputs": [],
   "source": [
    "test_fold = np.full(X.shape[0], -1)\n",
    "test_fold[40001: ] = 0"
   ]
  },
  {
   "cell_type": "code",
   "execution_count": null,
   "metadata": {
    "hidden": true,
    "id": "YYkvP4a_SNt9"
   },
   "outputs": [],
   "source": [
    "ps = PredefinedSplit(test_fold)"
   ]
  },
  {
   "cell_type": "code",
   "execution_count": null,
   "metadata": {
    "hidden": true,
    "id": "7Q7mDtXcSONb"
   },
   "outputs": [],
   "source": [
    "mnb = GridSearchCV(MultinomialNB(), param_grid, refit=True, verbose=5, n_jobs=3, cv=ps)"
   ]
  },
  {
   "cell_type": "code",
   "execution_count": null,
   "metadata": {
    "colab": {
     "base_uri": "https://localhost:8080/"
    },
    "hidden": true,
    "id": "yB6lhJVk3gLX",
    "outputId": "b14216ae-2297-4e34-9c36-14271dcf6abf"
   },
   "outputs": [
    {
     "name": "stdout",
     "output_type": "stream",
     "text": [
      "Fitting 1 folds for each of 999 candidates, totalling 999 fits\n"
     ]
    },
    {
     "name": "stderr",
     "output_type": "stream",
     "text": [
      "[Parallel(n_jobs=3)]: Using backend LokyBackend with 3 concurrent workers.\n",
      "[Parallel(n_jobs=3)]: Done  12 tasks      | elapsed:    2.4s\n",
      "[Parallel(n_jobs=3)]: Done  66 tasks      | elapsed:   12.0s\n",
      "[Parallel(n_jobs=3)]: Done 156 tasks      | elapsed:   28.2s\n",
      "[Parallel(n_jobs=3)]: Done 282 tasks      | elapsed:   50.7s\n",
      "[Parallel(n_jobs=3)]: Done 444 tasks      | elapsed:  1.3min\n",
      "[Parallel(n_jobs=3)]: Done 642 tasks      | elapsed:  1.9min\n",
      "[Parallel(n_jobs=3)]: Done 876 tasks      | elapsed:  2.6min\n",
      "[Parallel(n_jobs=3)]: Done 999 out of 999 | elapsed:  3.0min finished\n"
     ]
    },
    {
     "data": {
      "text/plain": [
       "GridSearchCV(cv=PredefinedSplit(test_fold=array([-1, -1, ...,  0,  0])),\n",
       "             error_score=nan,\n",
       "             estimator=MultinomialNB(alpha=1.0, class_prior=None,\n",
       "                                     fit_prior=True),\n",
       "             iid='deprecated', n_jobs=3,\n",
       "             param_grid={'alpha': [0.0001, 0.0002, 0.00030000000000000003,\n",
       "                                   0.0004, 0.0005, 0.0006000000000000001,\n",
       "                                   0.0007000000000000001, 0.0008,\n",
       "                                   0.0009000000000000001, 0.001, 0.0011,\n",
       "                                   0.0012000000000000001, 0.0013000000000000002,\n",
       "                                   0.0014000000000000002, 0.0015, 0.0016,\n",
       "                                   0.0017000000000000001, 0.0018000000000000002,\n",
       "                                   0.0019000000000000002, 0.002, 0.0021, 0.0022,\n",
       "                                   0.0023, 0.0024, 0.0025, 0.0026, 0.0027,\n",
       "                                   0.0028, 0.0029, 0.003, ...]},\n",
       "             pre_dispatch='2*n_jobs', refit=True, return_train_score=False,\n",
       "             scoring=None, verbose=5)"
      ]
     },
     "execution_count": 118,
     "metadata": {
      "tags": []
     },
     "output_type": "execute_result"
    }
   ],
   "source": [
    "mnb.fit(X, y)"
   ]
  },
  {
   "cell_type": "code",
   "execution_count": null,
   "metadata": {
    "colab": {
     "base_uri": "https://localhost:8080/"
    },
    "hidden": true,
    "id": "CNzc57GhUOfz",
    "outputId": "3ef3cd29-2b5d-479f-b91c-b906b053dcf5"
   },
   "outputs": [
    {
     "data": {
      "text/plain": [
       "{'alpha': 0.0001}"
      ]
     },
     "execution_count": 119,
     "metadata": {
      "tags": []
     },
     "output_type": "execute_result"
    }
   ],
   "source": [
    "mnb.best_params_"
   ]
  },
  {
   "cell_type": "code",
   "execution_count": null,
   "metadata": {
    "hidden": true,
    "id": "f8u8g41s4Y5P"
   },
   "outputs": [],
   "source": [
    "predictions = mnb.predict(test_set)"
   ]
  },
  {
   "cell_type": "code",
   "execution_count": null,
   "metadata": {
    "hidden": true,
    "id": "vadG3RmJ5Nbx"
   },
   "outputs": [],
   "source": [
    "pred_prob = mnb.predict_proba(test_set)\n",
    "preds = pred_prob[:,1]"
   ]
  },
  {
   "cell_type": "code",
   "execution_count": null,
   "metadata": {
    "hidden": true,
    "id": "KxzW8qB2Ulse"
   },
   "outputs": [],
   "source": [
    "from sklearn.metrics import classification_report,confusion_matrix, roc_curve, auc"
   ]
  },
  {
   "cell_type": "code",
   "execution_count": null,
   "metadata": {
    "hidden": true,
    "id": "S05ekd935Sr5"
   },
   "outputs": [],
   "source": [
    "fpr, tpr, threshold = roc_curve(test['label'], preds)\n",
    "roc_auc = auc(fpr, tpr)"
   ]
  },
  {
   "cell_type": "code",
   "execution_count": null,
   "metadata": {
    "colab": {
     "base_uri": "https://localhost:8080/",
     "height": 313
    },
    "hidden": true,
    "id": "G3oGzyf05TPA",
    "outputId": "2148d8b8-bcf9-4a5e-d2a1-39fa8eb44a9e"
   },
   "outputs": [
    {
     "data": {
      "text/plain": [
       "Text(0.5, 0, 'False Positive Rate')"
      ]
     },
     "execution_count": 124,
     "metadata": {
      "tags": []
     },
     "output_type": "execute_result"
    },
    {
     "data": {
      "image/png": "[encoded data removed]",
      "text/plain": [
       "<Figure size 432x288 with 1 Axes>"
      ]
     },
     "metadata": {
      "needs_background": "light",
      "tags": []
     },
     "output_type": "display_data"
    }
   ],
   "source": [
    "import matplotlib.pyplot as plt\n",
    "plt.title('Receiver Operating Characteristic')\n",
    "plt.plot(fpr, tpr, 'b', label = 'AUC = %0.2f' % roc_auc)\n",
    "plt.legend(loc = 'lower right')\n",
    "plt.plot([0, 1], [0, 1],'r--')\n",
    "plt.xlim([0, 1])\n",
    "plt.ylim([0, 1])\n",
    "plt.ylabel('True Positive Rate')\n",
    "plt.xlabel('False Positive Rate')"
   ]
  },
  {
   "cell_type": "code",
   "execution_count": null,
   "metadata": {
    "colab": {
     "base_uri": "https://localhost:8080/"
    },
    "hidden": true,
    "id": "hmBIzzXu4ikF",
    "outputId": "bcbc86e6-6335-498d-a714-3c96c0de8dca"
   },
   "outputs": [
    {
     "name": "stdout",
     "output_type": "stream",
     "text": [
      "[[1942  553]\n",
      " [ 444 2061]]\n"
     ]
    }
   ],
   "source": [
    "print(confusion_matrix(test['label'], predictions))"
   ]
  },
  {
   "cell_type": "code",
   "execution_count": null,
   "metadata": {
    "colab": {
     "base_uri": "https://localhost:8080/"
    },
    "hidden": true,
    "id": "Y9KcxHEM4qR2",
    "outputId": "ad0c978f-d57d-4db5-abc5-b53796e59c94"
   },
   "outputs": [
    {
     "name": "stdout",
     "output_type": "stream",
     "text": [
      "              precision    recall  f1-score   support\n",
      "\n",
      "           0       0.81      0.78      0.80      2495\n",
      "           1       0.79      0.82      0.81      2505\n",
      "\n",
      "    accuracy                           0.80      5000\n",
      "   macro avg       0.80      0.80      0.80      5000\n",
      "weighted avg       0.80      0.80      0.80      5000\n",
      "\n"
     ]
    }
   ],
   "source": [
    "print(classification_report(test['label'], predictions))"
   ]
  },
  {
   "cell_type": "code",
   "execution_count": null,
   "metadata": {
    "hidden": true,
    "id": "lXnk6ODl4vOp"
   },
   "outputs": [],
   "source": []
  },
  {
   "cell_type": "markdown",
   "metadata": {
    "heading_collapsed": true,
    "hidden": true,
    "id": "oal1kuFfFzcY"
   },
   "source": [
    "## Support Vector Machine"
   ]
  },
  {
   "cell_type": "code",
   "execution_count": null,
   "metadata": {
    "hidden": true,
    "id": "Kcx_NiBtFzch"
   },
   "outputs": [],
   "source": [
    "from sklearn.svm import SVC\n",
    "from sklearn.svm import LinearSVC\n",
    "from sklearn.model_selection import GridSearchCV\n",
    "from sklearn.model_selection import PredefinedSplit"
   ]
  },
  {
   "cell_type": "markdown",
   "metadata": {
    "heading_collapsed": true,
    "hidden": true,
    "id": "20pjUb-qTn3m"
   },
   "source": [
    "### With Kernel"
   ]
  },
  {
   "cell_type": "markdown",
   "metadata": {
    "heading_collapsed": true,
    "hidden": true,
    "id": "DJws2LWwTn3m"
   },
   "source": [
    "#### without GridSearch"
   ]
  },
  {
   "cell_type": "code",
   "execution_count": null,
   "metadata": {
    "hidden": true,
    "id": "nRv-yoNnTn3m"
   },
   "outputs": [],
   "source": [
    "# ****************"
   ]
  },
  {
   "cell_type": "code",
   "execution_count": null,
   "metadata": {
    "hidden": true,
    "id": "QP_d12hpTn3m"
   },
   "outputs": [],
   "source": [
    "model = SVC(C=1, gamma=0.01, probability=True)"
   ]
  },
  {
   "cell_type": "code",
   "execution_count": null,
   "metadata": {
    "hidden": true,
    "id": "FE8p_i4bTn3m"
   },
   "outputs": [],
   "source": [
    "model.fit(train_set, train['label'])"
   ]
  },
  {
   "cell_type": "code",
   "execution_count": null,
   "metadata": {
    "hidden": true,
    "id": "rTozSoreTn3m"
   },
   "outputs": [],
   "source": [
    "predeictios = model.predict(test_set)"
   ]
  },
  {
   "cell_type": "code",
   "execution_count": null,
   "metadata": {
    "hidden": true,
    "id": "ZgEKaZgLaFe0"
   },
   "outputs": [],
   "source": [
    "y_score = model.predict_proba(test_set)\n",
    "# y_score = model.predict_proba(test_set)[:,1]"
   ]
  },
  {
   "cell_type": "code",
   "execution_count": null,
   "metadata": {
    "hidden": true,
    "id": "E3OxOA9sTn3m"
   },
   "outputs": [],
   "source": [
    "from sklearn.metrics import classification_report,confusion_matrix"
   ]
  },
  {
   "cell_type": "code",
   "execution_count": null,
   "metadata": {
    "hidden": true,
    "id": "LipRRrSFTn3m",
    "outputId": "616c6902-b89e-4821-c65d-0db689109495"
   },
   "outputs": [
    {
     "name": "stdout",
     "output_type": "stream",
     "text": [
      "[[2006  489]\n",
      " [ 396 2109]]\n"
     ]
    }
   ],
   "source": [
    "print(confusion_matrix(test['label'],predeictios))"
   ]
  },
  {
   "cell_type": "code",
   "execution_count": null,
   "metadata": {
    "hidden": true,
    "id": "UKZeXv4FTn3n",
    "outputId": "db41e5e3-cb57-446f-c398-11a85c22c7cc",
    "scrolled": true
   },
   "outputs": [
    {
     "name": "stdout",
     "output_type": "stream",
     "text": [
      "              precision    recall  f1-score   support\n",
      "\n",
      "           0       0.84      0.80      0.82      2495\n",
      "           1       0.81      0.84      0.83      2505\n",
      "\n",
      "    accuracy                           0.82      5000\n",
      "   macro avg       0.82      0.82      0.82      5000\n",
      "weighted avg       0.82      0.82      0.82      5000\n",
      "\n"
     ]
    }
   ],
   "source": [
    "print(classification_report(test['label'],predeictios))"
   ]
  },
  {
   "cell_type": "code",
   "execution_count": null,
   "metadata": {
    "hidden": true,
    "id": "YD1GKTLQTn3n"
   },
   "outputs": [],
   "source": [
    "with open(\"SVC_C1_gScale.pkl\", 'wb') as file:\n",
    "    pickle.dump(model, file)"
   ]
  },
  {
   "cell_type": "code",
   "execution_count": null,
   "metadata": {
    "hidden": true,
    "id": "XH60EtyXTn3n"
   },
   "outputs": [],
   "source": []
  },
  {
   "cell_type": "code",
   "execution_count": null,
   "metadata": {
    "hidden": true,
    "id": "3_CUJYAATn3n"
   },
   "outputs": [],
   "source": [
    "model2 = SVC(C=1, gamma=0.01)"
   ]
  },
  {
   "cell_type": "code",
   "execution_count": null,
   "metadata": {
    "hidden": true,
    "id": "Ma17pGThTn3n",
    "outputId": "10425ee1-8c97-4975-aa46-8384bd2cdfe0"
   },
   "outputs": [
    {
     "data": {
      "text/plain": [
       "SVC(C=1, gamma=0.01)"
      ]
     },
     "execution_count": 37,
     "metadata": {
      "tags": []
     },
     "output_type": "execute_result"
    }
   ],
   "source": [
    "model2.fit(train_set, train['label'])"
   ]
  },
  {
   "cell_type": "code",
   "execution_count": null,
   "metadata": {
    "hidden": true,
    "id": "mxhDN6-bTn3n"
   },
   "outputs": [],
   "source": [
    "predeictios2 = model2.predict(test_set)"
   ]
  },
  {
   "cell_type": "code",
   "execution_count": null,
   "metadata": {
    "hidden": true,
    "id": "nDP3lBFsTn3n",
    "outputId": "3cb72d83-ea59-46cd-8bef-9db58136081a"
   },
   "outputs": [
    {
     "name": "stdout",
     "output_type": "stream",
     "text": [
      "[[2006  489]\n",
      " [ 396 2109]]\n"
     ]
    }
   ],
   "source": [
    "print(confusion_matrix(test['label'],predeictios2))"
   ]
  },
  {
   "cell_type": "code",
   "execution_count": null,
   "metadata": {
    "hidden": true,
    "id": "jKL_WHffTn3n",
    "outputId": "246e684b-8643-4f30-ec82-3f2380e7a8fe"
   },
   "outputs": [
    {
     "name": "stdout",
     "output_type": "stream",
     "text": [
      "              precision    recall  f1-score   support\n",
      "\n",
      "           0       0.84      0.80      0.82      2495\n",
      "           1       0.81      0.84      0.83      2505\n",
      "\n",
      "    accuracy                           0.82      5000\n",
      "   macro avg       0.82      0.82      0.82      5000\n",
      "weighted avg       0.82      0.82      0.82      5000\n",
      "\n"
     ]
    }
   ],
   "source": [
    "print(classification_report(test['label'],predeictios2))"
   ]
  },
  {
   "cell_type": "code",
   "execution_count": null,
   "metadata": {
    "hidden": true,
    "id": "TKb4JqVzTn3n"
   },
   "outputs": [],
   "source": [
    "pkl_model = \"SVC_C1_g01.pkl\"\n",
    "with open(\"SVC_C1_g01.pkl\", 'wb') as file:\n",
    "    pickle.dump(model2, file)"
   ]
  },
  {
   "cell_type": "code",
   "execution_count": null,
   "metadata": {
    "hidden": true,
    "id": "5DNjbhi1Tn3n"
   },
   "outputs": [],
   "source": []
  },
  {
   "cell_type": "code",
   "execution_count": null,
   "metadata": {
    "hidden": true,
    "id": "YDbefgohTn3n"
   },
   "outputs": [],
   "source": [
    "model3 = SVC(C=10, gamma=0.01)"
   ]
  },
  {
   "cell_type": "code",
   "execution_count": null,
   "metadata": {
    "hidden": true,
    "id": "jlnv2tlwTn3n",
    "outputId": "e0959e10-0da8-4845-bdea-c21941d3b3de"
   },
   "outputs": [
    {
     "data": {
      "text/plain": [
       "SVC(C=10, gamma=0.01)"
      ]
     },
     "execution_count": 47,
     "metadata": {
      "tags": []
     },
     "output_type": "execute_result"
    }
   ],
   "source": [
    "model3.fit(train_set, train['label'])"
   ]
  },
  {
   "cell_type": "code",
   "execution_count": null,
   "metadata": {
    "hidden": true,
    "id": "gn5DgQx_Tn3n"
   },
   "outputs": [],
   "source": [
    "predctions = model3.predict(test_set)"
   ]
  },
  {
   "cell_type": "code",
   "execution_count": null,
   "metadata": {
    "hidden": true,
    "id": "7DBNchiYTn3n",
    "outputId": "327f1908-cd92-4138-d4be-55cd41809ada"
   },
   "outputs": [
    {
     "name": "stdout",
     "output_type": "stream",
     "text": [
      "              precision    recall  f1-score   support\n",
      "\n",
      "           0       0.81      0.79      0.80      2495\n",
      "           1       0.80      0.82      0.81      2505\n",
      "\n",
      "    accuracy                           0.81      5000\n",
      "   macro avg       0.81      0.81      0.81      5000\n",
      "weighted avg       0.81      0.81      0.81      5000\n",
      "\n"
     ]
    }
   ],
   "source": [
    "print(classification_report(test['label'], predctions))"
   ]
  },
  {
   "cell_type": "code",
   "execution_count": null,
   "metadata": {
    "hidden": true,
    "id": "UlPYUhPHTn3n",
    "outputId": "d7c12073-c362-4af6-a869-3daf4e532055"
   },
   "outputs": [
    {
     "name": "stdout",
     "output_type": "stream",
     "text": [
      "[[1983  512]\n",
      " [ 455 2050]]\n"
     ]
    }
   ],
   "source": [
    "print(confusion_matrix(test['label'],predctions))"
   ]
  },
  {
   "cell_type": "code",
   "execution_count": null,
   "metadata": {
    "hidden": true,
    "id": "ph_T6ioqTn3n"
   },
   "outputs": [],
   "source": [
    "pkl_model = \"SVC_C10_g01.pkl\"\n",
    "with open(pkl_model, 'wb') as file:\n",
    "    pickle.dump(model3, file)\n"
   ]
  },
  {
   "cell_type": "markdown",
   "metadata": {
    "heading_collapsed": true,
    "hidden": true,
    "id": "TmrBgfbVTn3n"
   },
   "source": [
    "#### With GridSearch"
   ]
  },
  {
   "cell_type": "code",
   "execution_count": null,
   "metadata": {
    "hidden": true,
    "id": "XEAdfEi1Fzco"
   },
   "outputs": [],
   "source": [
    "param_grid = {'C': [0.1, 1, 10], 'gamma': [1, 0.1, 0.01], 'kernel': ['rbf']} "
   ]
  },
  {
   "cell_type": "code",
   "execution_count": null,
   "metadata": {
    "hidden": true,
    "id": "XocdxEw9Tn3o"
   },
   "outputs": [],
   "source": [
    "test_fold = np.full(X.shape[0], -1)\n",
    "test_fold[40001: ] = 0"
   ]
  },
  {
   "cell_type": "code",
   "execution_count": null,
   "metadata": {
    "hidden": true,
    "id": "nyiWcf3MTn3o"
   },
   "outputs": [],
   "source": [
    "ps = PredefinedSplit(test_fold)"
   ]
  },
  {
   "cell_type": "code",
   "execution_count": null,
   "metadata": {
    "hidden": true,
    "id": "fGAr3M_RTn3o",
    "outputId": "47c4778e-4b73-4f7d-e5bb-3d461dcc996e"
   },
   "outputs": [
    {
     "data": {
      "text/plain": [
       "1"
      ]
     },
     "execution_count": 57,
     "metadata": {
      "tags": []
     },
     "output_type": "execute_result"
    }
   ],
   "source": [
    "ps.get_n_splits()"
   ]
  },
  {
   "cell_type": "code",
   "execution_count": null,
   "metadata": {
    "hidden": true,
    "id": "GV1poS5UFzct"
   },
   "outputs": [],
   "source": [
    "svm_with_kernel = GridSearchCV(SVC(), param_grid, refit=True, verbose=5, n_jobs=3, cv=ps)"
   ]
  },
  {
   "cell_type": "code",
   "execution_count": null,
   "metadata": {
    "hidden": true,
    "id": "aT169WwfTn3o",
    "outputId": "8801f196-5a59-49be-87af-657a20ea2438"
   },
   "outputs": [
    {
     "name": "stdout",
     "output_type": "stream",
     "text": [
      "Fitting 1 folds for each of 9 candidates, totalling 9 fits\n"
     ]
    },
    {
     "name": "stderr",
     "output_type": "stream",
     "text": [
      "[Parallel(n_jobs=3)]: Using backend LokyBackend with 3 concurrent workers.\n",
      "[Parallel(n_jobs=3)]: Done   6 out of   9 | elapsed: 59.5min remaining: 29.8min\n",
      "[Parallel(n_jobs=3)]: Done   9 out of   9 | elapsed: 115.2min finished\n"
     ]
    },
    {
     "name": "stdout",
     "output_type": "stream",
     "text": [
      "Wall time: 2h 12min 17s\n"
     ]
    },
    {
     "data": {
      "text/plain": [
       "GridSearchCV(cv=PredefinedSplit(test_fold=array([-1, -1, ...,  0,  0])),\n",
       "             estimator=SVC(), n_jobs=3,\n",
       "             param_grid={'C': [0.1, 1, 10], 'gamma': [1, 0.1, 0.01],\n",
       "                         'kernel': ['rbf']},\n",
       "             verbose=5)"
      ]
     },
     "execution_count": 62,
     "metadata": {
      "tags": []
     },
     "output_type": "execute_result"
    }
   ],
   "source": [
    "%%time\n",
    "svm_with_kernel.fit(X, y)"
   ]
  },
  {
   "cell_type": "code",
   "execution_count": null,
   "metadata": {
    "hidden": true,
    "id": "8KJ7EyrzTn3o",
    "outputId": "d99bb87c-86c4-4e0b-b83e-70ce1f768414"
   },
   "outputs": [
    {
     "data": {
      "text/plain": [
       "{'C': 1, 'gamma': 0.01, 'kernel': 'rbf'}"
      ]
     },
     "execution_count": 63,
     "metadata": {
      "tags": []
     },
     "output_type": "execute_result"
    }
   ],
   "source": [
    "svm_with_kernel.best_params_"
   ]
  },
  {
   "cell_type": "code",
   "execution_count": null,
   "metadata": {
    "hidden": true,
    "id": "-RKnntz5Tn3o"
   },
   "outputs": [],
   "source": [
    "from sklearn.metrics import classification_report,confusion_matrix"
   ]
  },
  {
   "cell_type": "code",
   "execution_count": null,
   "metadata": {
    "hidden": true,
    "id": "r27OYmyZTn3o"
   },
   "outputs": [],
   "source": [
    "pred = svm_with_kernel.predict(test_set)"
   ]
  },
  {
   "cell_type": "code",
   "execution_count": null,
   "metadata": {
    "hidden": true,
    "id": "UwLdkCBrTn3o",
    "outputId": "3a7334e1-bd87-4635-d87f-281baf52be32"
   },
   "outputs": [
    {
     "name": "stdout",
     "output_type": "stream",
     "text": [
      "              precision    recall  f1-score   support\n",
      "\n",
      "           0       0.83      0.80      0.82      2495\n",
      "           1       0.81      0.84      0.83      2505\n",
      "\n",
      "    accuracy                           0.82      5000\n",
      "   macro avg       0.82      0.82      0.82      5000\n",
      "weighted avg       0.82      0.82      0.82      5000\n",
      "\n"
     ]
    }
   ],
   "source": [
    "print(classification_report(test['label'],pred))"
   ]
  },
  {
   "cell_type": "code",
   "execution_count": null,
   "metadata": {
    "hidden": true,
    "id": "e8vTOuPeTn3o",
    "outputId": "7f9a05f8-25c6-40ce-f793-80b1a9f2a88a"
   },
   "outputs": [
    {
     "name": "stdout",
     "output_type": "stream",
     "text": [
      "[[2002  493]\n",
      " [ 398 2107]]\n"
     ]
    }
   ],
   "source": [
    "print(confusion_matrix(test['label'],pred))"
   ]
  },
  {
   "cell_type": "code",
   "execution_count": null,
   "metadata": {
    "hidden": true,
    "id": "c8a-knGnACCM"
   },
   "outputs": [],
   "source": [
    "model = SVC(C=1, gamma=0.01, probability=True)"
   ]
  },
  {
   "cell_type": "code",
   "execution_count": null,
   "metadata": {
    "colab": {
     "base_uri": "https://localhost:8080/"
    },
    "hidden": true,
    "id": "csNDcF00BRnl",
    "outputId": "bbfa0315-8ef9-4539-98f8-4827ffafb8f5"
   },
   "outputs": [
    {
     "name": "stdout",
     "output_type": "stream",
     "text": [
      "CPU times: user 1h 6min 38s, sys: 975 ms, total: 1h 6min 39s\n",
      "Wall time: 1h 6min 40s\n"
     ]
    },
    {
     "data": {
      "text/plain": [
       "SVC(C=1, break_ties=False, cache_size=200, class_weight=None, coef0=0.0,\n",
       "    decision_function_shape='ovr', degree=3, gamma=0.01, kernel='rbf',\n",
       "    max_iter=-1, probability=True, random_state=None, shrinking=True, tol=0.001,\n",
       "    verbose=False)"
      ]
     },
     "execution_count": 29,
     "metadata": {
      "tags": []
     },
     "output_type": "execute_result"
    }
   ],
   "source": [
    "%%time\n",
    "model.fit(train_set, train['label'])"
   ]
  },
  {
   "cell_type": "code",
   "execution_count": null,
   "metadata": {
    "hidden": true,
    "id": "Xob8RQF6UKmh"
   },
   "outputs": [],
   "source": [
    "from sklearn.metrics import roc_curve, auc\n",
    "from sklearn.metrics import classification_report,confusion_matrix"
   ]
  },
  {
   "cell_type": "code",
   "execution_count": null,
   "metadata": {
    "hidden": true,
    "id": "Lf97h-rHTACh"
   },
   "outputs": [],
   "source": [
    "pred_prob = model.predict_proba(test_set)"
   ]
  },
  {
   "cell_type": "code",
   "execution_count": null,
   "metadata": {
    "hidden": true,
    "id": "hsQ4VPQJUdu5"
   },
   "outputs": [],
   "source": [
    "preds = pred_prob[:,1]"
   ]
  },
  {
   "cell_type": "code",
   "execution_count": null,
   "metadata": {
    "hidden": true,
    "id": "hize8TkKUkwV"
   },
   "outputs": [],
   "source": [
    "fpr, tpr, threshold = roc_curve(test['label'], preds)\n",
    "roc_auc = auc(fpr, tpr)"
   ]
  },
  {
   "cell_type": "code",
   "execution_count": null,
   "metadata": {
    "colab": {
     "base_uri": "https://localhost:8080/",
     "height": 313
    },
    "hidden": true,
    "id": "LrEOU3KjV9sq",
    "outputId": "9a68636e-1af5-4177-815b-2ddb75fc7697"
   },
   "outputs": [
    {
     "data": {
      "text/plain": [
       "Text(0.5, 0, 'False Positive Rate')"
      ]
     },
     "execution_count": 48,
     "metadata": {
      "tags": []
     },
     "output_type": "execute_result"
    },
    {
     "data": {
      "image/png": "[encoded data removed]",
      "text/plain": [
       "<Figure size 432x288 with 1 Axes>"
      ]
     },
     "metadata": {
      "needs_background": "light",
      "tags": []
     },
     "output_type": "display_data"
    }
   ],
   "source": [
    "import matplotlib.pyplot as plt\n",
    "plt.title('Receiver Operating Characteristic')\n",
    "plt.plot(fpr, tpr, 'b', label = 'AUC = %0.2f' % roc_auc)\n",
    "plt.legend(loc = 'lower right')\n",
    "plt.plot([0, 1], [0, 1],'r--')\n",
    "plt.xlim([0, 1])\n",
    "plt.ylim([0, 1])\n",
    "plt.ylabel('True Positive Rate')\n",
    "plt.xlabel('False Positive Rate')"
   ]
  },
  {
   "cell_type": "code",
   "execution_count": null,
   "metadata": {
    "hidden": true,
    "id": "5CWQSk6GUq63"
   },
   "outputs": [],
   "source": [
    "pred = model.predict(test_set)"
   ]
  },
  {
   "cell_type": "code",
   "execution_count": null,
   "metadata": {
    "colab": {
     "base_uri": "https://localhost:8080/"
    },
    "hidden": true,
    "id": "GONEJ0n3XKHi",
    "outputId": "4e72d1fe-2c70-44a5-ae84-d7c1f8e49a4f"
   },
   "outputs": [
    {
     "name": "stdout",
     "output_type": "stream",
     "text": [
      "              precision    recall  f1-score   support\n",
      "\n",
      "           0       0.83      0.81      0.82      2495\n",
      "           1       0.81      0.84      0.83      2505\n",
      "\n",
      "    accuracy                           0.82      5000\n",
      "   macro avg       0.82      0.82      0.82      5000\n",
      "weighted avg       0.82      0.82      0.82      5000\n",
      "\n"
     ]
    }
   ],
   "source": [
    "print(classification_report(test['label'],pred))"
   ]
  },
  {
   "cell_type": "code",
   "execution_count": null,
   "metadata": {
    "colab": {
     "base_uri": "https://localhost:8080/"
    },
    "hidden": true,
    "id": "xE029mxtXT_Q",
    "outputId": "e6b40f87-96d6-4fc7-893a-e56493b957ad"
   },
   "outputs": [
    {
     "name": "stdout",
     "output_type": "stream",
     "text": [
      "[[2012  483]\n",
      " [ 399 2106]]\n"
     ]
    }
   ],
   "source": [
    "print(confusion_matrix(test['label'],pred))"
   ]
  },
  {
   "cell_type": "markdown",
   "metadata": {
    "hidden": true,
    "id": "fXSBdMRRTn3o"
   },
   "source": [
    "Save SVM with kernel Model:"
   ]
  },
  {
   "cell_type": "code",
   "execution_count": null,
   "metadata": {
    "hidden": true,
    "id": "Qab_60UWTn3o"
   },
   "outputs": [],
   "source": [
    "with open('svm_with_kernel', 'wb') as file:\n",
    "    pickle.dump(svm_with_kernel, file)"
   ]
  },
  {
   "cell_type": "code",
   "execution_count": null,
   "metadata": {
    "hidden": true,
    "id": "-3CyPE2FSlQV"
   },
   "outputs": [],
   "source": [
    "with open(\"/content/gdrive/My Drive/svm_with_kernel_BoW_PT.pkl\", 'wb') as file:\n",
    "    pickle.dump(model, file)"
   ]
  },
  {
   "cell_type": "markdown",
   "metadata": {
    "heading_collapsed": true,
    "hidden": true,
    "id": "nuITwkkFTn3o"
   },
   "source": [
    "### Without Kernel"
   ]
  },
  {
   "cell_type": "code",
   "execution_count": null,
   "metadata": {
    "hidden": true,
    "id": "PBBiZgYhTn3o"
   },
   "outputs": [],
   "source": [
    "from sklearn.metrics import classification_report,confusion_matrix, roc_curve, auc"
   ]
  },
  {
   "cell_type": "markdown",
   "metadata": {
    "heading_collapsed": true,
    "hidden": true,
    "id": "8H2EBqsrqd8U"
   },
   "source": [
    "#### GridSearch"
   ]
  },
  {
   "cell_type": "code",
   "execution_count": null,
   "metadata": {
    "hidden": true,
    "id": "UbDoQIkkqjnb"
   },
   "outputs": [],
   "source": [
    "param_grid = {'C': [0.01, 0.1, 1, 10], 'max_iter': [10000]}"
   ]
  },
  {
   "cell_type": "code",
   "execution_count": null,
   "metadata": {
    "hidden": true,
    "id": "hqvmKmOwqlA2"
   },
   "outputs": [],
   "source": [
    "test_fold = np.full(X.shape[0], -1)\n",
    "test_fold[40001: ] = 0"
   ]
  },
  {
   "cell_type": "code",
   "execution_count": null,
   "metadata": {
    "hidden": true,
    "id": "YzTufyVcqzHv"
   },
   "outputs": [],
   "source": [
    "ps = PredefinedSplit(test_fold)"
   ]
  },
  {
   "cell_type": "code",
   "execution_count": null,
   "metadata": {
    "colab": {
     "base_uri": "https://localhost:8080/"
    },
    "hidden": true,
    "id": "znJAmN7Dq18h",
    "outputId": "f5a981f5-8c05-4670-f048-be676536c8f0"
   },
   "outputs": [
    {
     "data": {
      "text/plain": [
       "1"
      ]
     },
     "execution_count": 22,
     "metadata": {
      "tags": []
     },
     "output_type": "execute_result"
    }
   ],
   "source": [
    "ps.get_n_splits()"
   ]
  },
  {
   "cell_type": "code",
   "execution_count": null,
   "metadata": {
    "hidden": true,
    "id": "ZAQxSlQ1q4ic"
   },
   "outputs": [],
   "source": [
    "svm_without_kernel = GridSearchCV(LinearSVC(), param_grid, refit=True, verbose=5, n_jobs=-1, cv=ps)"
   ]
  },
  {
   "cell_type": "code",
   "execution_count": null,
   "metadata": {
    "colab": {
     "base_uri": "https://localhost:8080/"
    },
    "hidden": true,
    "id": "WyTFRd9arJ1b",
    "outputId": "1b088ecd-9cac-47a2-cab5-f83968185c6e"
   },
   "outputs": [
    {
     "name": "stdout",
     "output_type": "stream",
     "text": [
      "Fitting 1 folds for each of 4 candidates, totalling 4 fits\n"
     ]
    },
    {
     "name": "stderr",
     "output_type": "stream",
     "text": [
      "[Parallel(n_jobs=-1)]: Using backend LokyBackend with 2 concurrent workers.\n",
      "[Parallel(n_jobs=-1)]: Done   2 out of   4 | elapsed:  1.2min remaining:  1.2min\n",
      "[Parallel(n_jobs=-1)]: Done   4 out of   4 | elapsed:  4.3min remaining:    0.0s\n",
      "[Parallel(n_jobs=-1)]: Done   4 out of   4 | elapsed:  4.3min finished\n"
     ]
    },
    {
     "name": "stdout",
     "output_type": "stream",
     "text": [
      "CPU times: user 1min 24s, sys: 164 ms, total: 1min 24s\n",
      "Wall time: 5min 41s\n"
     ]
    },
    {
     "data": {
      "text/plain": [
       "GridSearchCV(cv=PredefinedSplit(test_fold=array([-1, -1, ...,  0,  0])),\n",
       "             error_score=nan,\n",
       "             estimator=LinearSVC(C=1.0, class_weight=None, dual=True,\n",
       "                                 fit_intercept=True, intercept_scaling=1,\n",
       "                                 loss='squared_hinge', max_iter=1000,\n",
       "                                 multi_class='ovr', penalty='l2',\n",
       "                                 random_state=None, tol=0.0001, verbose=0),\n",
       "             iid='deprecated', n_jobs=-1,\n",
       "             param_grid={'C': [0.01, 0.1, 1, 10], 'max_iter': [10000]},\n",
       "             pre_dispatch='2*n_jobs', refit=True, return_train_score=False,\n",
       "             scoring=None, verbose=5)"
      ]
     },
     "execution_count": 26,
     "metadata": {
      "tags": []
     },
     "output_type": "execute_result"
    }
   ],
   "source": [
    "%%time\n",
    "svm_without_kernel.fit(X, y)"
   ]
  },
  {
   "cell_type": "code",
   "execution_count": null,
   "metadata": {
    "colab": {
     "base_uri": "https://localhost:8080/"
    },
    "hidden": true,
    "id": "_cm23FR0rN_n",
    "outputId": "890bd810-50db-4333-ad09-0d21b95d31b8"
   },
   "outputs": [
    {
     "data": {
      "text/plain": [
       "{'C': 0.1, 'max_iter': 10000}"
      ]
     },
     "execution_count": 27,
     "metadata": {
      "tags": []
     },
     "output_type": "execute_result"
    }
   ],
   "source": [
    "svm_without_kernel.best_params_"
   ]
  },
  {
   "cell_type": "code",
   "execution_count": null,
   "metadata": {
    "hidden": true,
    "id": "qrIx9oyfuUp-"
   },
   "outputs": [],
   "source": [
    "from sklearn.calibration import CalibratedClassifierCV"
   ]
  },
  {
   "cell_type": "code",
   "execution_count": null,
   "metadata": {
    "hidden": true,
    "id": "16tpO3rUukBu"
   },
   "outputs": [],
   "source": [
    "svm = LinearSVC(C=0.1, max_iter=10000)"
   ]
  },
  {
   "cell_type": "code",
   "execution_count": null,
   "metadata": {
    "hidden": true,
    "id": "tDgtRAZFuyS_"
   },
   "outputs": [],
   "source": [
    " clf = CalibratedClassifierCV(svm)"
   ]
  },
  {
   "cell_type": "code",
   "execution_count": null,
   "metadata": {
    "colab": {
     "base_uri": "https://localhost:8080/"
    },
    "hidden": true,
    "id": "I3NjLzkwu4fL",
    "outputId": "f339e535-24b5-45d0-ef1d-4a5dd9cbc8cd"
   },
   "outputs": [
    {
     "data": {
      "text/plain": [
       "CalibratedClassifierCV(base_estimator=LinearSVC(C=0.1, class_weight=None,\n",
       "                                                dual=True, fit_intercept=True,\n",
       "                                                intercept_scaling=1,\n",
       "                                                loss='squared_hinge',\n",
       "                                                max_iter=10000,\n",
       "                                                multi_class='ovr', penalty='l2',\n",
       "                                                random_state=None, tol=0.0001,\n",
       "                                                verbose=0),\n",
       "                       cv=None, method='sigmoid')"
      ]
     },
     "execution_count": 31,
     "metadata": {
      "tags": []
     },
     "output_type": "execute_result"
    }
   ],
   "source": [
    "clf.fit(train_set, train['label'])"
   ]
  },
  {
   "cell_type": "code",
   "execution_count": null,
   "metadata": {
    "hidden": true,
    "id": "ZB1qYQRpu8iI"
   },
   "outputs": [],
   "source": [
    "pred_prob = clf.predict_proba(test_set)\n",
    "preds = pred_prob[:,1]"
   ]
  },
  {
   "cell_type": "code",
   "execution_count": null,
   "metadata": {
    "hidden": true,
    "id": "sU_6Ok1s0OXv"
   },
   "outputs": [],
   "source": [
    "fpr, tpr, threshold = roc_curve(test['label'], preds)\n",
    "roc_auc = auc(fpr, tpr)"
   ]
  },
  {
   "cell_type": "code",
   "execution_count": null,
   "metadata": {
    "colab": {
     "base_uri": "https://localhost:8080/",
     "height": 313
    },
    "hidden": true,
    "id": "ZbioV7bd0PH-",
    "outputId": "e8f0c2cd-b597-4254-ab21-1dd4a858be65"
   },
   "outputs": [
    {
     "data": {
      "text/plain": [
       "Text(0.5, 0, 'False Positive Rate')"
      ]
     },
     "execution_count": 37,
     "metadata": {
      "tags": []
     },
     "output_type": "execute_result"
    },
    {
     "data": {
      "image/png": "[encoded data removed]",
      "text/plain": [
       "<Figure size 432x288 with 1 Axes>"
      ]
     },
     "metadata": {
      "needs_background": "light",
      "tags": []
     },
     "output_type": "display_data"
    }
   ],
   "source": [
    "import matplotlib.pyplot as plt\n",
    "plt.title('Receiver Operating Characteristic')\n",
    "plt.plot(fpr, tpr, 'b', label = 'AUC = %0.2f' % roc_auc)\n",
    "plt.legend(loc = 'lower right')\n",
    "plt.plot([0, 1], [0, 1],'r--')\n",
    "plt.xlim([0, 1])\n",
    "plt.ylim([0, 1])\n",
    "plt.ylabel('True Positive Rate')\n",
    "plt.xlabel('False Positive Rate')"
   ]
  },
  {
   "cell_type": "code",
   "execution_count": null,
   "metadata": {
    "hidden": true,
    "id": "rj19M4c4rd_M"
   },
   "outputs": [],
   "source": [
    "pred = svm_without_kernel.predict(test_set)"
   ]
  },
  {
   "cell_type": "code",
   "execution_count": null,
   "metadata": {
    "colab": {
     "base_uri": "https://localhost:8080/"
    },
    "hidden": true,
    "id": "9SphlhF3rqky",
    "outputId": "4ee666c0-c68a-4f59-b428-6341afc5de4d"
   },
   "outputs": [
    {
     "name": "stdout",
     "output_type": "stream",
     "text": [
      "[[1981  514]\n",
      " [ 391 2114]]\n"
     ]
    }
   ],
   "source": [
    "print(confusion_matrix(test['label'],pred))"
   ]
  },
  {
   "cell_type": "code",
   "execution_count": null,
   "metadata": {
    "colab": {
     "base_uri": "https://localhost:8080/"
    },
    "hidden": true,
    "id": "5RNe96UNrvJd",
    "outputId": "54c8ad69-61d0-416e-e94c-c01ce8d7e420"
   },
   "outputs": [
    {
     "name": "stdout",
     "output_type": "stream",
     "text": [
      "              precision    recall  f1-score   support\n",
      "\n",
      "           0       0.84      0.79      0.81      2495\n",
      "           1       0.80      0.84      0.82      2505\n",
      "\n",
      "    accuracy                           0.82      5000\n",
      "   macro avg       0.82      0.82      0.82      5000\n",
      "weighted avg       0.82      0.82      0.82      5000\n",
      "\n"
     ]
    }
   ],
   "source": [
    "print(classification_report(test['label'],pred))"
   ]
  },
  {
   "cell_type": "code",
   "execution_count": null,
   "metadata": {
    "hidden": true,
    "id": "xJYwSEDOsRa4"
   },
   "outputs": [],
   "source": []
  },
  {
   "cell_type": "code",
   "execution_count": null,
   "metadata": {
    "hidden": true,
    "id": "IThqJT81roqT"
   },
   "outputs": [],
   "source": []
  },
  {
   "cell_type": "markdown",
   "metadata": {
    "heading_collapsed": true,
    "hidden": true,
    "id": "W8EzCFE2Tn3o"
   },
   "source": [
    "#### without GridSearch"
   ]
  },
  {
   "cell_type": "code",
   "execution_count": null,
   "metadata": {
    "hidden": true,
    "id": "zz8UzrF1Tn3o"
   },
   "outputs": [],
   "source": [
    "model = LinearSVC(C=1, verbose=5, max_iter=10000)"
   ]
  },
  {
   "cell_type": "code",
   "execution_count": null,
   "metadata": {
    "hidden": true,
    "id": "T-Xp9pdTTn3o",
    "outputId": "4288370b-4060-423b-cee8-1a62506a3f6a"
   },
   "outputs": [
    {
     "name": "stdout",
     "output_type": "stream",
     "text": [
      "[LibLinear]Wall time: 1min 40s\n"
     ]
    },
    {
     "name": "stderr",
     "output_type": "stream",
     "text": [
      "C:\\Users\\Sina\\anaconda3\\lib\\site-packages\\sklearn\\svm\\_base.py:976: ConvergenceWarning: Liblinear failed to converge, increase the number of iterations.\n",
      "  warnings.warn(\"Liblinear failed to converge, increase \"\n"
     ]
    },
    {
     "data": {
      "text/plain": [
       "LinearSVC(C=1, max_iter=10000, verbose=5)"
      ]
     },
     "execution_count": 23,
     "metadata": {
      "tags": []
     },
     "output_type": "execute_result"
    }
   ],
   "source": [
    "%%time\n",
    "model.fit(train_set, train['label'])"
   ]
  },
  {
   "cell_type": "code",
   "execution_count": null,
   "metadata": {
    "hidden": true,
    "id": "uwwgHwH7Tn3o"
   },
   "outputs": [],
   "source": [
    "predeictios = model.predict(test_set)"
   ]
  },
  {
   "cell_type": "code",
   "execution_count": null,
   "metadata": {
    "hidden": true,
    "id": "9wk3JZ8lTn3o",
    "outputId": "f7588a36-0c65-49ad-d7c0-0d68df6389b3"
   },
   "outputs": [
    {
     "name": "stdout",
     "output_type": "stream",
     "text": [
      "[[1973  522]\n",
      " [ 396 2109]]\n"
     ]
    }
   ],
   "source": [
    "print(confusion_matrix(test['label'],predeictios))"
   ]
  },
  {
   "cell_type": "code",
   "execution_count": null,
   "metadata": {
    "hidden": true,
    "id": "qhU6glbcTn3p",
    "outputId": "35f35129-648b-4e8d-bb67-0c0b14c60444"
   },
   "outputs": [
    {
     "name": "stdout",
     "output_type": "stream",
     "text": [
      "              precision    recall  f1-score   support\n",
      "\n",
      "           0       0.83      0.79      0.81      2495\n",
      "           1       0.80      0.84      0.82      2505\n",
      "\n",
      "    accuracy                           0.82      5000\n",
      "   macro avg       0.82      0.82      0.82      5000\n",
      "weighted avg       0.82      0.82      0.82      5000\n",
      "\n"
     ]
    }
   ],
   "source": [
    "print(classification_report(test['label'],predeictios))"
   ]
  },
  {
   "cell_type": "code",
   "execution_count": null,
   "metadata": {
    "hidden": true,
    "id": "r9w7IFmzTn3p"
   },
   "outputs": [],
   "source": [
    "model10 = LinearSVC(C=10, verbose=5, max_iter=10000)"
   ]
  },
  {
   "cell_type": "code",
   "execution_count": null,
   "metadata": {
    "hidden": true,
    "id": "kB_QME3PTn3p",
    "outputId": "c1fc970f-8a01-4150-82b9-6e0384074dd3"
   },
   "outputs": [
    {
     "name": "stdout",
     "output_type": "stream",
     "text": [
      "[LibLinear]Wall time: 1min 51s\n"
     ]
    },
    {
     "name": "stderr",
     "output_type": "stream",
     "text": [
      "C:\\Users\\Sina\\anaconda3\\lib\\site-packages\\sklearn\\svm\\_base.py:976: ConvergenceWarning: Liblinear failed to converge, increase the number of iterations.\n",
      "  warnings.warn(\"Liblinear failed to converge, increase \"\n"
     ]
    },
    {
     "data": {
      "text/plain": [
       "LinearSVC(C=10, max_iter=10000, verbose=5)"
      ]
     },
     "execution_count": 30,
     "metadata": {
      "tags": []
     },
     "output_type": "execute_result"
    }
   ],
   "source": [
    "%%time\n",
    "model10.fit(train_set, train['label'])"
   ]
  },
  {
   "cell_type": "code",
   "execution_count": null,
   "metadata": {
    "hidden": true,
    "id": "cBN_ve0DTn3p"
   },
   "outputs": [],
   "source": [
    "predeictios10 = model10.predict(test_set)"
   ]
  },
  {
   "cell_type": "code",
   "execution_count": null,
   "metadata": {
    "hidden": true,
    "id": "wqg7XaDaTn3p",
    "outputId": "2c739078-cf84-4d70-8bbb-6d722aa3c60a"
   },
   "outputs": [
    {
     "name": "stdout",
     "output_type": "stream",
     "text": [
      "[[1974  521]\n",
      " [ 399 2106]]\n"
     ]
    }
   ],
   "source": [
    "print(confusion_matrix(test['label'],predeictios10))"
   ]
  },
  {
   "cell_type": "code",
   "execution_count": null,
   "metadata": {
    "hidden": true,
    "id": "4-PwSpqcTn3p",
    "outputId": "60baabea-5a32-48be-cd0a-454434c25ef4"
   },
   "outputs": [
    {
     "name": "stdout",
     "output_type": "stream",
     "text": [
      "              precision    recall  f1-score   support\n",
      "\n",
      "           0       0.83      0.79      0.81      2495\n",
      "           1       0.80      0.84      0.82      2505\n",
      "\n",
      "    accuracy                           0.82      5000\n",
      "   macro avg       0.82      0.82      0.82      5000\n",
      "weighted avg       0.82      0.82      0.82      5000\n",
      "\n"
     ]
    }
   ],
   "source": [
    "print(classification_report(test['label'],predeictios10))"
   ]
  },
  {
   "cell_type": "code",
   "execution_count": null,
   "metadata": {
    "hidden": true,
    "id": "NLlW_cVTRTdj"
   },
   "outputs": [],
   "source": []
  },
  {
   "cell_type": "markdown",
   "metadata": {
    "heading_collapsed": true,
    "id": "3TB15nGrRYBj"
   },
   "source": [
    "# TF idf"
   ]
  },
  {
   "cell_type": "markdown",
   "metadata": {
    "heading_collapsed": true,
    "hidden": true,
    "id": "JAqnHgVzaSVD"
   },
   "source": [
    "## Processing for TF idf"
   ]
  },
  {
   "cell_type": "code",
   "execution_count": null,
   "metadata": {
    "hidden": true,
    "id": "CE-fkOq1RdRR"
   },
   "outputs": [],
   "source": [
    "from sklearn.feature_extraction.text import TfidfVectorizer"
   ]
  },
  {
   "cell_type": "code",
   "execution_count": null,
   "metadata": {
    "hidden": true,
    "id": "rMyjDkOGRlaZ"
   },
   "outputs": [],
   "source": [
    "vectorizer = TfidfVectorizer(min_df=2000)"
   ]
  },
  {
   "cell_type": "code",
   "execution_count": null,
   "metadata": {
    "hidden": true,
    "id": "l0-3iCZJSyeC"
   },
   "outputs": [],
   "source": [
    "train_set = vectorizer.fit_transform(train['text'].values.tolist()).toarray()"
   ]
  },
  {
   "cell_type": "code",
   "execution_count": null,
   "metadata": {
    "hidden": true,
    "id": "T0wFsSlGS9lW"
   },
   "outputs": [],
   "source": [
    "valid_set = vectorizer.transform(valid['text'].values.tolist()).toarray()"
   ]
  },
  {
   "cell_type": "code",
   "execution_count": null,
   "metadata": {
    "hidden": true,
    "id": "Lxu7WcxuTDNB"
   },
   "outputs": [],
   "source": [
    "test_set = vectorizer.transform(test['text'].values.tolist()).toarray()"
   ]
  },
  {
   "cell_type": "code",
   "execution_count": null,
   "metadata": {
    "hidden": true,
    "id": "CbSpzSVOTS0e"
   },
   "outputs": [],
   "source": [
    "X = np.concatenate((train_set, valid_set))"
   ]
  },
  {
   "cell_type": "code",
   "execution_count": null,
   "metadata": {
    "hidden": true,
    "id": "zTrWccc-TfQn"
   },
   "outputs": [],
   "source": [
    "y = np.concatenate((train['label'], valid['label']))"
   ]
  },
  {
   "cell_type": "code",
   "execution_count": null,
   "metadata": {
    "hidden": true,
    "id": "h6M2jgdY6dX4"
   },
   "outputs": [],
   "source": []
  },
  {
   "cell_type": "markdown",
   "metadata": {
    "heading_collapsed": true,
    "hidden": true,
    "id": "w7AarWB06eS9"
   },
   "source": [
    "## Naive Bayes"
   ]
  },
  {
   "cell_type": "code",
   "execution_count": null,
   "metadata": {
    "hidden": true,
    "id": "-OGqZnWDXnux"
   },
   "outputs": [],
   "source": [
    "from sklearn.naive_bayes import MultinomialNB\n",
    "from sklearn.model_selection import GridSearchCV\n",
    "from sklearn.model_selection import PredefinedSplit"
   ]
  },
  {
   "cell_type": "code",
   "execution_count": null,
   "metadata": {
    "hidden": true,
    "id": "JNI5xRQaXnw8"
   },
   "outputs": [],
   "source": [
    "param_grid = {'alpha': list(np.arange(0.0001, 0.1, 0.0001))}"
   ]
  },
  {
   "cell_type": "code",
   "execution_count": null,
   "metadata": {
    "hidden": true,
    "id": "rAt5-B9eXnzJ"
   },
   "outputs": [],
   "source": [
    "test_fold = np.full(X.shape[0], -1)\n",
    "test_fold[40001: ] = 0"
   ]
  },
  {
   "cell_type": "code",
   "execution_count": null,
   "metadata": {
    "hidden": true,
    "id": "jCajTte1Xn1H"
   },
   "outputs": [],
   "source": [
    "ps = PredefinedSplit(test_fold)"
   ]
  },
  {
   "cell_type": "code",
   "execution_count": null,
   "metadata": {
    "hidden": true,
    "id": "NqO_4k6uXoio"
   },
   "outputs": [],
   "source": [
    "mnb = GridSearchCV(MultinomialNB(), param_grid, refit=True, verbose=5, n_jobs=3, cv=ps)"
   ]
  },
  {
   "cell_type": "code",
   "execution_count": null,
   "metadata": {
    "colab": {
     "base_uri": "https://localhost:8080/"
    },
    "hidden": true,
    "id": "NT2iPYnCXznJ",
    "outputId": "b30e5b93-ab3c-45d6-f685-ead9f85c6376"
   },
   "outputs": [
    {
     "name": "stdout",
     "output_type": "stream",
     "text": [
      "Fitting 1 folds for each of 999 candidates, totalling 999 fits\n"
     ]
    },
    {
     "name": "stderr",
     "output_type": "stream",
     "text": [
      "[Parallel(n_jobs=3)]: Using backend LokyBackend with 3 concurrent workers.\n",
      "[Parallel(n_jobs=3)]: Done  12 tasks      | elapsed:    0.9s\n",
      "[Parallel(n_jobs=3)]: Done  66 tasks      | elapsed:    4.3s\n",
      "[Parallel(n_jobs=3)]: Done 156 tasks      | elapsed:   10.1s\n",
      "[Parallel(n_jobs=3)]: Done 282 tasks      | elapsed:   18.1s\n",
      "[Parallel(n_jobs=3)]: Done 444 tasks      | elapsed:   28.4s\n",
      "[Parallel(n_jobs=3)]: Done 642 tasks      | elapsed:   41.0s\n",
      "[Parallel(n_jobs=3)]: Done 876 tasks      | elapsed:   55.9s\n",
      "[Parallel(n_jobs=3)]: Done 999 out of 999 | elapsed:  1.1min finished\n"
     ]
    },
    {
     "data": {
      "text/plain": [
       "GridSearchCV(cv=PredefinedSplit(test_fold=array([-1, -1, ...,  0,  0])),\n",
       "             error_score=nan,\n",
       "             estimator=MultinomialNB(alpha=1.0, class_prior=None,\n",
       "                                     fit_prior=True),\n",
       "             iid='deprecated', n_jobs=3,\n",
       "             param_grid={'alpha': [0.0001, 0.0002, 0.00030000000000000003,\n",
       "                                   0.0004, 0.0005, 0.0006000000000000001,\n",
       "                                   0.0007000000000000001, 0.0008,\n",
       "                                   0.0009000000000000001, 0.001, 0.0011,\n",
       "                                   0.0012000000000000001, 0.0013000000000000002,\n",
       "                                   0.0014000000000000002, 0.0015, 0.0016,\n",
       "                                   0.0017000000000000001, 0.0018000000000000002,\n",
       "                                   0.0019000000000000002, 0.002, 0.0021, 0.0022,\n",
       "                                   0.0023, 0.0024, 0.0025, 0.0026, 0.0027,\n",
       "                                   0.0028, 0.0029, 0.003, ...]},\n",
       "             pre_dispatch='2*n_jobs', refit=True, return_train_score=False,\n",
       "             scoring=None, verbose=5)"
      ]
     },
     "execution_count": 95,
     "metadata": {
      "tags": []
     },
     "output_type": "execute_result"
    }
   ],
   "source": [
    "mnb.fit(X, y)"
   ]
  },
  {
   "cell_type": "code",
   "execution_count": null,
   "metadata": {
    "colab": {
     "base_uri": "https://localhost:8080/"
    },
    "hidden": true,
    "id": "mOtUkFDsYBbz",
    "outputId": "c40e5ab5-7923-4d22-b15d-000adf0863c8"
   },
   "outputs": [
    {
     "data": {
      "text/plain": [
       "{'alpha': 0.0001}"
      ]
     },
     "execution_count": 97,
     "metadata": {
      "tags": []
     },
     "output_type": "execute_result"
    }
   ],
   "source": [
    "mnb.best_params_"
   ]
  },
  {
   "cell_type": "code",
   "execution_count": null,
   "metadata": {
    "hidden": true,
    "id": "oMSKCnjkYBfd"
   },
   "outputs": [],
   "source": [
    "predictions = mnb.predict(test_set)"
   ]
  },
  {
   "cell_type": "code",
   "execution_count": null,
   "metadata": {
    "hidden": true,
    "id": "Y9xEh3MSYBi9"
   },
   "outputs": [],
   "source": [
    "pred_prob = mnb.predict_proba(test_set)\n",
    "preds = pred_prob[:,1]"
   ]
  },
  {
   "cell_type": "code",
   "execution_count": null,
   "metadata": {
    "hidden": true,
    "id": "PdCeHwyrYBl9"
   },
   "outputs": [],
   "source": [
    "from sklearn.metrics import classification_report,confusion_matrix, roc_curve, auc"
   ]
  },
  {
   "cell_type": "code",
   "execution_count": null,
   "metadata": {
    "hidden": true,
    "id": "WNFJ-iZbX5cx"
   },
   "outputs": [],
   "source": [
    "fpr, tpr, threshold = roc_curve(test['label'], preds)\n",
    "roc_auc = auc(fpr, tpr)"
   ]
  },
  {
   "cell_type": "code",
   "execution_count": null,
   "metadata": {
    "colab": {
     "base_uri": "https://localhost:8080/",
     "height": 313
    },
    "hidden": true,
    "id": "Ft6Up6eUYTx0",
    "outputId": "e935e407-b1e3-41f9-fa95-6e66b930198b"
   },
   "outputs": [
    {
     "data": {
      "text/plain": [
       "Text(0.5, 0, 'False Positive Rate')"
      ]
     },
     "execution_count": 102,
     "metadata": {
      "tags": []
     },
     "output_type": "execute_result"
    },
    {
     "data": {
      "image/png": "[encoded data removed]",
      "text/plain": [
       "<Figure size 432x288 with 1 Axes>"
      ]
     },
     "metadata": {
      "needs_background": "light",
      "tags": []
     },
     "output_type": "display_data"
    }
   ],
   "source": [
    "import matplotlib.pyplot as plt\n",
    "plt.title('Receiver Operating Characteristic')\n",
    "plt.plot(fpr, tpr, 'b', label = 'AUC = %0.2f' % roc_auc)\n",
    "plt.legend(loc = 'lower right')\n",
    "plt.plot([0, 1], [0, 1],'r--')\n",
    "plt.xlim([0, 1])\n",
    "plt.ylim([0, 1])\n",
    "plt.ylabel('True Positive Rate')\n",
    "plt.xlabel('False Positive Rate')"
   ]
  },
  {
   "cell_type": "code",
   "execution_count": null,
   "metadata": {
    "colab": {
     "base_uri": "https://localhost:8080/"
    },
    "hidden": true,
    "id": "cjxO17biYfB6",
    "outputId": "90fba9b9-a100-433d-d94c-fd7d4584a2c8"
   },
   "outputs": [
    {
     "name": "stdout",
     "output_type": "stream",
     "text": [
      "[[1966  529]\n",
      " [ 416 2089]]\n"
     ]
    }
   ],
   "source": [
    "print(confusion_matrix(test['label'], predictions))"
   ]
  },
  {
   "cell_type": "code",
   "execution_count": null,
   "metadata": {
    "colab": {
     "base_uri": "https://localhost:8080/"
    },
    "hidden": true,
    "id": "GOJZXoCnYhsO",
    "outputId": "c59239fc-9fb8-4f62-d778-5ea8cf7c36ae"
   },
   "outputs": [
    {
     "name": "stdout",
     "output_type": "stream",
     "text": [
      "              precision    recall  f1-score   support\n",
      "\n",
      "           0       0.83      0.79      0.81      2495\n",
      "           1       0.80      0.83      0.82      2505\n",
      "\n",
      "    accuracy                           0.81      5000\n",
      "   macro avg       0.81      0.81      0.81      5000\n",
      "weighted avg       0.81      0.81      0.81      5000\n",
      "\n"
     ]
    }
   ],
   "source": [
    "print(classification_report(test['label'], predictions))"
   ]
  },
  {
   "cell_type": "markdown",
   "metadata": {
    "hidden": true,
    "id": "6OWZSN-fap8N"
   },
   "source": [
    "## Support Vector Machine"
   ]
  },
  {
   "cell_type": "code",
   "execution_count": null,
   "metadata": {
    "hidden": true,
    "id": "YWmWw0XTUUkx"
   },
   "outputs": [],
   "source": [
    "from sklearn.svm import SVC\n",
    "from sklearn.svm import LinearSVC\n",
    "from sklearn.model_selection import GridSearchCV\n",
    "from sklearn.model_selection import PredefinedSplit"
   ]
  },
  {
   "cell_type": "markdown",
   "metadata": {
    "heading_collapsed": true,
    "hidden": true,
    "id": "x0LVcbGvhdAT"
   },
   "source": [
    "### With Kernel"
   ]
  },
  {
   "cell_type": "markdown",
   "metadata": {
    "hidden": true,
    "id": "V70wdRXyaaK0"
   },
   "source": [
    "#### Grid Search"
   ]
  },
  {
   "cell_type": "code",
   "execution_count": null,
   "metadata": {
    "hidden": true,
    "id": "fRUf6-and-yi"
   },
   "outputs": [],
   "source": [
    "param_grid = {'C': [0.1, 1, 10], 'gamma': [1, 0.1, 0.01], 'kernel': ['rbf']} "
   ]
  },
  {
   "cell_type": "code",
   "execution_count": null,
   "metadata": {
    "hidden": true,
    "id": "mk5BhIquekUh"
   },
   "outputs": [],
   "source": [
    "test_fold = np.full(X.shape[0], -1)\n",
    "test_fold[40001: ] = 0"
   ]
  },
  {
   "cell_type": "code",
   "execution_count": null,
   "metadata": {
    "hidden": true,
    "id": "A-ASZ04NeoIg"
   },
   "outputs": [],
   "source": [
    "ps = PredefinedSplit(test_fold)"
   ]
  },
  {
   "cell_type": "code",
   "execution_count": null,
   "metadata": {
    "colab": {
     "base_uri": "https://localhost:8080/"
    },
    "hidden": true,
    "id": "MUohKSJCerqz",
    "outputId": "70eb0d93-d129-4dee-fe37-4a2f3dac8c0b"
   },
   "outputs": [
    {
     "data": {
      "text/plain": [
       "1"
      ]
     },
     "execution_count": 16,
     "metadata": {
      "tags": []
     },
     "output_type": "execute_result"
    }
   ],
   "source": [
    "ps.get_n_splits()"
   ]
  },
  {
   "cell_type": "code",
   "execution_count": null,
   "metadata": {
    "hidden": true,
    "id": "xU40PxZmexR-"
   },
   "outputs": [],
   "source": [
    "svm_with_kernel = GridSearchCV(SVC(), param_grid, refit=True, verbose=5, n_jobs=-1, cv=ps)"
   ]
  },
  {
   "cell_type": "code",
   "execution_count": null,
   "metadata": {
    "colab": {
     "base_uri": "https://localhost:8080/"
    },
    "hidden": true,
    "id": "4eJCLrEfe1A7",
    "outputId": "1ded8b62-7bbc-476d-d9e4-99fbcfb1ac96"
   },
   "outputs": [
    {
     "name": "stdout",
     "output_type": "stream",
     "text": [
      "Fitting 1 folds for each of 9 candidates, totalling 9 fits\n"
     ]
    },
    {
     "name": "stderr",
     "output_type": "stream",
     "text": [
      "[Parallel(n_jobs=-1)]: Using backend LokyBackend with 2 concurrent workers.\n",
      "[Parallel(n_jobs=-1)]: Done   9 out of   9 | elapsed: 104.1min finished\n"
     ]
    },
    {
     "name": "stdout",
     "output_type": "stream",
     "text": [
      "CPU times: user 21min 11s, sys: 557 ms, total: 21min 12s\n",
      "Wall time: 2h 5min 18s\n"
     ]
    },
    {
     "data": {
      "text/plain": [
       "GridSearchCV(cv=PredefinedSplit(test_fold=array([-1, -1, ...,  0,  0])),\n",
       "             error_score=nan,\n",
       "             estimator=SVC(C=1.0, break_ties=False, cache_size=200,\n",
       "                           class_weight=None, coef0=0.0,\n",
       "                           decision_function_shape='ovr', degree=3,\n",
       "                           gamma='scale', kernel='rbf', max_iter=-1,\n",
       "                           probability=False, random_state=None, shrinking=True,\n",
       "                           tol=0.001, verbose=False),\n",
       "             iid='deprecated', n_jobs=-1,\n",
       "             param_grid={'C': [0.1, 1, 10], 'gamma': [1, 0.1, 0.01],\n",
       "                         'kernel': ['rbf']},\n",
       "             pre_dispatch='2*n_jobs', refit=True, return_train_score=False,\n",
       "             scoring=None, verbose=5)"
      ]
     },
     "execution_count": 18,
     "metadata": {
      "tags": []
     },
     "output_type": "execute_result"
    }
   ],
   "source": [
    "%%time\n",
    "svm_with_kernel.fit(X, y)"
   ]
  },
  {
   "cell_type": "code",
   "execution_count": null,
   "metadata": {
    "colab": {
     "base_uri": "https://localhost:8080/"
    },
    "hidden": true,
    "id": "E2OPo3Ite4G7",
    "outputId": "c097bc0e-c2e6-4636-c8bb-6616c127403e"
   },
   "outputs": [
    {
     "data": {
      "text/plain": [
       "{'C': 1, 'gamma': 1, 'kernel': 'rbf'}"
      ]
     },
     "execution_count": 14,
     "metadata": {
      "tags": []
     },
     "output_type": "execute_result"
    }
   ],
   "source": [
    "svm_with_kernel.best_params_"
   ]
  },
  {
   "cell_type": "code",
   "execution_count": null,
   "metadata": {
    "hidden": true,
    "id": "8yg-ub-o9scB"
   },
   "outputs": [],
   "source": [
    "with open(\"/content/gdrive/My Drive/svm_with_kernel_TF_idf.pkl\", 'wb') as file:\n",
    "    pickle.dump(svm_with_kernel, file)"
   ]
  },
  {
   "cell_type": "code",
   "execution_count": null,
   "metadata": {
    "hidden": true,
    "id": "BPCU4Mge33DE"
   },
   "outputs": [],
   "source": [
    "model = SVC(C=1, gamma=1, probability=True)"
   ]
  },
  {
   "cell_type": "code",
   "execution_count": null,
   "metadata": {
    "colab": {
     "base_uri": "https://localhost:8080/"
    },
    "hidden": true,
    "id": "W4rbUTdE39Ij",
    "outputId": "1687649c-1bdb-4345-bd99-64fc358a6109"
   },
   "outputs": [
    {
     "name": "stdout",
     "output_type": "stream",
     "text": [
      "CPU times: user 1h 16min 10s, sys: 1.12 s, total: 1h 16min 11s\n",
      "Wall time: 1h 16min 13s\n"
     ]
    },
    {
     "data": {
      "text/plain": [
       "SVC(C=1, break_ties=False, cache_size=200, class_weight=None, coef0=0.0,\n",
       "    decision_function_shape='ovr', degree=3, gamma=1, kernel='rbf', max_iter=-1,\n",
       "    probability=True, random_state=None, shrinking=True, tol=0.001,\n",
       "    verbose=False)"
      ]
     },
     "execution_count": 19,
     "metadata": {
      "tags": []
     },
     "output_type": "execute_result"
    }
   ],
   "source": [
    "%%time\n",
    "model.fit(train_set, train['label'])"
   ]
  },
  {
   "cell_type": "code",
   "execution_count": null,
   "metadata": {
    "hidden": true,
    "id": "8Uky6k7w4IHG"
   },
   "outputs": [],
   "source": [
    "from sklearn.metrics import roc_curve, auc\n",
    "from sklearn.metrics import classification_report,confusion_matrix"
   ]
  },
  {
   "cell_type": "code",
   "execution_count": null,
   "metadata": {
    "hidden": true,
    "id": "H7GkEEnJKuBy"
   },
   "outputs": [],
   "source": [
    "pred_prob = model.predict_proba(test_set)"
   ]
  },
  {
   "cell_type": "code",
   "execution_count": null,
   "metadata": {
    "hidden": true,
    "id": "_oSrm0PJKzmF"
   },
   "outputs": [],
   "source": [
    "preds = pred_prob[:,1]"
   ]
  },
  {
   "cell_type": "code",
   "execution_count": null,
   "metadata": {
    "hidden": true,
    "id": "l3Ja7locKsXn"
   },
   "outputs": [],
   "source": [
    "fpr, tpr, threshold = roc_curve(test['label'], preds)\n",
    "roc_auc = auc(fpr, tpr)"
   ]
  },
  {
   "cell_type": "code",
   "execution_count": null,
   "metadata": {
    "colab": {
     "base_uri": "https://localhost:8080/",
     "height": 313
    },
    "hidden": true,
    "id": "VX2SySXGK-mg",
    "outputId": "7924e238-c8e9-4741-cc87-6d3a82e5c567"
   },
   "outputs": [
    {
     "data": {
      "text/plain": [
       "Text(0.5, 0, 'False Positive Rate')"
      ]
     },
     "execution_count": 24,
     "metadata": {
      "tags": []
     },
     "output_type": "execute_result"
    },
    {
     "data": {
      "image/png": "[encoded data removed]",
      "text/plain": [
       "<Figure size 432x288 with 1 Axes>"
      ]
     },
     "metadata": {
      "needs_background": "light",
      "tags": []
     },
     "output_type": "display_data"
    }
   ],
   "source": [
    "import matplotlib.pyplot as plt\n",
    "plt.title('Receiver Operating Characteristic')\n",
    "plt.plot(fpr, tpr, 'b', label = 'AUC = %0.2f' % roc_auc)\n",
    "plt.legend(loc = 'lower right')\n",
    "plt.plot([0, 1], [0, 1],'r--')\n",
    "plt.xlim([0, 1])\n",
    "plt.ylim([0, 1])\n",
    "plt.ylabel('True Positive Rate')\n",
    "plt.xlabel('False Positive Rate')"
   ]
  },
  {
   "cell_type": "code",
   "execution_count": null,
   "metadata": {
    "hidden": true,
    "id": "iN6yOn-8LPF8"
   },
   "outputs": [],
   "source": [
    "pred = model.predict(test_set)"
   ]
  },
  {
   "cell_type": "code",
   "execution_count": null,
   "metadata": {
    "colab": {
     "base_uri": "https://localhost:8080/"
    },
    "hidden": true,
    "id": "pTA5__0ILPVp",
    "outputId": "d676980a-0a32-4f91-d0df-e4c67b73472c"
   },
   "outputs": [
    {
     "name": "stdout",
     "output_type": "stream",
     "text": [
      "              precision    recall  f1-score   support\n",
      "\n",
      "           0       0.84      0.81      0.82      2495\n",
      "           1       0.82      0.84      0.83      2505\n",
      "\n",
      "    accuracy                           0.83      5000\n",
      "   macro avg       0.83      0.83      0.83      5000\n",
      "weighted avg       0.83      0.83      0.83      5000\n",
      "\n"
     ]
    }
   ],
   "source": [
    "print(classification_report(test['label'],pred))"
   ]
  },
  {
   "cell_type": "code",
   "execution_count": null,
   "metadata": {
    "colab": {
     "base_uri": "https://localhost:8080/"
    },
    "hidden": true,
    "id": "-YF1pLqjLPeI",
    "outputId": "bee47570-4bde-4c84-bae2-98c0a2d5cd06"
   },
   "outputs": [
    {
     "name": "stdout",
     "output_type": "stream",
     "text": [
      "[[2026  469]\n",
      " [ 400 2105]]\n"
     ]
    }
   ],
   "source": [
    "print(confusion_matrix(test['label'],pred))"
   ]
  },
  {
   "cell_type": "code",
   "execution_count": null,
   "metadata": {
    "hidden": true,
    "id": "guyUYP17LUls"
   },
   "outputs": [],
   "source": [
    "with open(\"/content/gdrive/My Drive/svm_with_kernelـTF_idfـPT.pkl\", 'wb') as file:\n",
    "    pickle.dump(model, file)"
   ]
  },
  {
   "cell_type": "markdown",
   "metadata": {
    "hidden": true,
    "id": "ybD7tATahdAb"
   },
   "source": [
    "### Without Kernel"
   ]
  },
  {
   "cell_type": "markdown",
   "metadata": {
    "hidden": true,
    "id": "jAdXVY3xhdAb"
   },
   "source": [
    "#### With GridSearch"
   ]
  },
  {
   "cell_type": "code",
   "execution_count": null,
   "metadata": {
    "hidden": true,
    "id": "WepkZaONin88"
   },
   "outputs": [],
   "source": [
    "from sklearn.metrics import classification_report,confusion_matrix, roc_curve, auc"
   ]
  },
  {
   "cell_type": "code",
   "execution_count": null,
   "metadata": {
    "hidden": true,
    "id": "P2rVoAi7hdAc"
   },
   "outputs": [],
   "source": [
    "param_grid = {'C': [0.01, 0.1, 1, 10], 'max_iter': [10000]}"
   ]
  },
  {
   "cell_type": "code",
   "execution_count": null,
   "metadata": {
    "hidden": true,
    "id": "HlqdkCASh9Yo"
   },
   "outputs": [],
   "source": [
    "test_fold = np.full(X.shape[0], -1)\n",
    "test_fold[40001: ] = 0"
   ]
  },
  {
   "cell_type": "code",
   "execution_count": null,
   "metadata": {
    "hidden": true,
    "id": "nXzjv95ih-ru"
   },
   "outputs": [],
   "source": [
    "ps = PredefinedSplit(test_fold)"
   ]
  },
  {
   "cell_type": "code",
   "execution_count": null,
   "metadata": {
    "hidden": true,
    "id": "PsV5j6o1iJE_"
   },
   "outputs": [],
   "source": [
    "svm_without_kernel = GridSearchCV(LinearSVC(), param_grid, refit=True, verbose=5, n_jobs=-1, cv=ps)"
   ]
  },
  {
   "cell_type": "code",
   "execution_count": null,
   "metadata": {
    "colab": {
     "base_uri": "https://localhost:8080/"
    },
    "hidden": true,
    "id": "U7ViZ5fWiL2O",
    "outputId": "70fc93ea-8733-4214-a776-96b3d59e1fab"
   },
   "outputs": [
    {
     "name": "stdout",
     "output_type": "stream",
     "text": [
      "Fitting 1 folds for each of 4 candidates, totalling 4 fits\n"
     ]
    },
    {
     "name": "stderr",
     "output_type": "stream",
     "text": [
      "[Parallel(n_jobs=-1)]: Using backend LokyBackend with 2 concurrent workers.\n",
      "[Parallel(n_jobs=-1)]: Done   2 out of   4 | elapsed:    1.4s remaining:    1.4s\n",
      "[Parallel(n_jobs=-1)]: Done   4 out of   4 | elapsed:    5.4s remaining:    0.0s\n",
      "[Parallel(n_jobs=-1)]: Done   4 out of   4 | elapsed:    5.4s finished\n"
     ]
    },
    {
     "name": "stdout",
     "output_type": "stream",
     "text": [
      "CPU times: user 317 ms, sys: 101 ms, total: 418 ms\n",
      "Wall time: 5.73 s\n"
     ]
    },
    {
     "data": {
      "text/plain": [
       "GridSearchCV(cv=PredefinedSplit(test_fold=array([-1, -1, ...,  0,  0])),\n",
       "             error_score=nan,\n",
       "             estimator=LinearSVC(C=1.0, class_weight=None, dual=True,\n",
       "                                 fit_intercept=True, intercept_scaling=1,\n",
       "                                 loss='squared_hinge', max_iter=1000,\n",
       "                                 multi_class='ovr', penalty='l2',\n",
       "                                 random_state=None, tol=0.0001, verbose=0),\n",
       "             iid='deprecated', n_jobs=-1,\n",
       "             param_grid={'C': [0.01, 0.1, 1, 10], 'max_iter': [10000]},\n",
       "             pre_dispatch='2*n_jobs', refit=True, return_train_score=False,\n",
       "             scoring=None, verbose=5)"
      ]
     },
     "execution_count": 24,
     "metadata": {
      "tags": []
     },
     "output_type": "execute_result"
    }
   ],
   "source": [
    "%%time\n",
    "svm_without_kernel.fit(X, y)"
   ]
  },
  {
   "cell_type": "code",
   "execution_count": null,
   "metadata": {
    "colab": {
     "base_uri": "https://localhost:8080/"
    },
    "hidden": true,
    "id": "G0RcKzPYiNVx",
    "outputId": "3d92ada1-64df-44d0-fca4-2c1048837d69"
   },
   "outputs": [
    {
     "data": {
      "text/plain": [
       "{'C': 0.1, 'max_iter': 10000}"
      ]
     },
     "execution_count": 25,
     "metadata": {
      "tags": []
     },
     "output_type": "execute_result"
    }
   ],
   "source": [
    "svm_without_kernel.best_params_"
   ]
  },
  {
   "cell_type": "code",
   "execution_count": null,
   "metadata": {
    "hidden": true,
    "id": "NX-eaH4AiQtb"
   },
   "outputs": [],
   "source": [
    "from sklearn.calibration import CalibratedClassifierCV"
   ]
  },
  {
   "cell_type": "code",
   "execution_count": null,
   "metadata": {
    "hidden": true,
    "id": "FmpDEFDjiSso"
   },
   "outputs": [],
   "source": [
    "svm = LinearSVC(C=0.1, max_iter=10000)"
   ]
  },
  {
   "cell_type": "code",
   "execution_count": null,
   "metadata": {
    "hidden": true,
    "id": "VegTm_AMiUQ0"
   },
   "outputs": [],
   "source": [
    " clf = CalibratedClassifierCV(svm)"
   ]
  },
  {
   "cell_type": "code",
   "execution_count": null,
   "metadata": {
    "colab": {
     "base_uri": "https://localhost:8080/"
    },
    "hidden": true,
    "id": "o6WdgbwriV2l",
    "outputId": "c9bd8c86-8460-4849-af8d-1c74b4aa2691"
   },
   "outputs": [
    {
     "data": {
      "text/plain": [
       "CalibratedClassifierCV(base_estimator=LinearSVC(C=0.1, class_weight=None,\n",
       "                                                dual=True, fit_intercept=True,\n",
       "                                                intercept_scaling=1,\n",
       "                                                loss='squared_hinge',\n",
       "                                                max_iter=10000,\n",
       "                                                multi_class='ovr', penalty='l2',\n",
       "                                                random_state=None, tol=0.0001,\n",
       "                                                verbose=0),\n",
       "                       cv=None, method='sigmoid')"
      ]
     },
     "execution_count": 29,
     "metadata": {
      "tags": []
     },
     "output_type": "execute_result"
    }
   ],
   "source": [
    "clf.fit(train_set, train['label'])"
   ]
  },
  {
   "cell_type": "code",
   "execution_count": null,
   "metadata": {
    "hidden": true,
    "id": "bfiy6FH_iXds"
   },
   "outputs": [],
   "source": [
    "pred_prob = clf.predict_proba(test_set)\n",
    "preds = pred_prob[:,1]"
   ]
  },
  {
   "cell_type": "code",
   "execution_count": null,
   "metadata": {
    "hidden": true,
    "id": "8xlmED8RiZeA"
   },
   "outputs": [],
   "source": [
    "fpr, tpr, threshold = roc_curve(test['label'], preds)\n",
    "roc_auc = auc(fpr, tpr)"
   ]
  },
  {
   "cell_type": "code",
   "execution_count": null,
   "metadata": {
    "colab": {
     "base_uri": "https://localhost:8080/",
     "height": 313
    },
    "hidden": true,
    "id": "e_V8fbw4iauV",
    "outputId": "7d75815b-b476-4c72-b9c6-0d4f46a45564"
   },
   "outputs": [
    {
     "data": {
      "text/plain": [
       "Text(0.5, 0, 'False Positive Rate')"
      ]
     },
     "execution_count": 34,
     "metadata": {
      "tags": []
     },
     "output_type": "execute_result"
    },
    {
     "data": {
      "image/png": "[encoded data removed]",
      "text/plain": [
       "<Figure size 432x288 with 1 Axes>"
      ]
     },
     "metadata": {
      "needs_background": "light",
      "tags": []
     },
     "output_type": "display_data"
    }
   ],
   "source": [
    "import matplotlib.pyplot as plt\n",
    "plt.title('Receiver Operating Characteristic')\n",
    "plt.plot(fpr, tpr, 'b', label = 'AUC = %0.2f' % roc_auc)\n",
    "plt.legend(loc = 'lower right')\n",
    "plt.plot([0, 1], [0, 1],'r--')\n",
    "plt.xlim([0, 1])\n",
    "plt.ylim([0, 1])\n",
    "plt.ylabel('True Positive Rate')\n",
    "plt.xlabel('False Positive Rate')"
   ]
  },
  {
   "cell_type": "code",
   "execution_count": null,
   "metadata": {
    "hidden": true,
    "id": "LLCU_etfitME"
   },
   "outputs": [],
   "source": [
    "pred = svm_without_kernel.predict(test_set)"
   ]
  },
  {
   "cell_type": "code",
   "execution_count": null,
   "metadata": {
    "colab": {
     "base_uri": "https://localhost:8080/"
    },
    "hidden": true,
    "id": "iVBkk7ycixFQ",
    "outputId": "2b455741-086a-4b53-e75a-02e0fc262979"
   },
   "outputs": [
    {
     "name": "stdout",
     "output_type": "stream",
     "text": [
      "              precision    recall  f1-score   support\n",
      "\n",
      "           0       0.83      0.81      0.82      2495\n",
      "           1       0.81      0.83      0.82      2505\n",
      "\n",
      "    accuracy                           0.82      5000\n",
      "   macro avg       0.82      0.82      0.82      5000\n",
      "weighted avg       0.82      0.82      0.82      5000\n",
      "\n"
     ]
    }
   ],
   "source": [
    "print(classification_report(test['label'],pred))"
   ]
  },
  {
   "cell_type": "code",
   "execution_count": null,
   "metadata": {
    "colab": {
     "base_uri": "https://localhost:8080/"
    },
    "hidden": true,
    "id": "xP00sj5sizDq",
    "outputId": "f282a1fb-1f50-45cb-ce1e-7307600e5cec"
   },
   "outputs": [
    {
     "name": "stdout",
     "output_type": "stream",
     "text": [
      "[[2014  481]\n",
      " [ 417 2088]]\n"
     ]
    }
   ],
   "source": [
    "print(confusion_matrix(test['label'],pred))"
   ]
  },
  {
   "cell_type": "markdown",
   "metadata": {
    "heading_collapsed": true,
    "id": "FKar9l9KKaRC"
   },
   "source": [
    "# Bert"
   ]
  },
  {
   "cell_type": "markdown",
   "metadata": {
    "heading_collapsed": true,
    "hidden": true,
    "id": "RlgmEf4lEJQt"
   },
   "source": [
    "## Preprocessing"
   ]
  },
  {
   "cell_type": "code",
   "execution_count": 10,
   "metadata": {
    "colab": {
     "base_uri": "https://localhost:8080/"
    },
    "hidden": true,
    "id": "L3MgNblRKxWO",
    "outputId": "559570f5-1529-431a-a06f-aa1e05dd80b7"
   },
   "outputs": [
    {
     "name": "stdout",
     "output_type": "stream",
     "text": [
      "Collecting transformers\n",
      "\u001b[?25l  Downloading https://files.pythonhosted.org/packages/ed/db/98c3ea1a78190dac41c0127a063abf92bd01b4b0b6970a6db1c2f5b66fa0/transformers-4.0.1-py3-none-any.whl (1.4MB)\n",
      "\u001b[K     |████████████████████████████████| 1.4MB 13.7MB/s \n",
      "\u001b[?25hCollecting tokenizers==0.9.4\n",
      "\u001b[?25l  Downloading https://files.pythonhosted.org/packages/0f/1c/e789a8b12e28be5bc1ce2156cf87cb522b379be9cadc7ad8091a4cc107c4/tokenizers-0.9.4-cp36-cp36m-manylinux2010_x86_64.whl (2.9MB)\n",
      "\u001b[K     |████████████████████████████████| 2.9MB 56.5MB/s \n",
      "\u001b[?25hRequirement already satisfied: requests in /usr/local/lib/python3.6/dist-packages (from transformers) (2.23.0)\n",
      "Requirement already satisfied: numpy in /usr/local/lib/python3.6/dist-packages (from transformers) (1.18.5)\n",
      "Requirement already satisfied: dataclasses; python_version < \"3.7\" in /usr/local/lib/python3.6/dist-packages (from transformers) (0.8)\n",
      "Requirement already satisfied: packaging in /usr/local/lib/python3.6/dist-packages (from transformers) (20.7)\n",
      "Requirement already satisfied: filelock in /usr/local/lib/python3.6/dist-packages (from transformers) (3.0.12)\n",
      "Collecting sacremoses\n",
      "\u001b[?25l  Downloading https://files.pythonhosted.org/packages/7d/34/09d19aff26edcc8eb2a01bed8e98f13a1537005d31e95233fd48216eed10/sacremoses-0.0.43.tar.gz (883kB)\n",
      "\u001b[K     |████████████████████████████████| 890kB 51.6MB/s \n",
      "\u001b[?25hRequirement already satisfied: regex!=2019.12.17 in /usr/local/lib/python3.6/dist-packages (from transformers) (2019.12.20)\n",
      "Requirement already satisfied: tqdm>=4.27 in /usr/local/lib/python3.6/dist-packages (from transformers) (4.41.1)\n",
      "Requirement already satisfied: idna<3,>=2.5 in /usr/local/lib/python3.6/dist-packages (from requests->transformers) (2.10)\n",
      "Requirement already satisfied: urllib3!=1.25.0,!=1.25.1,<1.26,>=1.21.1 in /usr/local/lib/python3.6/dist-packages (from requests->transformers) (1.24.3)\n",
      "Requirement already satisfied: certifi>=2017.4.17 in /usr/local/lib/python3.6/dist-packages (from requests->transformers) (2020.12.5)\n",
      "Requirement already satisfied: chardet<4,>=3.0.2 in /usr/local/lib/python3.6/dist-packages (from requests->transformers) (3.0.4)\n",
      "Requirement already satisfied: pyparsing>=2.0.2 in /usr/local/lib/python3.6/dist-packages (from packaging->transformers) (2.4.7)\n",
      "Requirement already satisfied: six in /usr/local/lib/python3.6/dist-packages (from sacremoses->transformers) (1.15.0)\n",
      "Requirement already satisfied: click in /usr/local/lib/python3.6/dist-packages (from sacremoses->transformers) (7.1.2)\n",
      "Requirement already satisfied: joblib in /usr/local/lib/python3.6/dist-packages (from sacremoses->transformers) (0.17.0)\n",
      "Building wheels for collected packages: sacremoses\n",
      "  Building wheel for sacremoses (setup.py) ... \u001b[?25l\u001b[?25hdone\n",
      "  Created wheel for sacremoses: filename=sacremoses-0.0.43-cp36-none-any.whl size=893261 sha256=ce5886c52fa83e3935d09acd4288dee2c821edaddf5064fc4aea754138a7c86d\n",
      "  Stored in directory: /root/.cache/pip/wheels/29/3c/fd/7ce5c3f0666dab31a50123635e6fb5e19ceb42ce38d4e58f45\n",
      "Successfully built sacremoses\n",
      "Installing collected packages: tokenizers, sacremoses, transformers\n",
      "Successfully installed sacremoses-0.0.43 tokenizers-0.9.4 transformers-4.0.1\n"
     ]
    }
   ],
   "source": [
    "!pip install transformers"
   ]
  },
  {
   "cell_type": "code",
   "execution_count": 11,
   "metadata": {
    "hidden": true,
    "id": "xxxKzmhdMbh5"
   },
   "outputs": [],
   "source": [
    "import torch\n",
    "import transformers as ppb\n",
    "# import warnings\n",
    "# warnings.filterwarnings('ignore')"
   ]
  },
  {
   "cell_type": "code",
   "execution_count": 12,
   "metadata": {
    "colab": {
     "base_uri": "https://localhost:8080/",
     "height": 167,
     "referenced_widgets": [
      "81c2870ac1bd453bbea8d717dd34314e",
      "b03610bc2ead462a829ac62a0d3ce6db",
      "b32a2e86b8174a8f898a7f33cda8fcaa",
      "cee1f46ca92f4678b145ff5fad942150",
      "35f1f88a42e94181ab0eea62d42cde24",
      "4f92e69bb1ed48cc97786c6de8eaf309",
      "c19726e00f7a49f4ac02cebbcb5b7a55",
      "9139c93387ad4f6fb0a340b513c89919",
      "8a036fb37a454e67851bd773f56386f0",
      "c1c011efcc6e483caf01da5691c20b36",
      "fbebab0a3ae14ad9a34744cee3feaf9f",
      "dc21ff5d508a431ca9ce3589fabeb19b",
      "213d28706c3742718097d28f3c1ce955",
      "f4f2e40eaac44947af3c8dd9afb7fde6",
      "25dceb088a1f435c9c6a8346fec76b01",
      "5f14f81257cc4d04b4dedcded6f71957",
      "f6a2bab9286f42d9b4245eb9ad11bd9e",
      "963fe17a3e564a21975aa1eb05f70283",
      "e6434d63eb5843ba9f0587b4351e6867",
      "6bc6cde360f34331b45c13df55e16206",
      "705f930baf9f475cbdb9ed351f269355",
      "f1f75e51e70745dbb4b15a8cb66b5fdf",
      "dbe83d7926254f4d875a9d9dcdd44b3b",
      "d46f91beafdd42b19bd407095a020972"
     ]
    },
    "hidden": true,
    "id": "6E3vrALfKcdr",
    "outputId": "d674d712-17c2-49ca-fa0e-138eea47ec53"
   },
   "outputs": [
    {
     "data": {
      "application/vnd.jupyter.widget-view+json": {
       "model_id": "81c2870ac1bd453bbea8d717dd34314e",
       "version_major": 2,
       "version_minor": 0
      },
      "text/plain": [
       "HBox(children=(FloatProgress(value=0.0, description='Downloading', max=231508.0, style=ProgressStyle(descripti…"
      ]
     },
     "metadata": {
      "tags": []
     },
     "output_type": "display_data"
    },
    {
     "name": "stdout",
     "output_type": "stream",
     "text": [
      "\n"
     ]
    },
    {
     "data": {
      "application/vnd.jupyter.widget-view+json": {
       "model_id": "8a036fb37a454e67851bd773f56386f0",
       "version_major": 2,
       "version_minor": 0
      },
      "text/plain": [
       "HBox(children=(FloatProgress(value=0.0, description='Downloading', max=442.0, style=ProgressStyle(description_…"
      ]
     },
     "metadata": {
      "tags": []
     },
     "output_type": "display_data"
    },
    {
     "name": "stdout",
     "output_type": "stream",
     "text": [
      "\n"
     ]
    },
    {
     "data": {
      "application/vnd.jupyter.widget-view+json": {
       "model_id": "f6a2bab9286f42d9b4245eb9ad11bd9e",
       "version_major": 2,
       "version_minor": 0
      },
      "text/plain": [
       "HBox(children=(FloatProgress(value=0.0, description='Downloading', max=267967963.0, style=ProgressStyle(descri…"
      ]
     },
     "metadata": {
      "tags": []
     },
     "output_type": "display_data"
    },
    {
     "name": "stdout",
     "output_type": "stream",
     "text": [
      "\n"
     ]
    }
   ],
   "source": [
    "# model_class, tokenizer_class, pretrained_weights = (ppb.BertModel, ppb.BertTokenizer, 'bert-base-uncased')\n",
    "model_class, tokenizer_class, pretrained_weights = (ppb.DistilBertModel, ppb.DistilBertTokenizer, 'distilbert-base-uncased')\n",
    "tokenizer = tokenizer_class.from_pretrained(pretrained_weights)\n",
    "model = model_class.from_pretrained(pretrained_weights)"
   ]
  },
  {
   "cell_type": "markdown",
   "metadata": {
    "heading_collapsed": true,
    "hidden": true,
    "id": "xfsPMSThKN87"
   },
   "source": [
    "### Train set Preprocessing"
   ]
  },
  {
   "cell_type": "code",
   "execution_count": 22,
   "metadata": {
    "hidden": true,
    "id": "VeQgvGHeQT9C"
   },
   "outputs": [],
   "source": [
    "tokenized = train['text'].apply((lambda x: tokenizer.encode(x,add_special_tokens=True, truncation=True, max_length=512)))"
   ]
  },
  {
   "cell_type": "code",
   "execution_count": 23,
   "metadata": {
    "hidden": true,
    "id": "TS4BCUDLl6Tt"
   },
   "outputs": [],
   "source": [
    "max_len = 0\n",
    "for i in tokenized.values:\n",
    "    if len(i) > max_len:\n",
    "        max_len = len(i)\n",
    "\n",
    "padded = np.array([i + [0]*(max_len-len(i)) for i in tokenized.values])"
   ]
  },
  {
   "cell_type": "code",
   "execution_count": 24,
   "metadata": {
    "colab": {
     "base_uri": "https://localhost:8080/"
    },
    "hidden": true,
    "id": "-9_bW6gXy8sE",
    "outputId": "8c2576e6-4f8a-4ab5-92bc-e91ed4404ddb"
   },
   "outputs": [
    {
     "data": {
      "text/plain": [
       "(40000, 512)"
      ]
     },
     "execution_count": 24,
     "metadata": {
      "tags": []
     },
     "output_type": "execute_result"
    }
   ],
   "source": [
    "np.array(padded).shape"
   ]
  },
  {
   "cell_type": "code",
   "execution_count": 25,
   "metadata": {
    "colab": {
     "base_uri": "https://localhost:8080/"
    },
    "hidden": true,
    "id": "S4DPt04oy_gR",
    "outputId": "e71a8fed-7ead-4882-f79c-ef9295612576"
   },
   "outputs": [
    {
     "data": {
      "text/plain": [
       "(40000, 512)"
      ]
     },
     "execution_count": 25,
     "metadata": {
      "tags": []
     },
     "output_type": "execute_result"
    }
   ],
   "source": [
    "attention_mask = np.where(padded != 0, 1, 0)\n",
    "attention_mask.shape"
   ]
  },
  {
   "cell_type": "code",
   "execution_count": 26,
   "metadata": {
    "hidden": true,
    "id": "jfVosxtQ2JjD"
   },
   "outputs": [],
   "source": [
    "input_ids = torch.tensor(padded)  \n",
    "attention_mask = torch.tensor(attention_mask)"
   ]
  },
  {
   "cell_type": "code",
   "execution_count": null,
   "metadata": {
    "hidden": true,
    "id": "vZOIKgc4inVb"
   },
   "outputs": [],
   "source": [
    "last_hidden_states = np.zeros((40000, 768))"
   ]
  },
  {
   "cell_type": "code",
   "execution_count": null,
   "metadata": {
    "colab": {
     "base_uri": "https://localhost:8080/"
    },
    "hidden": true,
    "id": "rz3THWwa6ll6",
    "outputId": "d1620736-214d-42c2-fe85-efc50fd76ef6"
   },
   "outputs": [
    {
     "name": "stdout",
     "output_type": "stream",
     "text": [
      "CPU times: user 2h 4min 7s, sys: 21.5 s, total: 2h 4min 28s\n",
      "Wall time: 2h 4min 30s\n"
     ]
    }
   ],
   "source": [
    "%%time\n",
    "with torch.no_grad():\n",
    "  for i in range(0, 10000, 5):\n",
    "  # for i in range(0, 41, 5):\n",
    "    last_hidden_states[i:i+5] = model(input_ids[i:i+5], attention_mask=attention_mask[i:i+5])[0][:,0,:].numpy()"
   ]
  },
  {
   "cell_type": "code",
   "execution_count": null,
   "metadata": {
    "hidden": true,
    "id": "ZRdqKQMX65eu"
   },
   "outputs": [],
   "source": [
    "with open('/content/gdrive/My Drive/Data/last_hidden_states1.npy', 'wb') as f:\n",
    "    np.save(f, last_hidden_states)"
   ]
  },
  {
   "cell_type": "code",
   "execution_count": null,
   "metadata": {
    "colab": {
     "base_uri": "https://localhost:8080/"
    },
    "hidden": true,
    "id": "lChkzkJ5FyuX",
    "outputId": "15e731fa-0720-431e-adcb-68ce1750b909"
   },
   "outputs": [
    {
     "name": "stdout",
     "output_type": "stream",
     "text": [
      "CPU times: user 2h 7s, sys: 35.2 s, total: 2h 42s\n",
      "Wall time: 2h 45s\n"
     ]
    }
   ],
   "source": [
    "%%time\n",
    "with torch.no_grad():\n",
    "  for i in range(10000, 20000, 5):\n",
    "  # for i in range(0, 41, 5):\n",
    "    last_hidden_states[i:i+5] = model(input_ids[i:i+5], attention_mask=attention_mask[i:i+5])[0][:,0,:].numpy()\n",
    "\n",
    "with open('/content/gdrive/My Drive/Data/last_hidden_states2.npy', 'wb') as f:\n",
    "    np.save(f, last_hidden_states)"
   ]
  },
  {
   "cell_type": "code",
   "execution_count": null,
   "metadata": {
    "colab": {
     "base_uri": "https://localhost:8080/"
    },
    "hidden": true,
    "id": "vuyp79F8GF3W",
    "outputId": "d07fe40f-b22b-42da-f973-ebd957678680"
   },
   "outputs": [
    {
     "name": "stdout",
     "output_type": "stream",
     "text": [
      "CPU times: user 2h 11min 58s, sys: 36 s, total: 2h 12min 34s\n",
      "Wall time: 2h 12min 37s\n"
     ]
    }
   ],
   "source": [
    "%%time\n",
    "with torch.no_grad():\n",
    "  for i in range(20000, 30000, 5):\n",
    "  # for i in range(0, 41, 5):\n",
    "    last_hidden_states[i:i+5] = model(input_ids[i:i+5], attention_mask=attention_mask[i:i+5])[0][:,0,:].numpy()\n",
    "\n",
    "with open('/content/gdrive/My Drive/Data/last_hidden_states3.npy', 'wb') as f:\n",
    "    np.save(f, last_hidden_states)"
   ]
  },
  {
   "cell_type": "code",
   "execution_count": 27,
   "metadata": {
    "colab": {
     "base_uri": "https://localhost:8080/"
    },
    "hidden": true,
    "id": "uECNqT1fF0MY",
    "outputId": "6c43d0f9-d37b-4f50-d6e1-886a43d09bd6"
   },
   "outputs": [
    {
     "name": "stdout",
     "output_type": "stream",
     "text": [
      "CPU times: user 2h 1min 21s, sys: 25.6 s, total: 2h 1min 46s\n",
      "Wall time: 2h 1min 48s\n"
     ]
    }
   ],
   "source": [
    "%%time\n",
    "with torch.no_grad():\n",
    "  for i in range(30000, 40000, 5):\n",
    "  # for i in range(0, 41, 5):\n",
    "    last_hidden_states[i:i+5] = model(input_ids[i:i+5], attention_mask=attention_mask[i:i+5])[0][:,0,:].numpy()\n"
   ]
  },
  {
   "cell_type": "code",
   "execution_count": 29,
   "metadata": {
    "hidden": true,
    "id": "9cGEyGWRmsOO"
   },
   "outputs": [],
   "source": [
    "with open('/content/gdrive/My Drive/Data/last_hidden_states_final_False.npy', 'wb') as f:\n",
    "  np.save(f, last_hidden_states, allow_pickle=False)"
   ]
  },
  {
   "cell_type": "code",
   "execution_count": null,
   "metadata": {
    "hidden": true,
    "id": "6Wzm_jPXREuN"
   },
   "outputs": [],
   "source": []
  },
  {
   "cell_type": "markdown",
   "metadata": {
    "heading_collapsed": true,
    "hidden": true,
    "id": "KdYEiwBRKYak"
   },
   "source": [
    "### Validation set Preprocessing"
   ]
  },
  {
   "cell_type": "code",
   "execution_count": null,
   "metadata": {
    "hidden": true,
    "id": "jjZNm84HKrC2"
   },
   "outputs": [],
   "source": [
    "val_tokenized = valid['text'].apply((lambda x: tokenizer.encode(x,add_special_tokens=True, truncation=True, max_length=512)))"
   ]
  },
  {
   "cell_type": "code",
   "execution_count": null,
   "metadata": {
    "hidden": true,
    "id": "zRX_-Klyn_0r"
   },
   "outputs": [],
   "source": [
    "max_len = 0\n",
    "for i in val_tokenized.values:\n",
    "    if len(i) > max_len:\n",
    "        max_len = len(i)\n",
    "\n",
    "val_padded = np.array([i + [0]*(max_len-len(i)) for i in val_tokenized.values])"
   ]
  },
  {
   "cell_type": "code",
   "execution_count": null,
   "metadata": {
    "colab": {
     "base_uri": "https://localhost:8080/"
    },
    "hidden": true,
    "id": "VTfDVQsjoMnR",
    "outputId": "2cad40a9-feb1-4469-c678-432dba210f15"
   },
   "outputs": [
    {
     "data": {
      "text/plain": [
       "(5000, 512)"
      ]
     },
     "execution_count": 51,
     "metadata": {
      "tags": []
     },
     "output_type": "execute_result"
    }
   ],
   "source": [
    "np.array(val_padded).shape"
   ]
  },
  {
   "cell_type": "code",
   "execution_count": null,
   "metadata": {
    "colab": {
     "base_uri": "https://localhost:8080/"
    },
    "hidden": true,
    "id": "ToSoRIH-oU3M",
    "outputId": "8e8bfcd9-0aa0-4681-afc3-fba497cb5599"
   },
   "outputs": [
    {
     "data": {
      "text/plain": [
       "(5000, 512)"
      ]
     },
     "execution_count": 52,
     "metadata": {
      "tags": []
     },
     "output_type": "execute_result"
    }
   ],
   "source": [
    "val_attention_mask = np.where(val_padded != 0, 1, 0)\n",
    "val_attention_mask.shape"
   ]
  },
  {
   "cell_type": "code",
   "execution_count": null,
   "metadata": {
    "hidden": true,
    "id": "LL-mkbxAoevZ"
   },
   "outputs": [],
   "source": [
    "val_input_ids = torch.tensor(val_padded)  \n",
    "val_attention_mask = torch.tensor(val_attention_mask)"
   ]
  },
  {
   "cell_type": "code",
   "execution_count": null,
   "metadata": {
    "hidden": true,
    "id": "Z2cSEG7eomkr"
   },
   "outputs": [],
   "source": [
    "val_last_hidden_states = np.zeros((5000, 768))"
   ]
  },
  {
   "cell_type": "code",
   "execution_count": null,
   "metadata": {
    "colab": {
     "base_uri": "https://localhost:8080/"
    },
    "hidden": true,
    "id": "rI3L_2sZo5_I",
    "outputId": "0d5647b1-fa15-4e75-8196-32068211011a"
   },
   "outputs": [
    {
     "name": "stdout",
     "output_type": "stream",
     "text": [
      "CPU times: user 54min 22s, sys: 17.1 s, total: 54min 39s\n",
      "Wall time: 54min 41s\n"
     ]
    }
   ],
   "source": [
    "%%time\n",
    "with torch.no_grad():\n",
    "  for i in range(0, 5000, 5):\n",
    "    val_last_hidden_states[i:i+5] = model(val_input_ids[i:i+5], attention_mask=val_attention_mask[i:i+5])[0][:,0,:].numpy()"
   ]
  },
  {
   "cell_type": "code",
   "execution_count": null,
   "metadata": {
    "hidden": true,
    "id": "E3iF2SCJo1sb"
   },
   "outputs": [],
   "source": [
    "with open('/content/gdrive/My Drive/Data/val_last_hidden_states_final.npy', 'wb') as f:\n",
    "  np.save(f, val_last_hidden_states)"
   ]
  },
  {
   "cell_type": "code",
   "execution_count": 32,
   "metadata": {
    "hidden": true,
    "id": "L0J6a_tFRYai"
   },
   "outputs": [],
   "source": [
    "with open('/content/gdrive/My Drive/Data/val_last_hidden_states_final.npy', 'rb') as f:\n",
    "  val_last_hidden_states = np.load(f)"
   ]
  },
  {
   "cell_type": "code",
   "execution_count": null,
   "metadata": {
    "hidden": true,
    "id": "NyXWK7UVReWN"
   },
   "outputs": [],
   "source": []
  },
  {
   "cell_type": "markdown",
   "metadata": {
    "heading_collapsed": true,
    "hidden": true,
    "id": "aMpOEnQT2EwH"
   },
   "source": [
    "### Test set Preprocessing"
   ]
  },
  {
   "cell_type": "code",
   "execution_count": null,
   "metadata": {
    "hidden": true,
    "id": "5Gnbacxu2FiR"
   },
   "outputs": [],
   "source": [
    "test_tokenized = test['text'].apply((lambda x: tokenizer.encode(x,add_special_tokens=True, truncation=True, max_length=512)))"
   ]
  },
  {
   "cell_type": "code",
   "execution_count": null,
   "metadata": {
    "hidden": true,
    "id": "M_aiU_Ij2Kkf"
   },
   "outputs": [],
   "source": [
    "max_len = 0\n",
    "for i in test_tokenized.values:\n",
    "    if len(i) > max_len:\n",
    "        max_len = len(i)\n",
    "\n",
    "test_padded = np.array([i + [0]*(max_len-len(i)) for i in test_tokenized.values])"
   ]
  },
  {
   "cell_type": "code",
   "execution_count": null,
   "metadata": {
    "colab": {
     "base_uri": "https://localhost:8080/"
    },
    "hidden": true,
    "id": "3pU-kImG2Pby",
    "outputId": "b8907c9e-2023-4276-b864-65b122b049bc"
   },
   "outputs": [
    {
     "data": {
      "text/plain": [
       "(5000, 512)"
      ]
     },
     "execution_count": 59,
     "metadata": {
      "tags": []
     },
     "output_type": "execute_result"
    }
   ],
   "source": [
    "np.array(test_padded).shape"
   ]
  },
  {
   "cell_type": "code",
   "execution_count": null,
   "metadata": {
    "colab": {
     "base_uri": "https://localhost:8080/"
    },
    "hidden": true,
    "id": "UxMyEqVP2XkM",
    "outputId": "e76fe7b2-2bff-4158-9b84-4667ba801693"
   },
   "outputs": [
    {
     "data": {
      "text/plain": [
       "(5000, 512)"
      ]
     },
     "execution_count": 60,
     "metadata": {
      "tags": []
     },
     "output_type": "execute_result"
    }
   ],
   "source": [
    "test_attention_mask = np.where(test_padded != 0, 1, 0)\n",
    "test_attention_mask.shape"
   ]
  },
  {
   "cell_type": "code",
   "execution_count": null,
   "metadata": {
    "hidden": true,
    "id": "dS3zgfXu2eWy"
   },
   "outputs": [],
   "source": [
    "test_input_ids = torch.tensor(test_padded)  \n",
    "test_attention_mask = torch.tensor(test_attention_mask)"
   ]
  },
  {
   "cell_type": "code",
   "execution_count": null,
   "metadata": {
    "hidden": true,
    "id": "pTE2sqC02nlV"
   },
   "outputs": [],
   "source": [
    "test_last_hidden_states = np.zeros((5000, 768))"
   ]
  },
  {
   "cell_type": "code",
   "execution_count": null,
   "metadata": {
    "colab": {
     "base_uri": "https://localhost:8080/"
    },
    "hidden": true,
    "id": "ORNmGvbM2rhL",
    "outputId": "a478c49c-add4-487b-a7bb-aa2713cf1839"
   },
   "outputs": [
    {
     "name": "stdout",
     "output_type": "stream",
     "text": [
      "CPU times: user 54min 35s, sys: 16.8 s, total: 54min 52s\n",
      "Wall time: 54min 53s\n"
     ]
    }
   ],
   "source": [
    "%%time\n",
    "with torch.no_grad():\n",
    "  for i in range(0, 5000, 5):\n",
    "    test_last_hidden_states[i:i+5] = model(test_input_ids[i:i+5], attention_mask=test_attention_mask[i:i+5])[0][:,0,:].numpy()"
   ]
  },
  {
   "cell_type": "code",
   "execution_count": null,
   "metadata": {
    "hidden": true,
    "id": "vfKmikba2XvO"
   },
   "outputs": [],
   "source": [
    "with open('/content/gdrive/My Drive/Data/test_last_hidden_states_final.npy', 'wb') as f:\n",
    "  np.save(f, test_last_hidden_states)"
   ]
  },
  {
   "cell_type": "code",
   "execution_count": 33,
   "metadata": {
    "hidden": true,
    "id": "5ogv3DoU2X21"
   },
   "outputs": [],
   "source": [
    "with open('/content/gdrive/My Drive/Data/test_last_hidden_states_final.npy', 'rb') as f:\n",
    "  test_last_hidden_states = np.load(f)"
   ]
  },
  {
   "cell_type": "code",
   "execution_count": null,
   "metadata": {
    "hidden": true,
    "id": "4zJ37tBwRkxO"
   },
   "outputs": [],
   "source": []
  },
  {
   "cell_type": "markdown",
   "metadata": {
    "heading_collapsed": true,
    "hidden": true,
    "id": "mKAo1C_LEslH"
   },
   "source": [
    "## Naive Bayes"
   ]
  },
  {
   "cell_type": "code",
   "execution_count": 42,
   "metadata": {
    "hidden": true,
    "id": "8WDtaR3OEu9Y"
   },
   "outputs": [],
   "source": [
    "from sklearn.naive_bayes import GaussianNB"
   ]
  },
  {
   "cell_type": "code",
   "execution_count": 45,
   "metadata": {
    "hidden": true,
    "id": "eZJSJAn2FioB"
   },
   "outputs": [],
   "source": [
    "gnb = GaussianNB()"
   ]
  },
  {
   "cell_type": "code",
   "execution_count": 46,
   "metadata": {
    "colab": {
     "base_uri": "https://localhost:8080/"
    },
    "hidden": true,
    "id": "8IF6kDEdFmcn",
    "outputId": "0f1dce23-fd5d-489c-8b1a-1e6674676895"
   },
   "outputs": [
    {
     "data": {
      "text/plain": [
       "GaussianNB(priors=None, var_smoothing=1e-09)"
      ]
     },
     "execution_count": 46,
     "metadata": {
      "tags": []
     },
     "output_type": "execute_result"
    }
   ],
   "source": [
    "gnb.fit(last_hidden_states, train['label'])"
   ]
  },
  {
   "cell_type": "code",
   "execution_count": 47,
   "metadata": {
    "hidden": true,
    "id": "kkAguXksFvj8"
   },
   "outputs": [],
   "source": [
    "predictions = gnb.predict(test_last_hidden_states)"
   ]
  },
  {
   "cell_type": "code",
   "execution_count": 50,
   "metadata": {
    "hidden": true,
    "id": "AOxPes-WF1TG"
   },
   "outputs": [],
   "source": [
    "pred_prob = gnb.predict_proba(test_last_hidden_states)\n",
    "preds = pred_prob[:,1]"
   ]
  },
  {
   "cell_type": "code",
   "execution_count": 51,
   "metadata": {
    "hidden": true,
    "id": "xEjXx7a3F5fM"
   },
   "outputs": [],
   "source": [
    "from sklearn.metrics import classification_report,confusion_matrix, roc_curve, auc"
   ]
  },
  {
   "cell_type": "code",
   "execution_count": 52,
   "metadata": {
    "hidden": true,
    "id": "jsp4XjPxF7Wh"
   },
   "outputs": [],
   "source": [
    "fpr, tpr, threshold = roc_curve(test['label'], preds)\n",
    "roc_auc = auc(fpr, tpr)"
   ]
  },
  {
   "cell_type": "code",
   "execution_count": 53,
   "metadata": {
    "colab": {
     "base_uri": "https://localhost:8080/",
     "height": 313
    },
    "hidden": true,
    "id": "VvnYDjpIF776",
    "outputId": "abd71e64-19f2-4588-cd19-5282b546b5dd"
   },
   "outputs": [
    {
     "data": {
      "text/plain": [
       "Text(0.5, 0, 'False Positive Rate')"
      ]
     },
     "execution_count": 53,
     "metadata": {
      "tags": []
     },
     "output_type": "execute_result"
    },
    {
     "data": {
      "image/png": "[encoded data removed]",
      "text/plain": [
       "<Figure size 432x288 with 1 Axes>"
      ]
     },
     "metadata": {
      "needs_background": "light",
      "tags": []
     },
     "output_type": "display_data"
    }
   ],
   "source": [
    "import matplotlib.pyplot as plt\n",
    "plt.title('Receiver Operating Characteristic')\n",
    "plt.plot(fpr, tpr, 'b', label = 'AUC = %0.2f' % roc_auc)\n",
    "plt.legend(loc = 'lower right')\n",
    "plt.plot([0, 1], [0, 1],'r--')\n",
    "plt.xlim([0, 1])\n",
    "plt.ylim([0, 1])\n",
    "plt.ylabel('True Positive Rate')\n",
    "plt.xlabel('False Positive Rate')"
   ]
  },
  {
   "cell_type": "code",
   "execution_count": 54,
   "metadata": {
    "colab": {
     "base_uri": "https://localhost:8080/"
    },
    "hidden": true,
    "id": "wqLJu14jF9nI",
    "outputId": "80a217e8-69dd-4478-ecf3-6b49911acac2"
   },
   "outputs": [
    {
     "name": "stdout",
     "output_type": "stream",
     "text": [
      "[[1891  604]\n",
      " [ 711 1794]]\n"
     ]
    }
   ],
   "source": [
    "print(confusion_matrix(test['label'], predictions))"
   ]
  },
  {
   "cell_type": "code",
   "execution_count": 55,
   "metadata": {
    "colab": {
     "base_uri": "https://localhost:8080/"
    },
    "hidden": true,
    "id": "7C-mPC07F_zE",
    "outputId": "94d3d9e7-aaed-4ad1-9da1-eed01316951b"
   },
   "outputs": [
    {
     "name": "stdout",
     "output_type": "stream",
     "text": [
      "              precision    recall  f1-score   support\n",
      "\n",
      "           0       0.73      0.76      0.74      2495\n",
      "           1       0.75      0.72      0.73      2505\n",
      "\n",
      "    accuracy                           0.74      5000\n",
      "   macro avg       0.74      0.74      0.74      5000\n",
      "weighted avg       0.74      0.74      0.74      5000\n",
      "\n"
     ]
    }
   ],
   "source": [
    "print(classification_report(test['label'], predictions))"
   ]
  },
  {
   "cell_type": "markdown",
   "metadata": {
    "heading_collapsed": true,
    "hidden": true,
    "id": "uSGCULmjvx6k"
   },
   "source": [
    "## Support Vector Machine"
   ]
  },
  {
   "cell_type": "code",
   "execution_count": 56,
   "metadata": {
    "hidden": true,
    "id": "2zwLuzy3whRy"
   },
   "outputs": [],
   "source": [
    "from sklearn.svm import SVC\n",
    "from sklearn.svm import LinearSVC\n",
    "from sklearn.model_selection import GridSearchCV\n",
    "from sklearn.model_selection import PredefinedSplit"
   ]
  },
  {
   "cell_type": "markdown",
   "metadata": {
    "heading_collapsed": true,
    "hidden": true,
    "id": "aNaX0ngnwWaK"
   },
   "source": [
    "### Without Kernel"
   ]
  },
  {
   "cell_type": "code",
   "execution_count": 58,
   "metadata": {
    "hidden": true,
    "id": "bD_pUAWuwlhh"
   },
   "outputs": [],
   "source": [
    "X = np.concatenate((last_hidden_states, val_last_hidden_states))"
   ]
  },
  {
   "cell_type": "code",
   "execution_count": 59,
   "metadata": {
    "hidden": true,
    "id": "JKPJmNoEw1lG"
   },
   "outputs": [],
   "source": [
    "y = np.concatenate((train['label'], valid['label']))"
   ]
  },
  {
   "cell_type": "code",
   "execution_count": 57,
   "metadata": {
    "hidden": true,
    "id": "k5l203s0wZGK"
   },
   "outputs": [],
   "source": [
    "param_grid = {'C': [0.01, 0.1, 1, 10], 'max_iter': [10000]}"
   ]
  },
  {
   "cell_type": "code",
   "execution_count": 60,
   "metadata": {
    "hidden": true,
    "id": "z7SQfQESw30o"
   },
   "outputs": [],
   "source": [
    "test_fold = np.full(X.shape[0], -1)\n",
    "test_fold[40001: ] = 0"
   ]
  },
  {
   "cell_type": "code",
   "execution_count": 61,
   "metadata": {
    "hidden": true,
    "id": "Du-fJ0I5w8ze"
   },
   "outputs": [],
   "source": [
    "ps = PredefinedSplit(test_fold)"
   ]
  },
  {
   "cell_type": "code",
   "execution_count": 63,
   "metadata": {
    "hidden": true,
    "id": "XyRZUKwMxAsS"
   },
   "outputs": [],
   "source": [
    "svm_without_kernel = GridSearchCV(LinearSVC(), param_grid, refit=True, verbose=5, n_jobs=-1, cv=ps)"
   ]
  },
  {
   "cell_type": "code",
   "execution_count": 65,
   "metadata": {
    "colab": {
     "base_uri": "https://localhost:8080/"
    },
    "hidden": true,
    "id": "J0VX33ShxFSa",
    "outputId": "70ce05f4-420d-482a-a27c-a322151c2027"
   },
   "outputs": [
    {
     "name": "stdout",
     "output_type": "stream",
     "text": [
      "Fitting 1 folds for each of 4 candidates, totalling 4 fits\n"
     ]
    },
    {
     "name": "stderr",
     "output_type": "stream",
     "text": [
      "[Parallel(n_jobs=-1)]: Using backend LokyBackend with 2 concurrent workers.\n",
      "[Parallel(n_jobs=-1)]: Done   2 out of   4 | elapsed:   37.0s remaining:   37.0s\n",
      "[Parallel(n_jobs=-1)]: Done   4 out of   4 | elapsed: 14.6min remaining:    0.0s\n",
      "[Parallel(n_jobs=-1)]: Done   4 out of   4 | elapsed: 14.6min finished\n"
     ]
    },
    {
     "name": "stdout",
     "output_type": "stream",
     "text": [
      "CPU times: user 39.7 s, sys: 385 ms, total: 40.1 s\n",
      "Wall time: 15min 16s\n"
     ]
    },
    {
     "data": {
      "text/plain": [
       "GridSearchCV(cv=PredefinedSplit(test_fold=array([-1, -1, ...,  0,  0])),\n",
       "             error_score=nan,\n",
       "             estimator=LinearSVC(C=1.0, class_weight=None, dual=True,\n",
       "                                 fit_intercept=True, intercept_scaling=1,\n",
       "                                 loss='squared_hinge', max_iter=1000,\n",
       "                                 multi_class='ovr', penalty='l2',\n",
       "                                 random_state=None, tol=0.0001, verbose=0),\n",
       "             iid='deprecated', n_jobs=-1,\n",
       "             param_grid={'C': [0.01, 0.1, 1, 10], 'max_iter': [10000]},\n",
       "             pre_dispatch='2*n_jobs', refit=True, return_train_score=False,\n",
       "             scoring=None, verbose=5)"
      ]
     },
     "execution_count": 65,
     "metadata": {
      "tags": []
     },
     "output_type": "execute_result"
    }
   ],
   "source": [
    "%%time\n",
    "svm_without_kernel.fit(X, y)"
   ]
  },
  {
   "cell_type": "code",
   "execution_count": 66,
   "metadata": {
    "colab": {
     "base_uri": "https://localhost:8080/"
    },
    "hidden": true,
    "id": "7TRcVjRoxH7t",
    "outputId": "39f95caf-1bca-4189-9743-b7b0288a0f10"
   },
   "outputs": [
    {
     "data": {
      "text/plain": [
       "{'C': 0.1, 'max_iter': 10000}"
      ]
     },
     "execution_count": 66,
     "metadata": {
      "tags": []
     },
     "output_type": "execute_result"
    }
   ],
   "source": [
    "svm_without_kernel.best_params_"
   ]
  },
  {
   "cell_type": "code",
   "execution_count": 67,
   "metadata": {
    "hidden": true,
    "id": "jxQWpFhExNY4"
   },
   "outputs": [],
   "source": [
    "from sklearn.calibration import CalibratedClassifierCV"
   ]
  },
  {
   "cell_type": "code",
   "execution_count": 68,
   "metadata": {
    "hidden": true,
    "id": "H_3v-e7MxPT-"
   },
   "outputs": [],
   "source": [
    "svm = LinearSVC(C=0.1, max_iter=10000)"
   ]
  },
  {
   "cell_type": "code",
   "execution_count": 69,
   "metadata": {
    "hidden": true,
    "id": "ydWD6fgTxPdz"
   },
   "outputs": [],
   "source": [
    " clf = CalibratedClassifierCV(svm)"
   ]
  },
  {
   "cell_type": "code",
   "execution_count": 70,
   "metadata": {
    "colab": {
     "base_uri": "https://localhost:8080/"
    },
    "hidden": true,
    "id": "BS3Y3AbLxPpk",
    "outputId": "ba2d935b-c2d8-4a96-c8ef-3d3b8c2d0575"
   },
   "outputs": [
    {
     "data": {
      "text/plain": [
       "CalibratedClassifierCV(base_estimator=LinearSVC(C=0.1, class_weight=None,\n",
       "                                                dual=True, fit_intercept=True,\n",
       "                                                intercept_scaling=1,\n",
       "                                                loss='squared_hinge',\n",
       "                                                max_iter=10000,\n",
       "                                                multi_class='ovr', penalty='l2',\n",
       "                                                random_state=None, tol=0.0001,\n",
       "                                                verbose=0),\n",
       "                       cv=None, method='sigmoid')"
      ]
     },
     "execution_count": 70,
     "metadata": {
      "tags": []
     },
     "output_type": "execute_result"
    }
   ],
   "source": [
    "clf.fit(last_hidden_states, train['label'])"
   ]
  },
  {
   "cell_type": "code",
   "execution_count": 71,
   "metadata": {
    "hidden": true,
    "id": "4ow2ihY8xdfN"
   },
   "outputs": [],
   "source": [
    "pred_prob = clf.predict_proba(test_last_hidden_states)\n",
    "preds = pred_prob[:,1]"
   ]
  },
  {
   "cell_type": "code",
   "execution_count": 72,
   "metadata": {
    "hidden": true,
    "id": "tL-vimhkxdpR"
   },
   "outputs": [],
   "source": [
    "fpr, tpr, threshold = roc_curve(test['label'], preds)\n",
    "roc_auc = auc(fpr, tpr)"
   ]
  },
  {
   "cell_type": "code",
   "execution_count": 73,
   "metadata": {
    "colab": {
     "base_uri": "https://localhost:8080/",
     "height": 313
    },
    "hidden": true,
    "id": "9447akXMxdwc",
    "outputId": "45f9b4bb-7acc-4802-a73a-e9d73c82f6bf"
   },
   "outputs": [
    {
     "data": {
      "text/plain": [
       "Text(0.5, 0, 'False Positive Rate')"
      ]
     },
     "execution_count": 73,
     "metadata": {
      "tags": []
     },
     "output_type": "execute_result"
    },
    {
     "data": {
      "image/png": "[encoded data removed]",
      "text/plain": [
       "<Figure size 432x288 with 1 Axes>"
      ]
     },
     "metadata": {
      "needs_background": "light",
      "tags": []
     },
     "output_type": "display_data"
    }
   ],
   "source": [
    "import matplotlib.pyplot as plt\n",
    "plt.title('Receiver Operating Characteristic')\n",
    "plt.plot(fpr, tpr, 'b', label = 'AUC = %0.2f' % roc_auc)\n",
    "plt.legend(loc = 'lower right')\n",
    "plt.plot([0, 1], [0, 1],'r--')\n",
    "plt.xlim([0, 1])\n",
    "plt.ylim([0, 1])\n",
    "plt.ylabel('True Positive Rate')\n",
    "plt.xlabel('False Positive Rate')"
   ]
  },
  {
   "cell_type": "code",
   "execution_count": 75,
   "metadata": {
    "hidden": true,
    "id": "8V8SFbnXxjlh"
   },
   "outputs": [],
   "source": [
    "pred = svm_without_kernel.predict(test_last_hidden_states)"
   ]
  },
  {
   "cell_type": "code",
   "execution_count": 76,
   "metadata": {
    "colab": {
     "base_uri": "https://localhost:8080/"
    },
    "hidden": true,
    "id": "BegqBPZpxnqT",
    "outputId": "1f1143c4-2774-4c08-b92d-2205657d5ed7"
   },
   "outputs": [
    {
     "name": "stdout",
     "output_type": "stream",
     "text": [
      "[[2081  414]\n",
      " [ 404 2101]]\n"
     ]
    }
   ],
   "source": [
    "print(confusion_matrix(test['label'],pred))"
   ]
  },
  {
   "cell_type": "code",
   "execution_count": 77,
   "metadata": {
    "colab": {
     "base_uri": "https://localhost:8080/"
    },
    "hidden": true,
    "id": "0QTM6Ws4xpGl",
    "outputId": "67f654a5-fc09-49c6-eb9f-aae55a4d2a20"
   },
   "outputs": [
    {
     "name": "stdout",
     "output_type": "stream",
     "text": [
      "              precision    recall  f1-score   support\n",
      "\n",
      "           0       0.84      0.83      0.84      2495\n",
      "           1       0.84      0.84      0.84      2505\n",
      "\n",
      "    accuracy                           0.84      5000\n",
      "   macro avg       0.84      0.84      0.84      5000\n",
      "weighted avg       0.84      0.84      0.84      5000\n",
      "\n"
     ]
    }
   ],
   "source": [
    "print(classification_report(test['label'],pred))"
   ]
  },
  {
   "cell_type": "markdown",
   "metadata": {
    "heading_collapsed": true,
    "hidden": true,
    "id": "8A3bfwRD4CeF"
   },
   "source": [
    "### With Kernel"
   ]
  },
  {
   "cell_type": "code",
   "execution_count": 78,
   "metadata": {
    "hidden": true,
    "id": "BH4FQzGx4EHK"
   },
   "outputs": [],
   "source": [
    "param_grid = {'C': [0.1, 1], 'gamma': [1, 0.1], 'kernel': ['rbf']} "
   ]
  },
  {
   "cell_type": "code",
   "execution_count": 79,
   "metadata": {
    "hidden": true,
    "id": "-94HV3ii4MQd"
   },
   "outputs": [],
   "source": [
    "test_fold = np.full(X.shape[0], -1)\n",
    "test_fold[40001: ] = 0"
   ]
  },
  {
   "cell_type": "code",
   "execution_count": 80,
   "metadata": {
    "hidden": true,
    "id": "85vhb0LX4N-W"
   },
   "outputs": [],
   "source": [
    "ps = PredefinedSplit(test_fold)"
   ]
  },
  {
   "cell_type": "code",
   "execution_count": 81,
   "metadata": {
    "colab": {
     "base_uri": "https://localhost:8080/"
    },
    "hidden": true,
    "id": "3-soUyQE4PVU",
    "outputId": "08bb264e-3970-4833-dfae-5b2c1448b712"
   },
   "outputs": [
    {
     "data": {
      "text/plain": [
       "1"
      ]
     },
     "execution_count": 81,
     "metadata": {
      "tags": []
     },
     "output_type": "execute_result"
    }
   ],
   "source": [
    "ps.get_n_splits()"
   ]
  },
  {
   "cell_type": "code",
   "execution_count": 82,
   "metadata": {
    "hidden": true,
    "id": "7DTDqxgB4RvR"
   },
   "outputs": [],
   "source": [
    "svm_with_kernel = GridSearchCV(SVC(), param_grid, refit=True, verbose=5, n_jobs=3, cv=ps)"
   ]
  },
  {
   "cell_type": "code",
   "execution_count": 83,
   "metadata": {
    "colab": {
     "base_uri": "https://localhost:8080/"
    },
    "hidden": true,
    "id": "_AP2i9IQ4Tn2",
    "outputId": "5f13d9d4-6ae7-42d6-90ae-45983d2a63e5"
   },
   "outputs": [
    {
     "name": "stdout",
     "output_type": "stream",
     "text": [
      "Fitting 1 folds for each of 4 candidates, totalling 4 fits\n"
     ]
    },
    {
     "name": "stderr",
     "output_type": "stream",
     "text": [
      "[Parallel(n_jobs=3)]: Using backend LokyBackend with 3 concurrent workers.\n",
      "[Parallel(n_jobs=3)]: Done   2 out of   4 | elapsed: 57.1min remaining: 57.1min\n",
      "[Parallel(n_jobs=3)]: Done   4 out of   4 | elapsed: 126.3min remaining:    0.0s\n",
      "[Parallel(n_jobs=3)]: Done   4 out of   4 | elapsed: 126.3min finished\n"
     ]
    },
    {
     "name": "stdout",
     "output_type": "stream",
     "text": [
      "CPU times: user 32min 56s, sys: 564 ms, total: 32min 57s\n",
      "Wall time: 2h 39min 13s\n"
     ]
    },
    {
     "data": {
      "text/plain": [
       "GridSearchCV(cv=PredefinedSplit(test_fold=array([-1, -1, ...,  0,  0])),\n",
       "             error_score=nan,\n",
       "             estimator=SVC(C=1.0, break_ties=False, cache_size=200,\n",
       "                           class_weight=None, coef0=0.0,\n",
       "                           decision_function_shape='ovr', degree=3,\n",
       "                           gamma='scale', kernel='rbf', max_iter=-1,\n",
       "                           probability=False, random_state=None, shrinking=True,\n",
       "                           tol=0.001, verbose=False),\n",
       "             iid='deprecated', n_jobs=3,\n",
       "             param_grid={'C': [0.1, 1], 'gamma': [1, 0.1], 'kernel': ['rbf']},\n",
       "             pre_dispatch='2*n_jobs', refit=True, return_train_score=False,\n",
       "             scoring=None, verbose=5)"
      ]
     },
     "execution_count": 83,
     "metadata": {
      "tags": []
     },
     "output_type": "execute_result"
    }
   ],
   "source": [
    "%%time\n",
    "svm_with_kernel.fit(X, y)"
   ]
  },
  {
   "cell_type": "code",
   "execution_count": 84,
   "metadata": {
    "colab": {
     "base_uri": "https://localhost:8080/"
    },
    "hidden": true,
    "id": "y9XQJKlA4W0j",
    "outputId": "66d62c5c-18ba-4787-8d89-68277313a8fc"
   },
   "outputs": [
    {
     "data": {
      "text/plain": [
       "{'C': 1, 'gamma': 0.1, 'kernel': 'rbf'}"
      ]
     },
     "execution_count": 84,
     "metadata": {
      "tags": []
     },
     "output_type": "execute_result"
    }
   ],
   "source": [
    "svm_with_kernel.best_params_"
   ]
  },
  {
   "cell_type": "code",
   "execution_count": 85,
   "metadata": {
    "hidden": true,
    "id": "zJh_c6Ua4x-1"
   },
   "outputs": [],
   "source": [
    "pred = svm_with_kernel.predict(test_last_hidden_states)"
   ]
  },
  {
   "cell_type": "code",
   "execution_count": 86,
   "metadata": {
    "colab": {
     "base_uri": "https://localhost:8080/"
    },
    "hidden": true,
    "id": "FpLhHf7S4zwI",
    "outputId": "100e98f7-eac3-4e2e-be1d-e117e44141a0"
   },
   "outputs": [
    {
     "name": "stdout",
     "output_type": "stream",
     "text": [
      "              precision    recall  f1-score   support\n",
      "\n",
      "           0       0.84      0.84      0.84      2495\n",
      "           1       0.84      0.84      0.84      2505\n",
      "\n",
      "    accuracy                           0.84      5000\n",
      "   macro avg       0.84      0.84      0.84      5000\n",
      "weighted avg       0.84      0.84      0.84      5000\n",
      "\n"
     ]
    }
   ],
   "source": [
    "print(classification_report(test['label'],pred))"
   ]
  },
  {
   "cell_type": "code",
   "execution_count": 87,
   "metadata": {
    "colab": {
     "base_uri": "https://localhost:8080/"
    },
    "hidden": true,
    "id": "N1y7DJCR41mu",
    "outputId": "d31b9ff6-36df-4a6f-d7c4-fd366ff6c0da"
   },
   "outputs": [
    {
     "name": "stdout",
     "output_type": "stream",
     "text": [
      "[[2104  391]\n",
      " [ 391 2114]]\n"
     ]
    }
   ],
   "source": [
    "print(confusion_matrix(test['label'],pred))"
   ]
  },
  {
   "cell_type": "code",
   "execution_count": null,
   "metadata": {
    "hidden": true,
    "id": "gDVvXr9_4chD"
   },
   "outputs": [],
   "source": [
    "model = SVC(C=1, gamma=0.1, probability=True)"
   ]
  },
  {
   "cell_type": "code",
   "execution_count": null,
   "metadata": {
    "hidden": true,
    "id": "fCYF3ne_4kvC"
   },
   "outputs": [],
   "source": [
    "%%time\n",
    "model.fit(train_las, train['label'])"
   ]
  },
  {
   "cell_type": "code",
   "execution_count": null,
   "metadata": {
    "hidden": true,
    "id": "vOQBsV0P4oMP"
   },
   "outputs": [],
   "source": [
    "from sklearn.metrics import roc_curve, auc\n",
    "from sklearn.metrics import classification_report,confusion_matrix"
   ]
  },
  {
   "cell_type": "code",
   "execution_count": null,
   "metadata": {
    "hidden": true,
    "id": "hkOlsA5z4qlh"
   },
   "outputs": [],
   "source": [
    "pred_prob = model.predict_proba(test_las)\n",
    "preds = pred_prob[:,1]"
   ]
  },
  {
   "cell_type": "code",
   "execution_count": null,
   "metadata": {
    "hidden": true,
    "id": "2uUt7vsq4sae"
   },
   "outputs": [],
   "source": [
    "fpr, tpr, threshold = roc_curve(test['label'], preds)\n",
    "roc_auc = auc(fpr, tpr)"
   ]
  },
  {
   "cell_type": "code",
   "execution_count": null,
   "metadata": {
    "hidden": true,
    "id": "sWRw7bPp4uU5"
   },
   "outputs": [],
   "source": [
    "import matplotlib.pyplot as plt\n",
    "plt.title('Receiver Operating Characteristic')\n",
    "plt.plot(fpr, tpr, 'b', label = 'AUC = %0.2f' % roc_auc)\n",
    "plt.legend(loc = 'lower right')\n",
    "plt.plot([0, 1], [0, 1],'r--')\n",
    "plt.xlim([0, 1])\n",
    "plt.ylim([0, 1])\n",
    "plt.ylabel('True Positive Rate')\n",
    "plt.xlabel('False Positive Rate')"
   ]
  },
  {
   "cell_type": "markdown",
   "metadata": {
    "heading_collapsed": true,
    "id": "98G6zhgAdr74"
   },
   "source": [
    "# Word2Vec"
   ]
  },
  {
   "cell_type": "markdown",
   "metadata": {
    "heading_collapsed": true,
    "hidden": true,
    "id": "Gs2BM5-zesOZ"
   },
   "source": [
    "## Preprocessing for Word2Vec"
   ]
  },
  {
   "cell_type": "code",
   "execution_count": null,
   "metadata": {
    "hidden": true,
    "id": "iRFGrZw-duvt"
   },
   "outputs": [],
   "source": [
    "from gensim.models import Word2Vec"
   ]
  },
  {
   "cell_type": "code",
   "execution_count": null,
   "metadata": {
    "hidden": true,
    "id": "13uWi9ywexpO"
   },
   "outputs": [],
   "source": [
    "corpus = []\n",
    "for text in train['text']:\n",
    "  corpus.append(text.split())"
   ]
  },
  {
   "cell_type": "code",
   "execution_count": null,
   "metadata": {
    "colab": {
     "base_uri": "https://localhost:8080/"
    },
    "hidden": true,
    "id": "XdVmLFlSe6As",
    "outputId": "9035cb1d-f708-4ac3-d341-141d107d5a27"
   },
   "outputs": [
    {
     "name": "stdout",
     "output_type": "stream",
     "text": [
      "CPU times: user 1min 36s, sys: 381 ms, total: 1min 36s\n",
      "Wall time: 52 s\n"
     ]
    }
   ],
   "source": [
    "%%time\n",
    "model = Word2Vec(sentences=corpus, size=200, window=5, min_count=20, workers=4, sample=0.001)"
   ]
  },
  {
   "cell_type": "code",
   "execution_count": null,
   "metadata": {
    "colab": {
     "base_uri": "https://localhost:8080/"
    },
    "hidden": true,
    "id": "eqZ-6ywMgeyC",
    "outputId": "ab2efe25-78bd-4deb-a0b8-d96e573c0e7e"
   },
   "outputs": [
    {
     "name": "stdout",
     "output_type": "stream",
     "text": [
      "(15630, 200)\n"
     ]
    }
   ],
   "source": [
    "print(model.wv.vectors.shape)"
   ]
  },
  {
   "cell_type": "code",
   "execution_count": null,
   "metadata": {
    "hidden": true,
    "id": "EHHO7bs4W80k"
   },
   "outputs": [],
   "source": [
    "def makeFeatureVec(review, model, num_features):\n",
    "    \n",
    "    featureVec = np.zeros((num_features,), dtype = \"float32\")\n",
    " \n",
    "    word_index = set(model.wv.index2word)\n",
    "\n",
    "    nword = 0\n",
    "    \n",
    "    for word in review:\n",
    "        if word in word_index:\n",
    "            nword += 1\n",
    "            featureVec = np.add(featureVec, model[word])\n",
    "    \n",
    "    featureVec = np.divide(featureVec, nword)        \n",
    "    \n",
    "    return featureVec"
   ]
  },
  {
   "cell_type": "code",
   "execution_count": null,
   "metadata": {
    "hidden": true,
    "id": "5KHfLeSZbAkM"
   },
   "outputs": [],
   "source": [
    "def getAvgFeatureVec(clean_reviews, model, num_features):\n",
    "    \n",
    "    review_th = 0\n",
    "    \n",
    "    reviewFeatureVecs = np.zeros((len(clean_reviews), num_features), dtype = \"float32\")\n",
    "    \n",
    "    for review in clean_reviews:\n",
    "        reviewFeatureVecs[int(review_th)] = makeFeatureVec(review, model, num_features)\n",
    "        \n",
    "        review_th += 1\n",
    "    \n",
    "    return reviewFeatureVecs"
   ]
  },
  {
   "cell_type": "code",
   "execution_count": null,
   "metadata": {
    "colab": {
     "base_uri": "https://localhost:8080/"
    },
    "hidden": true,
    "id": "1fUlIdRLW9BP",
    "outputId": "2978f56c-4e3d-4840-ce81-b073195041bc"
   },
   "outputs": [
    {
     "name": "stderr",
     "output_type": "stream",
     "text": [
      "/usr/local/lib/python3.6/dist-packages/ipykernel_launcher.py:15: DeprecationWarning: Call to deprecated `__getitem__` (Method will be removed in 4.0.0, use self.wv.__getitem__() instead).\n",
      "  from ipykernel import kernelapp as app\n"
     ]
    }
   ],
   "source": [
    "trainDataAvg = getAvgFeatureVec(train['text'], model, 200)"
   ]
  },
  {
   "cell_type": "code",
   "execution_count": null,
   "metadata": {
    "colab": {
     "base_uri": "https://localhost:8080/"
    },
    "hidden": true,
    "id": "EndUaBaOcmEw",
    "outputId": "f1a7dbff-3dae-4fb6-e371-a8437dd26a02"
   },
   "outputs": [
    {
     "name": "stderr",
     "output_type": "stream",
     "text": [
      "/usr/local/lib/python3.6/dist-packages/ipykernel_launcher.py:15: DeprecationWarning: Call to deprecated `__getitem__` (Method will be removed in 4.0.0, use self.wv.__getitem__() instead).\n",
      "  from ipykernel import kernelapp as app\n"
     ]
    }
   ],
   "source": [
    "testDataAvg = getAvgFeatureVec(test['text'], model, 200)"
   ]
  },
  {
   "cell_type": "code",
   "execution_count": null,
   "metadata": {
    "hidden": true,
    "id": "VMO3ImOQXDbR"
   },
   "outputs": [],
   "source": [
    "from sklearn.naive_bayes import BernoulliNB"
   ]
  },
  {
   "cell_type": "code",
   "execution_count": null,
   "metadata": {
    "hidden": true,
    "id": "7fOQNlqFbY8h"
   },
   "outputs": [],
   "source": [
    "mnb = BernoulliNB()"
   ]
  },
  {
   "cell_type": "code",
   "execution_count": null,
   "metadata": {
    "colab": {
     "base_uri": "https://localhost:8080/"
    },
    "hidden": true,
    "id": "dbNZVJdfcO8G",
    "outputId": "f380944a-cbf0-4747-ed2a-663893ae2244"
   },
   "outputs": [
    {
     "data": {
      "text/plain": [
       "BernoulliNB(alpha=1.0, binarize=0.0, class_prior=None, fit_prior=True)"
      ]
     },
     "execution_count": 68,
     "metadata": {
      "tags": []
     },
     "output_type": "execute_result"
    }
   ],
   "source": [
    "mnb.fit(trainDataAvg, train['label'])"
   ]
  },
  {
   "cell_type": "code",
   "execution_count": null,
   "metadata": {
    "hidden": true,
    "id": "IV0IlyVzbZGR"
   },
   "outputs": [],
   "source": [
    "predictions = mnb.predict(testDataAvg)"
   ]
  },
  {
   "cell_type": "code",
   "execution_count": null,
   "metadata": {
    "hidden": true,
    "id": "4SJVfYI6dWGu"
   },
   "outputs": [],
   "source": [
    "from sklearn.metrics import classification_report,confusion_matrix, roc_curve, auc"
   ]
  },
  {
   "cell_type": "code",
   "execution_count": null,
   "metadata": {
    "colab": {
     "base_uri": "https://localhost:8080/"
    },
    "hidden": true,
    "id": "pLWoQ6oXdF9c",
    "outputId": "dba9e4d4-02f6-487b-f5c7-f2e4d7df1dcb"
   },
   "outputs": [
    {
     "name": "stdout",
     "output_type": "stream",
     "text": [
      "[[1389 1106]\n",
      " [1108 1397]]\n"
     ]
    }
   ],
   "source": [
    "print(confusion_matrix(test['label'], predictions))"
   ]
  },
  {
   "cell_type": "code",
   "execution_count": null,
   "metadata": {
    "colab": {
     "base_uri": "https://localhost:8080/"
    },
    "hidden": true,
    "id": "Iy5K0e83dXMA",
    "outputId": "1c2ee487-e4a4-4479-9ccc-e4d9e90002e6"
   },
   "outputs": [
    {
     "name": "stdout",
     "output_type": "stream",
     "text": [
      "              precision    recall  f1-score   support\n",
      "\n",
      "           0       0.56      0.56      0.56      2495\n",
      "           1       0.56      0.56      0.56      2505\n",
      "\n",
      "    accuracy                           0.56      5000\n",
      "   macro avg       0.56      0.56      0.56      5000\n",
      "weighted avg       0.56      0.56      0.56      5000\n",
      "\n"
     ]
    }
   ],
   "source": [
    "print(classification_report(test['label'], predictions))"
   ]
  },
  {
   "cell_type": "code",
   "execution_count": null,
   "metadata": {
    "hidden": true,
    "id": "XEIm5yijdpPV"
   },
   "outputs": [],
   "source": []
  },
  {
   "cell_type": "code",
   "execution_count": null,
   "metadata": {
    "hidden": true,
    "id": "3inQoxPsdpW6"
   },
   "outputs": [],
   "source": [
    "from sklearn.svm import SVC\n",
    "from sklearn.svm import LinearSVC\n",
    "from sklearn.model_selection import GridSearchCV\n",
    "from sklearn.model_selection import PredefinedSplit"
   ]
  },
  {
   "cell_type": "code",
   "execution_count": null,
   "metadata": {
    "hidden": true,
    "id": "6EjHguqadphR"
   },
   "outputs": [],
   "source": [
    "model = SVC(C=1, gamma=0.01)"
   ]
  },
  {
   "cell_type": "code",
   "execution_count": null,
   "metadata": {
    "colab": {
     "base_uri": "https://localhost:8080/"
    },
    "hidden": true,
    "id": "U30ECUmld-bB",
    "outputId": "caadb9b5-2fad-42e2-8883-75d31c33fdde"
   },
   "outputs": [
    {
     "name": "stdout",
     "output_type": "stream",
     "text": [
      "CPU times: user 11min 31s, sys: 387 ms, total: 11min 31s\n",
      "Wall time: 11min 32s\n"
     ]
    },
    {
     "data": {
      "text/plain": [
       "SVC(C=1, break_ties=False, cache_size=200, class_weight=None, coef0=0.0,\n",
       "    decision_function_shape='ovr', degree=3, gamma=0.01, kernel='rbf',\n",
       "    max_iter=-1, probability=False, random_state=None, shrinking=True,\n",
       "    tol=0.001, verbose=False)"
      ]
     },
     "execution_count": 21,
     "metadata": {
      "tags": []
     },
     "output_type": "execute_result"
    }
   ],
   "source": [
    "%%time\n",
    "model.fit(trainDataAvg, train['label'])"
   ]
  },
  {
   "cell_type": "code",
   "execution_count": null,
   "metadata": {
    "hidden": true,
    "id": "nKHsisuvd4xi"
   },
   "outputs": [],
   "source": [
    "predeictios = model.predict(testDataAvg)"
   ]
  },
  {
   "cell_type": "code",
   "execution_count": null,
   "metadata": {
    "hidden": true,
    "id": "DuDuvwLMlr8T"
   },
   "outputs": [],
   "source": [
    "from sklearn.metrics import classification_report,confusion_matrix, roc_curve, auc"
   ]
  },
  {
   "cell_type": "code",
   "execution_count": null,
   "metadata": {
    "colab": {
     "base_uri": "https://localhost:8080/"
    },
    "hidden": true,
    "id": "9AXhyOUnlbmp",
    "outputId": "b226d1a3-4722-46c9-bddd-ad044d7de3cb"
   },
   "outputs": [
    {
     "name": "stdout",
     "output_type": "stream",
     "text": [
      "              precision    recall  f1-score   support\n",
      "\n",
      "           0       0.58      0.57      0.58      2495\n",
      "           1       0.58      0.59      0.59      2505\n",
      "\n",
      "    accuracy                           0.58      5000\n",
      "   macro avg       0.58      0.58      0.58      5000\n",
      "weighted avg       0.58      0.58      0.58      5000\n",
      "\n"
     ]
    }
   ],
   "source": [
    "print(classification_report(test['label'], predeictios))"
   ]
  },
  {
   "cell_type": "code",
   "execution_count": null,
   "metadata": {
    "colab": {
     "base_uri": "https://localhost:8080/"
    },
    "hidden": true,
    "id": "xrYvQL67lm2O",
    "outputId": "41476854-99ab-4a34-a735-bb05899a3d40"
   },
   "outputs": [
    {
     "name": "stdout",
     "output_type": "stream",
     "text": [
      "[[1429 1066]\n",
      " [1017 1488]]\n"
     ]
    }
   ],
   "source": [
    "print(confusion_matrix(test['label'], predeictios))"
   ]
  },
  {
   "cell_type": "markdown",
   "metadata": {
    "heading_collapsed": true,
    "id": "Hiu9g_iHYnxd"
   },
   "source": [
    "# Temp"
   ]
  },
  {
   "cell_type": "markdown",
   "metadata": {
    "heading_collapsed": true,
    "hidden": true,
    "id": "D0t6nuWfFzdm"
   },
   "source": [
    "## Save Processed Data Frame"
   ]
  },
  {
   "cell_type": "code",
   "execution_count": null,
   "metadata": {
    "hidden": true,
    "id": "9Qs4CZUtFzdp"
   },
   "outputs": [],
   "source": [
    "train.to_csv(\"Train_processed.csv\")"
   ]
  },
  {
   "cell_type": "code",
   "execution_count": null,
   "metadata": {
    "hidden": true,
    "id": "C-XhU5xjTn3p"
   },
   "outputs": [],
   "source": [
    "valid.to_csv(\"Valid_processed.csv\")"
   ]
  },
  {
   "cell_type": "code",
   "execution_count": null,
   "metadata": {
    "hidden": true,
    "id": "TOQGEidPTn3p"
   },
   "outputs": [],
   "source": [
    "test.to_csv(\"Test_processed.csv\")"
   ]
  },
  {
   "cell_type": "code",
   "execution_count": null,
   "metadata": {
    "hidden": true,
    "id": "HKV6HkZvTn3p"
   },
   "outputs": [],
   "source": []
  }
 ],
 "metadata": {
  "accelerator": "GPU",
  "colab": {
   "collapsed_sections": [
    "XwHUHsOVFzak",
    "2jinnTLKFza2",
    "gfSTY3IpFzbc",
    "vBgWZnSxFzbh",
    "VgzAixhSUUhf",
    "_ofFHLx9Fzby",
    "Oewd5ligFzcF",
    "gl3EIuPTTn3k",
    "B1M6YKyd2aOU",
    "oal1kuFfFzcY",
    "20pjUb-qTn3m",
    "DJws2LWwTn3m",
    "TmrBgfbVTn3n",
    "nuITwkkFTn3o",
    "8H2EBqsrqd8U",
    "W8EzCFE2Tn3o",
    "3TB15nGrRYBj",
    "JAqnHgVzaSVD",
    "w7AarWB06eS9",
    "x0LVcbGvhdAT",
    "V70wdRXyaaK0",
    "RlgmEf4lEJQt",
    "xfsPMSThKN87",
    "KdYEiwBRKYak",
    "aMpOEnQT2EwH",
    "aNaX0ngnwWaK",
    "98G6zhgAdr74",
    "Gs2BM5-zesOZ",
    "Hiu9g_iHYnxd",
    "D0t6nuWfFzdm"
   ],
   "name": "Project (3).ipynb",
   "provenance": []
  },
  "kernelspec": {
   "display_name": "Python 3",
   "language": "python",
   "name": "python3"
  },
  "language_info": {
   "codemirror_mode": {
    "name": "ipython",
    "version": 3
   },
   "file_extension": ".py",
   "mimetype": "text/x-python",
   "name": "python",
   "nbconvert_exporter": "python",
   "pygments_lexer": "ipython3",
   "version": "3.8.3"
  },
  "latex_envs": {
   "LaTeX_envs_menu_present": true,
   "autoclose": false,
   "autocomplete": true,
   "bibliofile": "biblio.bib",
   "cite_by": "apalike",
   "current_citInitial": 1,
   "eqLabelWithNumbers": true,
   "eqNumInitial": 1,
   "hotkeys": {
    "equation": "Ctrl-E",
    "itemize": "Ctrl-I"
   },
   "labels_anchors": false,
   "latex_user_defs": false,
   "report_style_numbering": false,
   "user_envs_cfg": false
  },
  "varInspector": {
   "cols": {
    "lenName": 16,
    "lenType": 16,
    "lenVar": 40
   },
   "kernels_config": {
    "python": {
     "delete_cmd_postfix": "",
     "delete_cmd_prefix": "del ",
     "library": "var_list.py",
     "varRefreshCmd": "print(var_dic_list())"
    },
    "r": {
     "delete_cmd_postfix": ") ",
     "delete_cmd_prefix": "rm(",
     "library": "var_list.r",
     "varRefreshCmd": "cat(var_dic_list()) "
    }
   },
   "types_to_exclude": [
    "module",
    "function",
    "builtin_function_or_method",
    "instance",
    "_Feature"
   ],
   "window_display": false
  },
  "widgets": {
   "application/vnd.jupyter.widget-state+json": {
    "213d28706c3742718097d28f3c1ce955": {
     "model_module": "@jupyter-widgets/controls",
     "model_name": "ProgressStyleModel",
     "state": {
      "_model_module": "@jupyter-widgets/controls",
      "_model_module_version": "1.5.0",
      "_model_name": "ProgressStyleModel",
      "_view_count": null,
      "_view_module": "@jupyter-widgets/base",
      "_view_module_version": "1.2.0",
      "_view_name": "StyleView",
      "bar_color": null,
      "description_width": "initial"
     }
    },
    "25dceb088a1f435c9c6a8346fec76b01": {
     "model_module": "@jupyter-widgets/controls",
     "model_name": "DescriptionStyleModel",
     "state": {
      "_model_module": "@jupyter-widgets/controls",
      "_model_module_version": "1.5.0",
      "_model_name": "DescriptionStyleModel",
      "_view_count": null,
      "_view_module": "@jupyter-widgets/base",
      "_view_module_version": "1.2.0",
      "_view_name": "StyleView",
      "description_width": ""
     }
    },
    "35f1f88a42e94181ab0eea62d42cde24": {
     "model_module": "@jupyter-widgets/controls",
     "model_name": "ProgressStyleModel",
     "state": {
      "_model_module": "@jupyter-widgets/controls",
      "_model_module_version": "1.5.0",
      "_model_name": "ProgressStyleModel",
      "_view_count": null,
      "_view_module": "@jupyter-widgets/base",
      "_view_module_version": "1.2.0",
      "_view_name": "StyleView",
      "bar_color": null,
      "description_width": "initial"
     }
    },
    "4f92e69bb1ed48cc97786c6de8eaf309": {
     "model_module": "@jupyter-widgets/base",
     "model_name": "LayoutModel",
     "state": {
      "_model_module": "@jupyter-widgets/base",
      "_model_module_version": "1.2.0",
      "_model_name": "LayoutModel",
      "_view_count": null,
      "_view_module": "@jupyter-widgets/base",
      "_view_module_version": "1.2.0",
      "_view_name": "LayoutView",
      "align_content": null,
      "align_items": null,
      "align_self": null,
      "border": null,
      "bottom": null,
      "display": null,
      "flex": null,
      "flex_flow": null,
      "grid_area": null,
      "grid_auto_columns": null,
      "grid_auto_flow": null,
      "grid_auto_rows": null,
      "grid_column": null,
      "grid_gap": null,
      "grid_row": null,
      "grid_template_areas": null,
      "grid_template_columns": null,
      "grid_template_rows": null,
      "height": null,
      "justify_content": null,
      "justify_items": null,
      "left": null,
      "margin": null,
      "max_height": null,
      "max_width": null,
      "min_height": null,
      "min_width": null,
      "object_fit": null,
      "object_position": null,
      "order": null,
      "overflow": null,
      "overflow_x": null,
      "overflow_y": null,
      "padding": null,
      "right": null,
      "top": null,
      "visibility": null,
      "width": null
     }
    },
    "5f14f81257cc4d04b4dedcded6f71957": {
     "model_module": "@jupyter-widgets/base",
     "model_name": "LayoutModel",
     "state": {
      "_model_module": "@jupyter-widgets/base",
      "_model_module_version": "1.2.0",
      "_model_name": "LayoutModel",
      "_view_count": null,
      "_view_module": "@jupyter-widgets/base",
      "_view_module_version": "1.2.0",
      "_view_name": "LayoutView",
      "align_content": null,
      "align_items": null,
      "align_self": null,
      "border": null,
      "bottom": null,
      "display": null,
      "flex": null,
      "flex_flow": null,
      "grid_area": null,
      "grid_auto_columns": null,
      "grid_auto_flow": null,
      "grid_auto_rows": null,
      "grid_column": null,
      "grid_gap": null,
      "grid_row": null,
      "grid_template_areas": null,
      "grid_template_columns": null,
      "grid_template_rows": null,
      "height": null,
      "justify_content": null,
      "justify_items": null,
      "left": null,
      "margin": null,
      "max_height": null,
      "max_width": null,
      "min_height": null,
      "min_width": null,
      "object_fit": null,
      "object_position": null,
      "order": null,
      "overflow": null,
      "overflow_x": null,
      "overflow_y": null,
      "padding": null,
      "right": null,
      "top": null,
      "visibility": null,
      "width": null
     }
    },
    "6bc6cde360f34331b45c13df55e16206": {
     "model_module": "@jupyter-widgets/controls",
     "model_name": "HTMLModel",
     "state": {
      "_dom_classes": [],
      "_model_module": "@jupyter-widgets/controls",
      "_model_module_version": "1.5.0",
      "_model_name": "HTMLModel",
      "_view_count": null,
      "_view_module": "@jupyter-widgets/controls",
      "_view_module_version": "1.5.0",
      "_view_name": "HTMLView",
      "description": "",
      "description_tooltip": null,
      "layout": "IPY_MODEL_d46f91beafdd42b19bd407095a020972",
      "placeholder": "​",
      "style": "IPY_MODEL_dbe83d7926254f4d875a9d9dcdd44b3b",
      "value": " 268M/268M [00:03&lt;00:00, 69.0MB/s]"
     }
    },
    "705f930baf9f475cbdb9ed351f269355": {
     "model_module": "@jupyter-widgets/controls",
     "model_name": "ProgressStyleModel",
     "state": {
      "_model_module": "@jupyter-widgets/controls",
      "_model_module_version": "1.5.0",
      "_model_name": "ProgressStyleModel",
      "_view_count": null,
      "_view_module": "@jupyter-widgets/base",
      "_view_module_version": "1.2.0",
      "_view_name": "StyleView",
      "bar_color": null,
      "description_width": "initial"
     }
    },
    "81c2870ac1bd453bbea8d717dd34314e": {
     "model_module": "@jupyter-widgets/controls",
     "model_name": "HBoxModel",
     "state": {
      "_dom_classes": [],
      "_model_module": "@jupyter-widgets/controls",
      "_model_module_version": "1.5.0",
      "_model_name": "HBoxModel",
      "_view_count": null,
      "_view_module": "@jupyter-widgets/controls",
      "_view_module_version": "1.5.0",
      "_view_name": "HBoxView",
      "box_style": "",
      "children": [
       "IPY_MODEL_b32a2e86b8174a8f898a7f33cda8fcaa",
       "IPY_MODEL_cee1f46ca92f4678b145ff5fad942150"
      ],
      "layout": "IPY_MODEL_b03610bc2ead462a829ac62a0d3ce6db"
     }
    },
    "8a036fb37a454e67851bd773f56386f0": {
     "model_module": "@jupyter-widgets/controls",
     "model_name": "HBoxModel",
     "state": {
      "_dom_classes": [],
      "_model_module": "@jupyter-widgets/controls",
      "_model_module_version": "1.5.0",
      "_model_name": "HBoxModel",
      "_view_count": null,
      "_view_module": "@jupyter-widgets/controls",
      "_view_module_version": "1.5.0",
      "_view_name": "HBoxView",
      "box_style": "",
      "children": [
       "IPY_MODEL_fbebab0a3ae14ad9a34744cee3feaf9f",
       "IPY_MODEL_dc21ff5d508a431ca9ce3589fabeb19b"
      ],
      "layout": "IPY_MODEL_c1c011efcc6e483caf01da5691c20b36"
     }
    },
    "9139c93387ad4f6fb0a340b513c89919": {
     "model_module": "@jupyter-widgets/base",
     "model_name": "LayoutModel",
     "state": {
      "_model_module": "@jupyter-widgets/base",
      "_model_module_version": "1.2.0",
      "_model_name": "LayoutModel",
      "_view_count": null,
      "_view_module": "@jupyter-widgets/base",
      "_view_module_version": "1.2.0",
      "_view_name": "LayoutView",
      "align_content": null,
      "align_items": null,
      "align_self": null,
      "border": null,
      "bottom": null,
      "display": null,
      "flex": null,
      "flex_flow": null,
      "grid_area": null,
      "grid_auto_columns": null,
      "grid_auto_flow": null,
      "grid_auto_rows": null,
      "grid_column": null,
      "grid_gap": null,
      "grid_row": null,
      "grid_template_areas": null,
      "grid_template_columns": null,
      "grid_template_rows": null,
      "height": null,
      "justify_content": null,
      "justify_items": null,
      "left": null,
      "margin": null,
      "max_height": null,
      "max_width": null,
      "min_height": null,
      "min_width": null,
      "object_fit": null,
      "object_position": null,
      "order": null,
      "overflow": null,
      "overflow_x": null,
      "overflow_y": null,
      "padding": null,
      "right": null,
      "top": null,
      "visibility": null,
      "width": null
     }
    },
    "963fe17a3e564a21975aa1eb05f70283": {
     "model_module": "@jupyter-widgets/base",
     "model_name": "LayoutModel",
     "state": {
      "_model_module": "@jupyter-widgets/base",
      "_model_module_version": "1.2.0",
      "_model_name": "LayoutModel",
      "_view_count": null,
      "_view_module": "@jupyter-widgets/base",
      "_view_module_version": "1.2.0",
      "_view_name": "LayoutView",
      "align_content": null,
      "align_items": null,
      "align_self": null,
      "border": null,
      "bottom": null,
      "display": null,
      "flex": null,
      "flex_flow": null,
      "grid_area": null,
      "grid_auto_columns": null,
      "grid_auto_flow": null,
      "grid_auto_rows": null,
      "grid_column": null,
      "grid_gap": null,
      "grid_row": null,
      "grid_template_areas": null,
      "grid_template_columns": null,
      "grid_template_rows": null,
      "height": null,
      "justify_content": null,
      "justify_items": null,
      "left": null,
      "margin": null,
      "max_height": null,
      "max_width": null,
      "min_height": null,
      "min_width": null,
      "object_fit": null,
      "object_position": null,
      "order": null,
      "overflow": null,
      "overflow_x": null,
      "overflow_y": null,
      "padding": null,
      "right": null,
      "top": null,
      "visibility": null,
      "width": null
     }
    },
    "b03610bc2ead462a829ac62a0d3ce6db": {
     "model_module": "@jupyter-widgets/base",
     "model_name": "LayoutModel",
     "state": {
      "_model_module": "@jupyter-widgets/base",
      "_model_module_version": "1.2.0",
      "_model_name": "LayoutModel",
      "_view_count": null,
      "_view_module": "@jupyter-widgets/base",
      "_view_module_version": "1.2.0",
      "_view_name": "LayoutView",
      "align_content": null,
      "align_items": null,
      "align_self": null,
      "border": null,
      "bottom": null,
      "display": null,
      "flex": null,
      "flex_flow": null,
      "grid_area": null,
      "grid_auto_columns": null,
      "grid_auto_flow": null,
      "grid_auto_rows": null,
      "grid_column": null,
      "grid_gap": null,
      "grid_row": null,
      "grid_template_areas": null,
      "grid_template_columns": null,
      "grid_template_rows": null,
      "height": null,
      "justify_content": null,
      "justify_items": null,
      "left": null,
      "margin": null,
      "max_height": null,
      "max_width": null,
      "min_height": null,
      "min_width": null,
      "object_fit": null,
      "object_position": null,
      "order": null,
      "overflow": null,
      "overflow_x": null,
      "overflow_y": null,
      "padding": null,
      "right": null,
      "top": null,
      "visibility": null,
      "width": null
     }
    },
    "b32a2e86b8174a8f898a7f33cda8fcaa": {
     "model_module": "@jupyter-widgets/controls",
     "model_name": "FloatProgressModel",
     "state": {
      "_dom_classes": [],
      "_model_module": "@jupyter-widgets/controls",
      "_model_module_version": "1.5.0",
      "_model_name": "FloatProgressModel",
      "_view_count": null,
      "_view_module": "@jupyter-widgets/controls",
      "_view_module_version": "1.5.0",
      "_view_name": "ProgressView",
      "bar_style": "success",
      "description": "Downloading: 100%",
      "description_tooltip": null,
      "layout": "IPY_MODEL_4f92e69bb1ed48cc97786c6de8eaf309",
      "max": 231508,
      "min": 0,
      "orientation": "horizontal",
      "style": "IPY_MODEL_35f1f88a42e94181ab0eea62d42cde24",
      "value": 231508
     }
    },
    "c19726e00f7a49f4ac02cebbcb5b7a55": {
     "model_module": "@jupyter-widgets/controls",
     "model_name": "DescriptionStyleModel",
     "state": {
      "_model_module": "@jupyter-widgets/controls",
      "_model_module_version": "1.5.0",
      "_model_name": "DescriptionStyleModel",
      "_view_count": null,
      "_view_module": "@jupyter-widgets/base",
      "_view_module_version": "1.2.0",
      "_view_name": "StyleView",
      "description_width": ""
     }
    },
    "c1c011efcc6e483caf01da5691c20b36": {
     "model_module": "@jupyter-widgets/base",
     "model_name": "LayoutModel",
     "state": {
      "_model_module": "@jupyter-widgets/base",
      "_model_module_version": "1.2.0",
      "_model_name": "LayoutModel",
      "_view_count": null,
      "_view_module": "@jupyter-widgets/base",
      "_view_module_version": "1.2.0",
      "_view_name": "LayoutView",
      "align_content": null,
      "align_items": null,
      "align_self": null,
      "border": null,
      "bottom": null,
      "display": null,
      "flex": null,
      "flex_flow": null,
      "grid_area": null,
      "grid_auto_columns": null,
      "grid_auto_flow": null,
      "grid_auto_rows": null,
      "grid_column": null,
      "grid_gap": null,
      "grid_row": null,
      "grid_template_areas": null,
      "grid_template_columns": null,
      "grid_template_rows": null,
      "height": null,
      "justify_content": null,
      "justify_items": null,
      "left": null,
      "margin": null,
      "max_height": null,
      "max_width": null,
      "min_height": null,
      "min_width": null,
      "object_fit": null,
      "object_position": null,
      "order": null,
      "overflow": null,
      "overflow_x": null,
      "overflow_y": null,
      "padding": null,
      "right": null,
      "top": null,
      "visibility": null,
      "width": null
     }
    },
    "cee1f46ca92f4678b145ff5fad942150": {
     "model_module": "@jupyter-widgets/controls",
     "model_name": "HTMLModel",
     "state": {
      "_dom_classes": [],
      "_model_module": "@jupyter-widgets/controls",
      "_model_module_version": "1.5.0",
      "_model_name": "HTMLModel",
      "_view_count": null,
      "_view_module": "@jupyter-widgets/controls",
      "_view_module_version": "1.5.0",
      "_view_name": "HTMLView",
      "description": "",
      "description_tooltip": null,
      "layout": "IPY_MODEL_9139c93387ad4f6fb0a340b513c89919",
      "placeholder": "​",
      "style": "IPY_MODEL_c19726e00f7a49f4ac02cebbcb5b7a55",
      "value": " 232k/232k [00:00&lt;00:00, 3.99MB/s]"
     }
    },
    "d46f91beafdd42b19bd407095a020972": {
     "model_module": "@jupyter-widgets/base",
     "model_name": "LayoutModel",
     "state": {
      "_model_module": "@jupyter-widgets/base",
      "_model_module_version": "1.2.0",
      "_model_name": "LayoutModel",
      "_view_count": null,
      "_view_module": "@jupyter-widgets/base",
      "_view_module_version": "1.2.0",
      "_view_name": "LayoutView",
      "align_content": null,
      "align_items": null,
      "align_self": null,
      "border": null,
      "bottom": null,
      "display": null,
      "flex": null,
      "flex_flow": null,
      "grid_area": null,
      "grid_auto_columns": null,
      "grid_auto_flow": null,
      "grid_auto_rows": null,
      "grid_column": null,
      "grid_gap": null,
      "grid_row": null,
      "grid_template_areas": null,
      "grid_template_columns": null,
      "grid_template_rows": null,
      "height": null,
      "justify_content": null,
      "justify_items": null,
      "left": null,
      "margin": null,
      "max_height": null,
      "max_width": null,
      "min_height": null,
      "min_width": null,
      "object_fit": null,
      "object_position": null,
      "order": null,
      "overflow": null,
      "overflow_x": null,
      "overflow_y": null,
      "padding": null,
      "right": null,
      "top": null,
      "visibility": null,
      "width": null
     }
    },
    "dbe83d7926254f4d875a9d9dcdd44b3b": {
     "model_module": "@jupyter-widgets/controls",
     "model_name": "DescriptionStyleModel",
     "state": {
      "_model_module": "@jupyter-widgets/controls",
      "_model_module_version": "1.5.0",
      "_model_name": "DescriptionStyleModel",
      "_view_count": null,
      "_view_module": "@jupyter-widgets/base",
      "_view_module_version": "1.2.0",
      "_view_name": "StyleView",
      "description_width": ""
     }
    },
    "dc21ff5d508a431ca9ce3589fabeb19b": {
     "model_module": "@jupyter-widgets/controls",
     "model_name": "HTMLModel",
     "state": {
      "_dom_classes": [],
      "_model_module": "@jupyter-widgets/controls",
      "_model_module_version": "1.5.0",
      "_model_name": "HTMLModel",
      "_view_count": null,
      "_view_module": "@jupyter-widgets/controls",
      "_view_module_version": "1.5.0",
      "_view_name": "HTMLView",
      "description": "",
      "description_tooltip": null,
      "layout": "IPY_MODEL_5f14f81257cc4d04b4dedcded6f71957",
      "placeholder": "​",
      "style": "IPY_MODEL_25dceb088a1f435c9c6a8346fec76b01",
      "value": " 442/442 [00:00&lt;00:00, 765B/s]"
     }
    },
    "e6434d63eb5843ba9f0587b4351e6867": {
     "model_module": "@jupyter-widgets/controls",
     "model_name": "FloatProgressModel",
     "state": {
      "_dom_classes": [],
      "_model_module": "@jupyter-widgets/controls",
      "_model_module_version": "1.5.0",
      "_model_name": "FloatProgressModel",
      "_view_count": null,
      "_view_module": "@jupyter-widgets/controls",
      "_view_module_version": "1.5.0",
      "_view_name": "ProgressView",
      "bar_style": "success",
      "description": "Downloading: 100%",
      "description_tooltip": null,
      "layout": "IPY_MODEL_f1f75e51e70745dbb4b15a8cb66b5fdf",
      "max": 267967963,
      "min": 0,
      "orientation": "horizontal",
      "style": "IPY_MODEL_705f930baf9f475cbdb9ed351f269355",
      "value": 267967963
     }
    },
    "f1f75e51e70745dbb4b15a8cb66b5fdf": {
     "model_module": "@jupyter-widgets/base",
     "model_name": "LayoutModel",
     "state": {
      "_model_module": "@jupyter-widgets/base",
      "_model_module_version": "1.2.0",
      "_model_name": "LayoutModel",
      "_view_count": null,
      "_view_module": "@jupyter-widgets/base",
      "_view_module_version": "1.2.0",
      "_view_name": "LayoutView",
      "align_content": null,
      "align_items": null,
      "align_self": null,
      "border": null,
      "bottom": null,
      "display": null,
      "flex": null,
      "flex_flow": null,
      "grid_area": null,
      "grid_auto_columns": null,
      "grid_auto_flow": null,
      "grid_auto_rows": null,
      "grid_column": null,
      "grid_gap": null,
      "grid_row": null,
      "grid_template_areas": null,
      "grid_template_columns": null,
      "grid_template_rows": null,
      "height": null,
      "justify_content": null,
      "justify_items": null,
      "left": null,
      "margin": null,
      "max_height": null,
      "max_width": null,
      "min_height": null,
      "min_width": null,
      "object_fit": null,
      "object_position": null,
      "order": null,
      "overflow": null,
      "overflow_x": null,
      "overflow_y": null,
      "padding": null,
      "right": null,
      "top": null,
      "visibility": null,
      "width": null
     }
    },
    "f4f2e40eaac44947af3c8dd9afb7fde6": {
     "model_module": "@jupyter-widgets/base",
     "model_name": "LayoutModel",
     "state": {
      "_model_module": "@jupyter-widgets/base",
      "_model_module_version": "1.2.0",
      "_model_name": "LayoutModel",
      "_view_count": null,
      "_view_module": "@jupyter-widgets/base",
      "_view_module_version": "1.2.0",
      "_view_name": "LayoutView",
      "align_content": null,
      "align_items": null,
      "align_self": null,
      "border": null,
      "bottom": null,
      "display": null,
      "flex": null,
      "flex_flow": null,
      "grid_area": null,
      "grid_auto_columns": null,
      "grid_auto_flow": null,
      "grid_auto_rows": null,
      "grid_column": null,
      "grid_gap": null,
      "grid_row": null,
      "grid_template_areas": null,
      "grid_template_columns": null,
      "grid_template_rows": null,
      "height": null,
      "justify_content": null,
      "justify_items": null,
      "left": null,
      "margin": null,
      "max_height": null,
      "max_width": null,
      "min_height": null,
      "min_width": null,
      "object_fit": null,
      "object_position": null,
      "order": null,
      "overflow": null,
      "overflow_x": null,
      "overflow_y": null,
      "padding": null,
      "right": null,
      "top": null,
      "visibility": null,
      "width": null
     }
    },
    "f6a2bab9286f42d9b4245eb9ad11bd9e": {
     "model_module": "@jupyter-widgets/controls",
     "model_name": "HBoxModel",
     "state": {
      "_dom_classes": [],
      "_model_module": "@jupyter-widgets/controls",
      "_model_module_version": "1.5.0",
      "_model_name": "HBoxModel",
      "_view_count": null,
      "_view_module": "@jupyter-widgets/controls",
      "_view_module_version": "1.5.0",
      "_view_name": "HBoxView",
      "box_style": "",
      "children": [
       "IPY_MODEL_e6434d63eb5843ba9f0587b4351e6867",
       "IPY_MODEL_6bc6cde360f34331b45c13df55e16206"
      ],
      "layout": "IPY_MODEL_963fe17a3e564a21975aa1eb05f70283"
     }
    },
    "fbebab0a3ae14ad9a34744cee3feaf9f": {
     "model_module": "@jupyter-widgets/controls",
     "model_name": "FloatProgressModel",
     "state": {
      "_dom_classes": [],
      "_model_module": "@jupyter-widgets/controls",
      "_model_module_version": "1.5.0",
      "_model_name": "FloatProgressModel",
      "_view_count": null,
      "_view_module": "@jupyter-widgets/controls",
      "_view_module_version": "1.5.0",
      "_view_name": "ProgressView",
      "bar_style": "success",
      "description": "Downloading: 100%",
      "description_tooltip": null,
      "layout": "IPY_MODEL_f4f2e40eaac44947af3c8dd9afb7fde6",
      "max": 442,
      "min": 0,
      "orientation": "horizontal",
      "style": "IPY_MODEL_213d28706c3742718097d28f3c1ce955",
      "value": 442
     }
    }
   }
  }
 },
 "nbformat": 4,
 "nbformat_minor": 1
}
