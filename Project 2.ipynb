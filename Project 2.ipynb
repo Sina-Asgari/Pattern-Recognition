{
 "cells": [
  {
   "cell_type": "code",
   "execution_count": 1,
   "metadata": {},
   "outputs": [],
   "source": [
    "import numpy as np\n",
    "import pandas as pd\n",
    "import scipy\n",
    "import random\n",
    "from scipy.io import arff\n",
    "from sklearn.neighbors import NearestNeighbors\n",
    "from sklearn import tree\n",
    "from sklearn.svm import SVC\n",
    "from sklearn.model_selection import KFold\n",
    "from sklearn.metrics import plot_precision_recall_curve, roc_curve, auc"
   ]
  },
  {
   "cell_type": "markdown",
   "metadata": {
    "heading_collapsed": true
   },
   "source": [
    "## Read & Preprocess Data"
   ]
  },
  {
   "cell_type": "code",
   "execution_count": 2,
   "metadata": {
    "hidden": true
   },
   "outputs": [],
   "source": [
    "tr1 = pd.DataFrame(arff.loadarff('./datasets/ecoli1/ecoli1-5-1tra.arff')[0])\n",
    "tr2 = pd.DataFrame(arff.loadarff('./datasets/ecoli1/ecoli1-5-2tra.arff')[0])\n",
    "tr3 = pd.DataFrame(arff.loadarff('./datasets/ecoli1/ecoli1-5-3tra.arff')[0])\n",
    "tr4 = pd.DataFrame(arff.loadarff('./datasets/ecoli1/ecoli1-5-4tra.arff')[0])\n",
    "tr5 = pd.DataFrame(arff.loadarff('./datasets/ecoli1/ecoli1-5-5tra.arff')[0])\n",
    "\n",
    "ts1 = pd.DataFrame(arff.loadarff('./datasets/ecoli1/ecoli1-5-1tst.arff')[0])\n",
    "ts2 = pd.DataFrame(arff.loadarff('./datasets/ecoli1/ecoli1-5-2tst.arff')[0])\n",
    "ts3 = pd.DataFrame(arff.loadarff('./datasets/ecoli1/ecoli1-5-3tst.arff')[0])\n",
    "ts4 = pd.DataFrame(arff.loadarff('./datasets/ecoli1/ecoli1-5-4tst.arff')[0])\n",
    "ts5 = pd.DataFrame(arff.loadarff('./datasets/ecoli1/ecoli1-5-5tst.arff')[0])"
   ]
  },
  {
   "cell_type": "code",
   "execution_count": 3,
   "metadata": {
    "hidden": true
   },
   "outputs": [],
   "source": [
    "train = pd.concat([tr1, tr2, tr3, tr4, tr5], ignore_index=True)\n",
    "train = train.drop_duplicates()\n",
    "train['Class'] = train['Class'].replace(to_replace=[b'positive', b'negative'], value=[1, -1])\n",
    "X_train = train.drop('Class', axis=1).to_numpy()\n",
    "X_train = (X_train - X_train.min(axis=0)) / (X_train.max(axis=0) - X_train.min(axis=0))\n",
    "y_train = train['Class'].to_numpy()"
   ]
  },
  {
   "cell_type": "code",
   "execution_count": 4,
   "metadata": {
    "hidden": true
   },
   "outputs": [],
   "source": [
    "test = pd.concat([ts1, ts2, ts3, ts4, ts5], ignore_index=True)\n",
    "test = test.drop_duplicates()\n",
    "test['Class'] = test['Class'].replace(to_replace=[b'positive', b'negative'], value=[1, -1])\n",
    "X_test = test.drop('Class', axis=1).to_numpy()\n",
    "X_test = (X_test - X_test.min(axis=0)) / (X_test.max(axis=0) - X_test.min(axis=0))\n",
    "y_test = test['Class'].to_numpy()"
   ]
  },
  {
   "cell_type": "code",
   "execution_count": 5,
   "metadata": {
    "hidden": true
   },
   "outputs": [
    {
     "name": "stdout",
     "output_type": "stream",
     "text": [
      "Majority Size: 259\n"
     ]
    }
   ],
   "source": [
    "print(f'Majority Size: {len(np.where(y_test == -1)[0])}')"
   ]
  },
  {
   "cell_type": "code",
   "execution_count": 6,
   "metadata": {
    "hidden": true
   },
   "outputs": [
    {
     "name": "stdout",
     "output_type": "stream",
     "text": [
      "Minoroty Size: 77\n"
     ]
    }
   ],
   "source": [
    "print(f'Minoroty Size: {len(np.where(y_test == 1)[0])}')"
   ]
  },
  {
   "cell_type": "markdown",
   "metadata": {
    "heading_collapsed": true
   },
   "source": [
    "## SVC"
   ]
  },
  {
   "cell_type": "code",
   "execution_count": 110,
   "metadata": {
    "hidden": true
   },
   "outputs": [],
   "source": [
    "kf = KFold(5, shuffle=True)"
   ]
  },
  {
   "cell_type": "code",
   "execution_count": 111,
   "metadata": {
    "hidden": true
   },
   "outputs": [],
   "source": [
    "x_train_fold, y_train_fold, x_test_fold, y_test_fold = {}, {}, {}, {}\n",
    "i = 0\n",
    "for train_index, test_index in kf.split(X_train):\n",
    "    x_train_fold[i], x_test_fold[i] = X_train[train_index], X_train[test_index]\n",
    "    y_train_fold[i], y_test_fold[i] = y_train[train_index], y_train[test_index]\n",
    "    i += 1"
   ]
  },
  {
   "cell_type": "markdown",
   "metadata": {
    "heading_collapsed": true,
    "hidden": true
   },
   "source": [
    "### Fold 1"
   ]
  },
  {
   "cell_type": "code",
   "execution_count": 112,
   "metadata": {
    "hidden": true
   },
   "outputs": [
    {
     "data": {
      "text/plain": [
       "SVC(probability=True)"
      ]
     },
     "execution_count": 112,
     "metadata": {},
     "output_type": "execute_result"
    }
   ],
   "source": [
    "clf = SVC(probability=True)\n",
    "clf.fit(x_train_fold[0], y_train_fold[0])"
   ]
  },
  {
   "cell_type": "code",
   "execution_count": 113,
   "metadata": {
    "hidden": true
   },
   "outputs": [],
   "source": [
    "pred = clf.predict(x_test_fold[0])"
   ]
  },
  {
   "cell_type": "code",
   "execution_count": 114,
   "metadata": {
    "hidden": true
   },
   "outputs": [
    {
     "data": {
      "text/plain": [
       "<sklearn.metrics._plot.precision_recall_curve.PrecisionRecallDisplay at 0x21940686550>"
      ]
     },
     "execution_count": 114,
     "metadata": {},
     "output_type": "execute_result"
    },
    {
     "data": {
      "image/png": "[encoded data removed]",
      "text/plain": [
       "<Figure size 432x288 with 1 Axes>"
      ]
     },
     "metadata": {
      "needs_background": "light"
     },
     "output_type": "display_data"
    }
   ],
   "source": [
    "plot_precision_recall_curve(clf, x_test_fold[0], pred)"
   ]
  },
  {
   "cell_type": "code",
   "execution_count": 115,
   "metadata": {
    "hidden": true
   },
   "outputs": [],
   "source": [
    "pred_prob = clf.predict_proba(x_test_fold[0])\n",
    "pred_prob = pred_prob[:,1]\n",
    "fpr, tpr, threshold = roc_curve(y_test_fold[0], pred_prob)\n",
    "roc_auc = auc(fpr, tpr)"
   ]
  },
  {
   "cell_type": "code",
   "execution_count": 116,
   "metadata": {
    "hidden": true
   },
   "outputs": [
    {
     "data": {
      "text/plain": [
       "Text(0.5, 0, 'False Positive Rate')"
      ]
     },
     "execution_count": 116,
     "metadata": {},
     "output_type": "execute_result"
    },
    {
     "data": {
      "image/png": "[encoded data removed]",
      "text/plain": [
       "<Figure size 432x288 with 1 Axes>"
      ]
     },
     "metadata": {
      "needs_background": "light"
     },
     "output_type": "display_data"
    }
   ],
   "source": [
    "import matplotlib.pyplot as plt\n",
    "plt.title('Receiver Operating Characteristic')\n",
    "plt.plot(fpr, tpr, 'b', label = 'AUC = %0.2f' % roc_auc)\n",
    "plt.legend(loc = 'lower right')\n",
    "plt.plot([0, 1], [0, 1],'r--')\n",
    "plt.xlim([0, 1])\n",
    "plt.ylim([0, 1])\n",
    "plt.ylabel('True Positive Rate')\n",
    "plt.xlabel('False Positive Rate')"
   ]
  },
  {
   "cell_type": "markdown",
   "metadata": {
    "heading_collapsed": true,
    "hidden": true
   },
   "source": [
    "### Fold 2"
   ]
  },
  {
   "cell_type": "code",
   "execution_count": 149,
   "metadata": {
    "hidden": true
   },
   "outputs": [
    {
     "data": {
      "text/plain": [
       "SVC(probability=True)"
      ]
     },
     "execution_count": 149,
     "metadata": {},
     "output_type": "execute_result"
    }
   ],
   "source": [
    "clf = SVC(probability=True)\n",
    "clf.fit(x_train_fold[1], y_train_fold[1])"
   ]
  },
  {
   "cell_type": "code",
   "execution_count": 150,
   "metadata": {
    "hidden": true
   },
   "outputs": [],
   "source": [
    "pred = clf.predict(x_test_fold[1])"
   ]
  },
  {
   "cell_type": "code",
   "execution_count": 151,
   "metadata": {
    "hidden": true
   },
   "outputs": [
    {
     "data": {
      "text/plain": [
       "<sklearn.metrics._plot.precision_recall_curve.PrecisionRecallDisplay at 0x219428c2df0>"
      ]
     },
     "execution_count": 151,
     "metadata": {},
     "output_type": "execute_result"
    },
    {
     "data": {
      "image/png": "[encoded data removed]",
      "text/plain": [
       "<Figure size 432x288 with 1 Axes>"
      ]
     },
     "metadata": {
      "needs_background": "light"
     },
     "output_type": "display_data"
    }
   ],
   "source": [
    "plot_precision_recall_curve(clf, x_test_fold[1], pred)"
   ]
  },
  {
   "cell_type": "code",
   "execution_count": 152,
   "metadata": {
    "hidden": true
   },
   "outputs": [],
   "source": [
    "pred_prob = clf.predict_proba(x_test_fold[1])\n",
    "pred_prob = pred_prob[:,1]\n",
    "fpr, tpr, threshold = roc_curve(y_test_fold[1], pred_prob)\n",
    "roc_auc = auc(fpr, tpr)"
   ]
  },
  {
   "cell_type": "code",
   "execution_count": 153,
   "metadata": {
    "hidden": true
   },
   "outputs": [
    {
     "data": {
      "text/plain": [
       "Text(0.5, 0, 'False Positive Rate')"
      ]
     },
     "execution_count": 153,
     "metadata": {},
     "output_type": "execute_result"
    },
    {
     "data": {
      "image/png": "[encoded data removed]",
      "text/plain": [
       "<Figure size 432x288 with 1 Axes>"
      ]
     },
     "metadata": {
      "needs_background": "light"
     },
     "output_type": "display_data"
    }
   ],
   "source": [
    "import matplotlib.pyplot as plt\n",
    "plt.title('Receiver Operating Characteristic')\n",
    "plt.plot(fpr, tpr, 'b', label = 'AUC = %0.2f' % roc_auc)\n",
    "plt.legend(loc = 'lower right')\n",
    "plt.plot([0, 1], [0, 1],'r--')\n",
    "plt.xlim([0, 1])\n",
    "plt.ylim([0, 1])\n",
    "plt.ylabel('True Positive Rate')\n",
    "plt.xlabel('False Positive Rate')"
   ]
  },
  {
   "cell_type": "markdown",
   "metadata": {
    "heading_collapsed": true,
    "hidden": true
   },
   "source": [
    "### Fold 3"
   ]
  },
  {
   "cell_type": "code",
   "execution_count": 144,
   "metadata": {
    "hidden": true
   },
   "outputs": [
    {
     "data": {
      "text/plain": [
       "SVC(probability=True)"
      ]
     },
     "execution_count": 144,
     "metadata": {},
     "output_type": "execute_result"
    }
   ],
   "source": [
    "clf = SVC(probability=True)\n",
    "clf.fit(x_train_fold[2], y_train_fold[2])"
   ]
  },
  {
   "cell_type": "code",
   "execution_count": 145,
   "metadata": {
    "hidden": true
   },
   "outputs": [],
   "source": [
    "pred = clf.predict(x_test_fold[2])"
   ]
  },
  {
   "cell_type": "code",
   "execution_count": 146,
   "metadata": {
    "hidden": true
   },
   "outputs": [
    {
     "data": {
      "text/plain": [
       "<sklearn.metrics._plot.precision_recall_curve.PrecisionRecallDisplay at 0x219440d2e20>"
      ]
     },
     "execution_count": 146,
     "metadata": {},
     "output_type": "execute_result"
    },
    {
     "data": {
      "image/png": "[encoded data removed]",
      "text/plain": [
       "<Figure size 432x288 with 1 Axes>"
      ]
     },
     "metadata": {
      "needs_background": "light"
     },
     "output_type": "display_data"
    }
   ],
   "source": [
    "plot_precision_recall_curve(clf, x_test_fold[2], pred)"
   ]
  },
  {
   "cell_type": "code",
   "execution_count": 147,
   "metadata": {
    "hidden": true
   },
   "outputs": [],
   "source": [
    "pred_prob = clf.predict_proba(x_test_fold[2])\n",
    "pred_prob = pred_prob[:,1]\n",
    "fpr, tpr, threshold = roc_curve(y_test_fold[2], pred_prob)\n",
    "roc_auc = auc(fpr, tpr)"
   ]
  },
  {
   "cell_type": "code",
   "execution_count": 148,
   "metadata": {
    "hidden": true
   },
   "outputs": [
    {
     "data": {
      "text/plain": [
       "Text(0.5, 0, 'False Positive Rate')"
      ]
     },
     "execution_count": 148,
     "metadata": {},
     "output_type": "execute_result"
    },
    {
     "data": {
      "image/png": "[encoded data removed]",
      "text/plain": [
       "<Figure size 432x288 with 1 Axes>"
      ]
     },
     "metadata": {
      "needs_background": "light"
     },
     "output_type": "display_data"
    }
   ],
   "source": [
    "import matplotlib.pyplot as plt\n",
    "plt.title('Receiver Operating Characteristic')\n",
    "plt.plot(fpr, tpr, 'b', label = 'AUC = %0.2f' % roc_auc)\n",
    "plt.legend(loc = 'lower right')\n",
    "plt.plot([0, 1], [0, 1],'r--')\n",
    "plt.xlim([0, 1])\n",
    "plt.ylim([0, 1])\n",
    "plt.ylabel('True Positive Rate')\n",
    "plt.xlabel('False Positive Rate')"
   ]
  },
  {
   "cell_type": "markdown",
   "metadata": {
    "heading_collapsed": true,
    "hidden": true
   },
   "source": [
    "### Fold 4"
   ]
  },
  {
   "cell_type": "code",
   "execution_count": 139,
   "metadata": {
    "hidden": true
   },
   "outputs": [
    {
     "data": {
      "text/plain": [
       "SVC(probability=True)"
      ]
     },
     "execution_count": 139,
     "metadata": {},
     "output_type": "execute_result"
    }
   ],
   "source": [
    "clf = SVC(probability=True)\n",
    "clf.fit(x_train_fold[3], y_train_fold[3])"
   ]
  },
  {
   "cell_type": "code",
   "execution_count": 140,
   "metadata": {
    "hidden": true
   },
   "outputs": [],
   "source": [
    "pred = clf.predict(x_test_fold[3])"
   ]
  },
  {
   "cell_type": "code",
   "execution_count": 141,
   "metadata": {
    "hidden": true
   },
   "outputs": [
    {
     "data": {
      "text/plain": [
       "<sklearn.metrics._plot.precision_recall_curve.PrecisionRecallDisplay at 0x219429bca30>"
      ]
     },
     "execution_count": 141,
     "metadata": {},
     "output_type": "execute_result"
    },
    {
     "data": {
      "image/png": "[encoded data removed]",
      "text/plain": [
       "<Figure size 432x288 with 1 Axes>"
      ]
     },
     "metadata": {
      "needs_background": "light"
     },
     "output_type": "display_data"
    }
   ],
   "source": [
    "plot_precision_recall_curve(clf, x_test_fold[3], pred)"
   ]
  },
  {
   "cell_type": "code",
   "execution_count": 142,
   "metadata": {
    "hidden": true
   },
   "outputs": [],
   "source": [
    "pred_prob = clf.predict_proba(x_test_fold[3])\n",
    "pred_prob = pred_prob[:,1]\n",
    "fpr, tpr, threshold = roc_curve(y_test_fold[3], pred_prob)\n",
    "roc_auc = auc(fpr, tpr)"
   ]
  },
  {
   "cell_type": "code",
   "execution_count": 143,
   "metadata": {
    "hidden": true
   },
   "outputs": [
    {
     "data": {
      "text/plain": [
       "Text(0.5, 0, 'False Positive Rate')"
      ]
     },
     "execution_count": 143,
     "metadata": {},
     "output_type": "execute_result"
    },
    {
     "data": {
      "image/png": "[encoded data removed]",
      "text/plain": [
       "<Figure size 432x288 with 1 Axes>"
      ]
     },
     "metadata": {
      "needs_background": "light"
     },
     "output_type": "display_data"
    }
   ],
   "source": [
    "import matplotlib.pyplot as plt\n",
    "plt.title('Receiver Operating Characteristic')\n",
    "plt.plot(fpr, tpr, 'b', label = 'AUC = %0.2f' % roc_auc)\n",
    "plt.legend(loc = 'lower right')\n",
    "plt.plot([0, 1], [0, 1],'r--')\n",
    "plt.xlim([0, 1])\n",
    "plt.ylim([0, 1])\n",
    "plt.ylabel('True Positive Rate')\n",
    "plt.xlabel('False Positive Rate')"
   ]
  },
  {
   "cell_type": "markdown",
   "metadata": {
    "heading_collapsed": true,
    "hidden": true
   },
   "source": [
    "### Fold 5"
   ]
  },
  {
   "cell_type": "code",
   "execution_count": 132,
   "metadata": {
    "hidden": true
   },
   "outputs": [
    {
     "data": {
      "text/plain": [
       "SVC(probability=True)"
      ]
     },
     "execution_count": 132,
     "metadata": {},
     "output_type": "execute_result"
    }
   ],
   "source": [
    "clf = SVC(probability=True)\n",
    "clf.fit(x_train_fold[4], y_train_fold[4])"
   ]
  },
  {
   "cell_type": "code",
   "execution_count": 133,
   "metadata": {
    "hidden": true
   },
   "outputs": [],
   "source": [
    "pred = clf.predict(x_test_fold[4])"
   ]
  },
  {
   "cell_type": "code",
   "execution_count": 134,
   "metadata": {
    "hidden": true
   },
   "outputs": [
    {
     "data": {
      "text/plain": [
       "<sklearn.metrics._plot.precision_recall_curve.PrecisionRecallDisplay at 0x21943c1bd30>"
      ]
     },
     "execution_count": 134,
     "metadata": {},
     "output_type": "execute_result"
    },
    {
     "data": {
      "image/png": "[encoded data removed]",
      "text/plain": [
       "<Figure size 432x288 with 1 Axes>"
      ]
     },
     "metadata": {
      "needs_background": "light"
     },
     "output_type": "display_data"
    }
   ],
   "source": [
    "plot_precision_recall_curve(clf, x_test_fold[4], pred)"
   ]
  },
  {
   "cell_type": "code",
   "execution_count": 135,
   "metadata": {
    "hidden": true
   },
   "outputs": [],
   "source": [
    "pred_prob = clf.predict_proba(x_test_fold[4])\n",
    "pred_prob = pred_prob[:,1]\n",
    "fpr, tpr, threshold = roc_curve(y_test_fold[4], pred_prob)\n",
    "roc_auc = auc(fpr, tpr)"
   ]
  },
  {
   "cell_type": "code",
   "execution_count": 136,
   "metadata": {
    "hidden": true
   },
   "outputs": [
    {
     "data": {
      "text/plain": [
       "Text(0.5, 0, 'False Positive Rate')"
      ]
     },
     "execution_count": 136,
     "metadata": {},
     "output_type": "execute_result"
    },
    {
     "data": {
      "image/png": "[encoded data removed]",
      "text/plain": [
       "<Figure size 432x288 with 1 Axes>"
      ]
     },
     "metadata": {
      "needs_background": "light"
     },
     "output_type": "display_data"
    }
   ],
   "source": [
    "import matplotlib.pyplot as plt\n",
    "plt.title('Receiver Operating Characteristic')\n",
    "plt.plot(fpr, tpr, 'b', label = 'AUC = %0.2f' % roc_auc)\n",
    "plt.legend(loc = 'lower right')\n",
    "plt.plot([0, 1], [0, 1],'r--')\n",
    "plt.xlim([0, 1])\n",
    "plt.ylim([0, 1])\n",
    "plt.ylabel('True Positive Rate')\n",
    "plt.xlabel('False Positive Rate')"
   ]
  },
  {
   "cell_type": "markdown",
   "metadata": {
    "heading_collapsed": true
   },
   "source": [
    "## AdaBoost.M2"
   ]
  },
  {
   "cell_type": "code",
   "execution_count": 156,
   "metadata": {
    "hidden": true
   },
   "outputs": [],
   "source": [
    "def AdaBoosM2(X, y, T):\n",
    "    H = []\n",
    "    beta = []\n",
    "    D = np.ones((len(X))) / len(X)\n",
    "    for i in range(T):\n",
    "        clf = tree.DecisionTreeClassifier(max_depth=1, max_features=1)\n",
    "        h = clf.fit(X, y, sample_weight=D)\n",
    "        \n",
    "        pred = h.predict(X)\n",
    "        score = len((pred == y).nonzero()[0]) / len(y)\n",
    "\n",
    "        if score > 0.5:\n",
    "#             print(f'accepted score: {i}, {score}')\n",
    "            H.append(h)\n",
    "            eta = np.sum(D[(h.predict(X) != y).nonzero()[0]]) / 2\n",
    "            b = eta / (1 -eta) or 0.00000001\n",
    "            beta.append(b)\n",
    "            correct_pred_idx = (h.predict(X) == y).nonzero()[0]\n",
    "            D[correct_pred_idx] = D[correct_pred_idx] * b\n",
    "            D = D / np.sum(D)\n",
    "        else:\n",
    "#             print(f'not accepted score: {score}')\n",
    "            D[:] = (1 / len(X))\n",
    "\n",
    "    \n",
    "    return H, beta    "
   ]
  },
  {
   "cell_type": "markdown",
   "metadata": {
    "heading_collapsed": true,
    "hidden": true
   },
   "source": [
    "### T=10"
   ]
  },
  {
   "cell_type": "code",
   "execution_count": 162,
   "metadata": {
    "hidden": true
   },
   "outputs": [],
   "source": [
    "H, beta = AdaBoosM2(X_train, y_train, 10)"
   ]
  },
  {
   "cell_type": "code",
   "execution_count": 163,
   "metadata": {
    "hidden": true
   },
   "outputs": [],
   "source": [
    "for i in range(len(H)):\n",
    "    pred = np.log(1 / beta[i]) * H[i].predict_proba(X_test)"
   ]
  },
  {
   "cell_type": "code",
   "execution_count": 160,
   "metadata": {
    "hidden": true
   },
   "outputs": [],
   "source": [
    "pred = pred.argmax(axis=1)\n",
    "pred = np.where(pred == 0, -1, pred)"
   ]
  },
  {
   "cell_type": "code",
   "execution_count": 12,
   "metadata": {
    "hidden": true
   },
   "outputs": [],
   "source": [
    "res = y_test == pred"
   ]
  },
  {
   "cell_type": "code",
   "execution_count": 13,
   "metadata": {
    "hidden": true
   },
   "outputs": [
    {
     "data": {
      "text/plain": [
       "290"
      ]
     },
     "execution_count": 13,
     "metadata": {},
     "output_type": "execute_result"
    }
   ],
   "source": [
    "len(np.where(res == True)[0])"
   ]
  },
  {
   "cell_type": "markdown",
   "metadata": {
    "heading_collapsed": true,
    "hidden": true
   },
   "source": [
    "### T=50"
   ]
  },
  {
   "cell_type": "code",
   "execution_count": 48,
   "metadata": {
    "hidden": true
   },
   "outputs": [],
   "source": [
    "H, beta = AdaBoosM2(X_train, y_train, 50)"
   ]
  },
  {
   "cell_type": "code",
   "execution_count": 49,
   "metadata": {
    "hidden": true
   },
   "outputs": [],
   "source": [
    "for i in range(len(H)):\n",
    "    pred = np.log(1 / beta[i]) * H[i].predict_proba(X_test)"
   ]
  },
  {
   "cell_type": "code",
   "execution_count": 50,
   "metadata": {
    "hidden": true
   },
   "outputs": [],
   "source": [
    "pred = pred.argmax(axis=1)\n",
    "pred = np.where(pred == 0, -1, pred)"
   ]
  },
  {
   "cell_type": "code",
   "execution_count": 51,
   "metadata": {
    "hidden": true
   },
   "outputs": [],
   "source": [
    "res = y_test == pred"
   ]
  },
  {
   "cell_type": "code",
   "execution_count": 52,
   "metadata": {
    "hidden": true
   },
   "outputs": [
    {
     "data": {
      "text/plain": [
       "259"
      ]
     },
     "execution_count": 52,
     "metadata": {},
     "output_type": "execute_result"
    }
   ],
   "source": [
    "len(np.where(res == True)[0])"
   ]
  },
  {
   "cell_type": "markdown",
   "metadata": {
    "heading_collapsed": true,
    "hidden": true
   },
   "source": [
    "### T=100"
   ]
  },
  {
   "cell_type": "code",
   "execution_count": 63,
   "metadata": {
    "hidden": true
   },
   "outputs": [],
   "source": [
    "H, beta = AdaBoosM2(X_train, y_train, 100)"
   ]
  },
  {
   "cell_type": "code",
   "execution_count": 64,
   "metadata": {
    "hidden": true
   },
   "outputs": [],
   "source": [
    "for i in range(len(H)):\n",
    "    pred = np.log(1 / beta[i]) * H[i].predict_proba(X_test)"
   ]
  },
  {
   "cell_type": "code",
   "execution_count": 65,
   "metadata": {
    "hidden": true
   },
   "outputs": [],
   "source": [
    "pred = pred.argmax(axis=1)\n",
    "pred = np.where(pred == 0, -1, pred)"
   ]
  },
  {
   "cell_type": "code",
   "execution_count": 66,
   "metadata": {
    "hidden": true
   },
   "outputs": [],
   "source": [
    "res = y_test == pred"
   ]
  },
  {
   "cell_type": "code",
   "execution_count": 67,
   "metadata": {
    "hidden": true
   },
   "outputs": [
    {
     "data": {
      "text/plain": [
       "259"
      ]
     },
     "execution_count": 67,
     "metadata": {},
     "output_type": "execute_result"
    }
   ],
   "source": [
    "len(np.where(res == True)[0])"
   ]
  },
  {
   "cell_type": "markdown",
   "metadata": {
    "heading_collapsed": true
   },
   "source": [
    "## RUS Boost"
   ]
  },
  {
   "cell_type": "code",
   "execution_count": 7,
   "metadata": {
    "hidden": true
   },
   "outputs": [],
   "source": [
    "def RUS_Boost(X, y, T):\n",
    "    H = []\n",
    "    beta = []\n",
    "    D = np.ones((len(X))) / len(X)\n",
    "    \n",
    "    positive_size = len(y[y == 1])\n",
    "    negative_size = len(y[y == -1])\n",
    "    \n",
    "    positive_data = X[y == 1]\n",
    "    negative_data = X[y == -1]\n",
    "\n",
    "    \n",
    "    for i in range(T):\n",
    "        \n",
    "        minority_index = (y == 1).nonzero()[0]\n",
    "        majority_index = (y == -1).nonzero()[0]\n",
    "\n",
    "        majority_index = np.array(random.sample(list(majority_index), positive_size))\n",
    "        index = sorted(np.concatenate((minority_index, majority_index)))\n",
    "        \n",
    "        clf = tree.DecisionTreeClassifier(max_depth=1, max_features=1)\n",
    "        h = clf.fit(X[index], y[index], sample_weight=D[index])\n",
    "        \n",
    "        pred = h.predict(X)\n",
    "        score = len((pred == y).nonzero()[0]) / len(y)\n",
    "\n",
    "        if score > 0.5:\n",
    "            H.append(h)\n",
    "            eta = np.sum(D[(h.predict(X) != y).nonzero()[0]])\n",
    "            b = eta / (1 -eta) or 0.0000001\n",
    "            beta.append(b)\n",
    "\n",
    "            correct_pred_idx = (h.predict(X) == y).nonzero()[0]\n",
    "            D[correct_pred_idx] = D[correct_pred_idx] * b\n",
    "            D = D / np.sum(D)\n",
    "        else:\n",
    "            D = np.ones(len(X)) / len(X)\n",
    "    \n",
    "    return H, beta"
   ]
  },
  {
   "cell_type": "markdown",
   "metadata": {
    "hidden": true
   },
   "source": [
    "### T=10"
   ]
  },
  {
   "cell_type": "code",
   "execution_count": 48,
   "metadata": {
    "hidden": true
   },
   "outputs": [],
   "source": [
    "H, beta = RUS_Boost(X_train, y_train, 10)"
   ]
  },
  {
   "cell_type": "code",
   "execution_count": 49,
   "metadata": {
    "hidden": true
   },
   "outputs": [],
   "source": [
    "for i in range(len(H)):\n",
    "    pred = np.log(1 / beta[i]) * H[i].predict_proba(X_test)"
   ]
  },
  {
   "cell_type": "code",
   "execution_count": 50,
   "metadata": {
    "hidden": true
   },
   "outputs": [],
   "source": [
    "pred = pred.argmax(axis=1)\n",
    "pred = np.where(pred == 0, -1, pred)"
   ]
  },
  {
   "cell_type": "code",
   "execution_count": 51,
   "metadata": {
    "hidden": true
   },
   "outputs": [],
   "source": [
    "res = y_test == pred"
   ]
  },
  {
   "cell_type": "code",
   "execution_count": 52,
   "metadata": {
    "hidden": true
   },
   "outputs": [
    {
     "data": {
      "text/plain": [
       "290"
      ]
     },
     "execution_count": 52,
     "metadata": {},
     "output_type": "execute_result"
    }
   ],
   "source": [
    "len(np.where(res == True)[0])"
   ]
  },
  {
   "cell_type": "markdown",
   "metadata": {
    "hidden": true
   },
   "source": [
    "### T=50"
   ]
  },
  {
   "cell_type": "code",
   "execution_count": 33,
   "metadata": {
    "hidden": true
   },
   "outputs": [],
   "source": [
    "H, beta = RUS_Boost(X_train, y_train, 50)"
   ]
  },
  {
   "cell_type": "code",
   "execution_count": 34,
   "metadata": {
    "hidden": true
   },
   "outputs": [],
   "source": [
    "for i in range(len(H)):\n",
    "    pred = np.log(1 / beta[i]) * H[i].predict_proba(X_test)"
   ]
  },
  {
   "cell_type": "code",
   "execution_count": 35,
   "metadata": {
    "hidden": true
   },
   "outputs": [],
   "source": [
    "pred = pred.argmax(axis=1)\n",
    "pred = np.where(pred == 0, -1, pred)"
   ]
  },
  {
   "cell_type": "code",
   "execution_count": 36,
   "metadata": {
    "hidden": true
   },
   "outputs": [],
   "source": [
    "res = y_test == pred"
   ]
  },
  {
   "cell_type": "code",
   "execution_count": 37,
   "metadata": {
    "hidden": true
   },
   "outputs": [
    {
     "data": {
      "text/plain": [
       "294"
      ]
     },
     "execution_count": 37,
     "metadata": {},
     "output_type": "execute_result"
    }
   ],
   "source": [
    "len(np.where(res == True)[0])"
   ]
  },
  {
   "cell_type": "markdown",
   "metadata": {
    "hidden": true
   },
   "source": [
    "### T=100"
   ]
  },
  {
   "cell_type": "code",
   "execution_count": 73,
   "metadata": {
    "hidden": true
   },
   "outputs": [],
   "source": [
    "H, beta = RUS_Boost(X_train, y_train, 100)"
   ]
  },
  {
   "cell_type": "code",
   "execution_count": 74,
   "metadata": {
    "hidden": true
   },
   "outputs": [],
   "source": [
    "for i in range(len(H)):\n",
    "    pred = np.log(1 / beta[i]) * H[i].predict_proba(X_test)"
   ]
  },
  {
   "cell_type": "code",
   "execution_count": 75,
   "metadata": {
    "hidden": true
   },
   "outputs": [],
   "source": [
    "pred = pred.argmax(axis=1)\n",
    "pred = np.where(pred == 0, -1, pred)"
   ]
  },
  {
   "cell_type": "code",
   "execution_count": 76,
   "metadata": {
    "hidden": true
   },
   "outputs": [],
   "source": [
    "res = y_test == pred"
   ]
  },
  {
   "cell_type": "code",
   "execution_count": 77,
   "metadata": {
    "hidden": true
   },
   "outputs": [
    {
     "data": {
      "text/plain": [
       "288"
      ]
     },
     "execution_count": 77,
     "metadata": {},
     "output_type": "execute_result"
    }
   ],
   "source": [
    "len(np.where(res == True)[0])"
   ]
  },
  {
   "cell_type": "markdown",
   "metadata": {
    "heading_collapsed": true
   },
   "source": [
    "## SMOTE Boost"
   ]
  },
  {
   "cell_type": "code",
   "execution_count": 78,
   "metadata": {
    "hidden": true
   },
   "outputs": [],
   "source": [
    "def SMOTE(sample, N=100, k=5, precent=True):\n",
    "    \"\"\"\n",
    "    param sample: Minority Data\n",
    "    param T: Number of minority class samples\n",
    "    param N: Amount of SMOTE N%\n",
    "    param K: Number of nearest neighbors\n",
    "    \"\"\"\n",
    "    numattrs = sample.shape[1]\n",
    "    newindex = 0\n",
    "    T = len(sample)\n",
    "    \n",
    "#     if N < 100:\n",
    "#         T_ = list(np.random.choice(range(T), size=N, replace=True))\n",
    "#         synthetic = np.zeros((N, sample.shape[1]))\n",
    "#         N = 100\n",
    "#     else:\n",
    "#         T_ = range(T)\n",
    "#         synthetic = np.zeros((sample.shape[0] * int(N/100), sample.shape[1]))\n",
    "        \n",
    "    if precent:\n",
    "        T_ = range(T)\n",
    "        synthetic = np.zeros((sample.shape[0] * int(N/100), sample.shape[1]))\n",
    "    else:\n",
    "        T_ = list(np.random.choice(range(T), size=N, replace=True))\n",
    "        synthetic = np.zeros((N, sample.shape[1]))\n",
    "        N = 100\n",
    "        \n",
    "    N = int(N / 100)\n",
    "    # create NN object\n",
    "    NNobj = NearestNeighbors(n_neighbors=k).fit(sample)\n",
    "    \n",
    "    for i in T_:\n",
    "        _, indices = NNobj.kneighbors(sample[i].reshape(1, -1))\n",
    "        nnarray = indices[0]\n",
    "#         Populate(N, i, nnarray)\n",
    "        n = N\n",
    "        while n != 0:\n",
    "            nn = np.random.choice(np.arange(0, k))\n",
    "            for attr in range(numattrs):\n",
    "                dif = sample[nnarray[nn]][attr] - sample[i][attr]\n",
    "                gap = round(np.random.uniform(0, 1), 2)\n",
    "                synthetic[newindex][attr] = sample[i][attr] + (gap * dif)\n",
    "            newindex += 1\n",
    "            n -= 1 \n",
    "    return synthetic"
   ]
  },
  {
   "cell_type": "code",
   "execution_count": 79,
   "metadata": {
    "hidden": true
   },
   "outputs": [],
   "source": [
    "def SmoteBoost(X, Y, T):\n",
    "    H = []\n",
    "    beta = []\n",
    "    minority_train = X[Y==1]\n",
    "    \n",
    "    a = ((len(X[Y==-1]) // len(X[Y==1]))-1)*100\n",
    "    c = len(X[Y==-1]) % len(X[Y==1])\n",
    "    \n",
    "    synthetic_data = np.concatenate((SMOTE(minority_train, N=a),\n",
    "                                     SMOTE(minority_train, N=c, precent=False)))\n",
    "                                    \n",
    "    D = np.ones(len(synthetic_data) + len(X)) / (len(synthetic_data) + len(X))\n",
    "    y = np.concatenate((Y, np.ones(len(synthetic_data))))\n",
    "\n",
    "    for i in range(T):\n",
    "        \n",
    "        synthetic_data = np.concatenate((SMOTE(minority_train, N=a),\n",
    "                                     SMOTE(minority_train, N=c, precent=False)))\n",
    "        x = np.concatenate((X, synthetic_data))\n",
    "        \n",
    "        clf = tree.DecisionTreeClassifier(max_depth=1, max_features=1)\n",
    "        h = clf.fit(x, y, sample_weight=D)\n",
    "        \n",
    "        pred = h.predict(X)\n",
    "        score = len((pred == Y).nonzero()[0]) / len(Y)\n",
    "        \n",
    "        if score > 0.5:\n",
    "#             print(score)\n",
    "            H.append(h)\n",
    "            eta = np.sum(D[(h.predict(X) != Y).nonzero()[0]])\n",
    "            b = eta / (1 -eta) or 0.000001\n",
    "            beta.append(b)\n",
    "\n",
    "            correct_pred_idx = (h.predict(X) == Y).nonzero()[0]\n",
    "            D[correct_pred_idx] = D[correct_pred_idx] * b\n",
    "            D = D / np.sum(D)\n",
    "        else:\n",
    "            D = np.ones(len(synthetic_data) + len(X)) / (len(synthetic_data) + len(X))\n",
    "    \n",
    "    return H, beta"
   ]
  },
  {
   "cell_type": "markdown",
   "metadata": {
    "hidden": true
   },
   "source": [
    "### T=10"
   ]
  },
  {
   "cell_type": "code",
   "execution_count": 80,
   "metadata": {
    "hidden": true
   },
   "outputs": [],
   "source": [
    "H, beta = SmoteBoost(X_train, y_train, 10)"
   ]
  },
  {
   "cell_type": "code",
   "execution_count": 81,
   "metadata": {
    "hidden": true
   },
   "outputs": [],
   "source": [
    "for i in range(len(H)):\n",
    "    pred = np.log(1 / beta[i]) * H[i].predict_proba(X_test)"
   ]
  },
  {
   "cell_type": "code",
   "execution_count": 82,
   "metadata": {
    "hidden": true
   },
   "outputs": [],
   "source": [
    "pred = pred.argmax(axis=1)\n",
    "pred = np.where(pred == 0, -1, pred)"
   ]
  },
  {
   "cell_type": "code",
   "execution_count": 83,
   "metadata": {
    "hidden": true
   },
   "outputs": [],
   "source": [
    "res = y_test == pred"
   ]
  },
  {
   "cell_type": "code",
   "execution_count": 84,
   "metadata": {
    "hidden": true
   },
   "outputs": [
    {
     "data": {
      "text/plain": [
       "294"
      ]
     },
     "execution_count": 84,
     "metadata": {},
     "output_type": "execute_result"
    }
   ],
   "source": [
    "len(np.where(res == True)[0])"
   ]
  },
  {
   "cell_type": "markdown",
   "metadata": {
    "hidden": true
   },
   "source": [
    "### T=50"
   ]
  },
  {
   "cell_type": "code",
   "execution_count": 85,
   "metadata": {
    "hidden": true
   },
   "outputs": [],
   "source": [
    "H, beta = SmoteBoost(X_train, y_train, 50)"
   ]
  },
  {
   "cell_type": "code",
   "execution_count": 86,
   "metadata": {
    "hidden": true
   },
   "outputs": [],
   "source": [
    "for i in range(len(H)):\n",
    "    pred = np.log(1 / beta[i]) * H[i].predict_proba(X_test)"
   ]
  },
  {
   "cell_type": "code",
   "execution_count": 87,
   "metadata": {
    "hidden": true
   },
   "outputs": [],
   "source": [
    "pred = pred.argmax(axis=1)\n",
    "pred = np.where(pred == 0, -1, pred)"
   ]
  },
  {
   "cell_type": "code",
   "execution_count": 88,
   "metadata": {
    "hidden": true
   },
   "outputs": [],
   "source": [
    "res = y_test == pred"
   ]
  },
  {
   "cell_type": "code",
   "execution_count": 89,
   "metadata": {
    "hidden": true
   },
   "outputs": [
    {
     "data": {
      "text/plain": [
       "294"
      ]
     },
     "execution_count": 89,
     "metadata": {},
     "output_type": "execute_result"
    }
   ],
   "source": [
    "len(np.where(res == True)[0])"
   ]
  },
  {
   "cell_type": "markdown",
   "metadata": {
    "hidden": true
   },
   "source": [
    "### T=100"
   ]
  },
  {
   "cell_type": "code",
   "execution_count": 105,
   "metadata": {
    "hidden": true
   },
   "outputs": [],
   "source": [
    "H, beta = SmoteBoost(X_train, y_train, 100)"
   ]
  },
  {
   "cell_type": "code",
   "execution_count": 106,
   "metadata": {
    "hidden": true
   },
   "outputs": [],
   "source": [
    "for i in range(len(H)):\n",
    "    pred = np.log(1 / beta[i]) * H[i].predict_proba(X_test)"
   ]
  },
  {
   "cell_type": "code",
   "execution_count": 107,
   "metadata": {
    "hidden": true
   },
   "outputs": [],
   "source": [
    "pred = pred.argmax(axis=1)\n",
    "pred = np.where(pred == 0, -1, pred)"
   ]
  },
  {
   "cell_type": "code",
   "execution_count": 108,
   "metadata": {
    "hidden": true
   },
   "outputs": [],
   "source": [
    "res = y_test == pred"
   ]
  },
  {
   "cell_type": "code",
   "execution_count": 109,
   "metadata": {
    "hidden": true
   },
   "outputs": [
    {
     "data": {
      "text/plain": [
       "294"
      ]
     },
     "execution_count": 109,
     "metadata": {},
     "output_type": "execute_result"
    }
   ],
   "source": [
    "len(np.where(res == True)[0])"
   ]
  },
  {
   "cell_type": "markdown",
   "metadata": {
    "heading_collapsed": true
   },
   "source": [
    "## RB Boost"
   ]
  },
  {
   "cell_type": "code",
   "execution_count": 394,
   "metadata": {
    "hidden": true
   },
   "outputs": [],
   "source": [
    "def random_balance(X, y):\n",
    "    \"\"\"\n",
    "    param S: Dataframe of training set\n",
    "    param K: Number of nearest neighbors\n",
    "    \"\"\"\n",
    "    labels = []\n",
    "    totalSize = len(X)\n",
    "#     Sp = S[S['Class'] == 1].drop('Class', axis=1).to_numpy()\n",
    "#     Sn = S[S['Class'] == 0].drop('Class', axis=1).to_numpy()\n",
    "    Sp = X[y==1]\n",
    "    Sn = X[y==-1]\n",
    "    \n",
    "    majoritySize = len(Sn)\n",
    "    minoritySize = len(Sp)\n",
    "    newMajoritySize = np.random.choice(range(2, totalSize-2))\n",
    "    newMinoritySize = totalSize - newMajoritySize\n",
    "    \n",
    "    if newMajoritySize < majoritySize:\n",
    "        Sprime = Sp\n",
    "        labels.extend([1 for i in range(len(Sp))])\n",
    "        rand = np.random.choice(range(majoritySize), newMajoritySize, replace=False)\n",
    "        Sprime = np.concatenate((Sprime ,Sn[rand]), axis=0)\n",
    "        labels.extend([-1 for i in range(len(rand))])\n",
    "        temp = SMOTE(Sp, newMinoritySize - minoritySize)\n",
    "        Sprime = np.concatenate((Sprime, temp), axis=0)\n",
    "        labels.extend([1 for i in range(len(temp))])\n",
    "        \n",
    "    else:\n",
    "        Sprime = Sn\n",
    "        labels.extend([-1 for i in range(len(Sn))])\n",
    "        rand = np.random.choice(range(minoritySize), newMinoritySize, replace=False)\n",
    "        Sprime = np.concatenate((Sprime ,Sp[rand]), axis=0)\n",
    "        labels.extend([1 for i in range(len(rand))])\n",
    "        temp = SMOTE(Sn, newMajoritySize - majoritySize)\n",
    "        Sprime = np.concatenate((Sprime, temp), axis=0)\n",
    "        labels.extend([-1 for i in range(len(temp))])\n",
    "    \n",
    "    return Sprime, labels"
   ]
  }
 ],
 "metadata": {
  "kernelspec": {
   "display_name": "Python 3",
   "language": "python",
   "name": "python3"
  },
  "language_info": {
   "codemirror_mode": {
    "name": "ipython",
    "version": 3
   },
   "file_extension": ".py",
   "mimetype": "text/x-python",
   "name": "python",
   "nbconvert_exporter": "python",
   "pygments_lexer": "ipython3",
   "version": "3.8.3"
  },
  "latex_envs": {
   "LaTeX_envs_menu_present": true,
   "autoclose": false,
   "autocomplete": true,
   "bibliofile": "biblio.bib",
   "cite_by": "apalike",
   "current_citInitial": 1,
   "eqLabelWithNumbers": true,
   "eqNumInitial": 1,
   "hotkeys": {
    "equation": "Ctrl-E",
    "itemize": "Ctrl-I"
   },
   "labels_anchors": false,
   "latex_user_defs": false,
   "report_style_numbering": false,
   "user_envs_cfg": false
  },
  "varInspector": {
   "cols": {
    "lenName": 16,
    "lenType": 16,
    "lenVar": 40
   },
   "kernels_config": {
    "python": {
     "delete_cmd_postfix": "",
     "delete_cmd_prefix": "del ",
     "library": "var_list.py",
     "varRefreshCmd": "print(var_dic_list())"
    },
    "r": {
     "delete_cmd_postfix": ") ",
     "delete_cmd_prefix": "rm(",
     "library": "var_list.r",
     "varRefreshCmd": "cat(var_dic_list()) "
    }
   },
   "types_to_exclude": [
    "module",
    "function",
    "builtin_function_or_method",
    "instance",
    "_Feature"
   ],
   "window_display": false
  }
 },
 "nbformat": 4,
 "nbformat_minor": 4
}
