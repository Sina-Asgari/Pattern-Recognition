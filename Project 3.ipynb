{
 "cells": [
  {
   "cell_type": "code",
   "execution_count": 24,
   "metadata": {},
   "outputs": [],
   "source": [
    "import os\n",
    "import numpy as np\n",
    "import matplotlib.pyplot as plt\n",
    "import cv2\n",
    "from tensorflow import keras\n",
    "import tensorflow as tf\n",
    "from tensorflow.keras.utils import to_categorical\n",
    "from sklearn.svm import SVC\n",
    "from sklearn.model_selection import GridSearchCV\n",
    "from sklearn.model_selection import PredefinedSplit"
   ]
  },
  {
   "cell_type": "code",
   "execution_count": null,
   "metadata": {},
   "outputs": [],
   "source": [
    "# os.environ['TF_FORCE_GPU_ALLOW_GROWTH'] = 'true'"
   ]
  },
  {
   "cell_type": "code",
   "execution_count": 2,
   "metadata": {},
   "outputs": [],
   "source": [
    "gpus = tf.config.experimental.list_physical_devices('GPU')\n",
    "\n",
    "tf.config.experimental.set_virtual_device_configuration(gpus[0], [tf.config.experimental.VirtualDeviceConfiguration(memory_limit=2048)])"
   ]
  },
  {
   "cell_type": "code",
   "execution_count": 3,
   "metadata": {},
   "outputs": [
    {
     "name": "stdout",
     "output_type": "stream",
     "text": [
      "Mon Feb 15 22:04:23 2021       \n",
      "+-----------------------------------------------------------------------------+\n",
      "| NVIDIA-SMI 451.82       Driver Version: 451.82       CUDA Version: 11.0     |\n",
      "|-------------------------------+----------------------+----------------------+\n",
      "| GPU  Name            TCC/WDDM | Bus-Id        Disp.A | Volatile Uncorr. ECC |\n",
      "| Fan  Temp  Perf  Pwr:Usage/Cap|         Memory-Usage | GPU-Util  Compute M. |\n",
      "|===============================+======================+======================|\n",
      "|   0  GeForce GTX 165... WDDM  | 00000000:01:00.0 Off |                  N/A |\n",
      "| N/A   35C    P8     2W /  N/A |    134MiB /  4096MiB |      0%      Default |\n",
      "+-------------------------------+----------------------+----------------------+\n",
      "                                                                               \n",
      "+-----------------------------------------------------------------------------+\n",
      "| Processes:                                                                  |\n",
      "|  GPU   GI   CI        PID   Type   Process name                  GPU Memory |\n",
      "|        ID   ID                                                   Usage      |\n",
      "|=============================================================================|\n",
      "|  No running processes found                                                 |\n",
      "+-----------------------------------------------------------------------------+\n"
     ]
    }
   ],
   "source": [
    "!nvidia-smi"
   ]
  },
  {
   "cell_type": "markdown",
   "metadata": {
    "heading_collapsed": true
   },
   "source": [
    "## Read and Preprocessing Images"
   ]
  },
  {
   "cell_type": "code",
   "execution_count": 13,
   "metadata": {
    "hidden": true
   },
   "outputs": [],
   "source": [
    "X_train = np.zeros((2300, 224, 224, 3))\n",
    "X_test = np.zeros((805, 224, 224, 3))\n",
    "index = np.random.choice(range(27), 20, replace=False)\n",
    "not_index = list(set(range(27)) - set(index))\n",
    "y_train = []\n",
    "y_test = []\n",
    "\n",
    "temp = np.zeros((27, 224, 224, 3))\n",
    "for i in range(1, 116):\n",
    "    folder = f'UTSig/Genuine/{i}'\n",
    "    for index, filename in enumerate(os.listdir(folder)):\n",
    "        temp[index, :, :, :] = cv2.resize(cv2.imread(\n",
    "            os.path.join(folder, filename)), (224, 224)).astype('float16') / 255.\n",
    "    y_train = y_train + [i] * 20\n",
    "    y_test = y_test + [i] * 7\n",
    "    X_train[(i-1)*20:i*20, :, :, :] = temp[index]\n",
    "    X_test[(i-1)*7:i*7, :, :, :] = temp[not_index]"
   ]
  },
  {
   "cell_type": "code",
   "execution_count": 14,
   "metadata": {
    "hidden": true
   },
   "outputs": [],
   "source": [
    "y_train = np.array(y_train)\n",
    "y_train -= 1\n",
    "\n",
    "y_test = np.array(y_test)\n",
    "y_test -= 1"
   ]
  },
  {
   "cell_type": "code",
   "execution_count": 6,
   "metadata": {
    "hidden": true
   },
   "outputs": [],
   "source": [
    "y_train = to_categorical(y_train, 115)\n",
    "y_test = to_categorical(y_test, 115)"
   ]
  },
  {
   "cell_type": "markdown",
   "metadata": {
    "heading_collapsed": true
   },
   "source": [
    "## ResNet 50"
   ]
  },
  {
   "cell_type": "markdown",
   "metadata": {
    "hidden": true
   },
   "source": [
    "mc = keras.callbacks.ModelCheckpoint('best_model.h5', monitor='val_accuracy', mode='max', verbose=0, save_best_only=True)"
   ]
  },
  {
   "cell_type": "code",
   "execution_count": 7,
   "metadata": {
    "hidden": true
   },
   "outputs": [],
   "source": [
    "base_model = keras.applications.ResNet50(input_shape=(224, 224, 3), classes=115, weights='imagenet', include_top=False)\n",
    "base_model.trainable = False"
   ]
  },
  {
   "cell_type": "code",
   "execution_count": 8,
   "metadata": {
    "hidden": true
   },
   "outputs": [],
   "source": [
    "x = keras.layers.Dropout(.5)(base_model.output)\n",
    "x = keras.layers.GlobalAvgPool2D()(x)\n",
    "# x = keras.layers.Dense(units=256, activation='relu')(x)\n",
    "# x = keras.layers.Dropout(.5)(x)\n",
    "x = keras.layers.Dense(units=115, activation='softmax')(x)\n",
    "model = keras.models.Model(base_model.input, x)"
   ]
  },
  {
   "cell_type": "code",
   "execution_count": 9,
   "metadata": {
    "hidden": true
   },
   "outputs": [],
   "source": [
    "model.compile(optimizer=keras.optimizers.Adam(),\n",
    "              loss=keras.losses.categorical_crossentropy,\n",
    "              metrics=['accuracy'])"
   ]
  },
  {
   "cell_type": "code",
   "execution_count": 10,
   "metadata": {
    "hidden": true
   },
   "outputs": [
    {
     "name": "stdout",
     "output_type": "stream",
     "text": [
      "Epoch 1/10\n",
      "72/72 [==============================] - 21s 224ms/step - loss: 4.5769 - accuracy: 0.1420 - val_loss: 3.4487 - val_accuracy: 0.3988\n",
      "Epoch 2/10\n",
      "72/72 [==============================] - 13s 186ms/step - loss: 2.4121 - accuracy: 0.8732 - val_loss: 2.6923 - val_accuracy: 0.5540\n",
      "Epoch 3/10\n",
      "72/72 [==============================] - 13s 187ms/step - loss: 1.2785 - accuracy: 0.9947 - val_loss: 2.2572 - val_accuracy: 0.6385\n",
      "Epoch 4/10\n",
      "72/72 [==============================] - 13s 187ms/step - loss: 0.7009 - accuracy: 1.0000 - val_loss: 2.0362 - val_accuracy: 0.6534\n",
      "Epoch 5/10\n",
      "72/72 [==============================] - 13s 187ms/step - loss: 0.4145 - accuracy: 1.0000 - val_loss: 1.9044 - val_accuracy: 0.6547\n",
      "Epoch 6/10\n",
      "72/72 [==============================] - 13s 187ms/step - loss: 0.2713 - accuracy: 1.0000 - val_loss: 1.8194 - val_accuracy: 0.6584\n",
      "Epoch 7/10\n",
      "72/72 [==============================] - 13s 187ms/step - loss: 0.1913 - accuracy: 1.0000 - val_loss: 1.7630 - val_accuracy: 0.6609\n",
      "Epoch 8/10\n",
      "72/72 [==============================] - 13s 187ms/step - loss: 0.1415 - accuracy: 1.0000 - val_loss: 1.7169 - val_accuracy: 0.6683\n",
      "Epoch 9/10\n",
      "72/72 [==============================] - 13s 187ms/step - loss: 0.1139 - accuracy: 1.0000 - val_loss: 1.6799 - val_accuracy: 0.6745\n",
      "Epoch 10/10\n",
      "72/72 [==============================] - 13s 186ms/step - loss: 0.0875 - accuracy: 1.0000 - val_loss: 1.6585 - val_accuracy: 0.6708\n"
     ]
    }
   ],
   "source": [
    "# history = model.fit(X_train, y_train, batch_size=128, epochs=10, validation_data=(X_test, y_test), shuffle=True, callbacks=[mc])\n",
    "history = model.fit(X_train, y_train, batch_size=32, validation_data=(X_test, y_test), epochs=10, shuffle=True)"
   ]
  },
  {
   "cell_type": "markdown",
   "metadata": {
    "hidden": true
   },
   "source": [
    "saved_model = keras.models.load_model('best_model.h5')"
   ]
  },
  {
   "cell_type": "code",
   "execution_count": 11,
   "metadata": {
    "hidden": true
   },
   "outputs": [
    {
     "data": {
      "image/png": "[encoded data removed]",
      "text/plain": [
       "<Figure size 432x288 with 1 Axes>"
      ]
     },
     "metadata": {
      "needs_background": "light"
     },
     "output_type": "display_data"
    },
    {
     "data": {
      "image/png": "[encoded data removed]",
      "text/plain": [
       "<Figure size 432x288 with 1 Axes>"
      ]
     },
     "metadata": {
      "needs_background": "light"
     },
     "output_type": "display_data"
    }
   ],
   "source": [
    "plt.plot(history.history['accuracy'])\n",
    "plt.plot(history.history['val_accuracy'])\n",
    "plt.title('model accuracy')\n",
    "plt.ylabel('accuracy')\n",
    "plt.xlabel('epoch')\n",
    "plt.legend(['train', 'validation'], loc='upper left')\n",
    "plt.show()\n",
    "# \"Loss\"\n",
    "plt.plot(history.history['loss'])\n",
    "plt.plot(history.history['val_loss'])\n",
    "plt.title('model loss')\n",
    "plt.ylabel('loss')\n",
    "plt.xlabel('epoch')\n",
    "plt.legend(['train', 'validation'], loc='upper left')\n",
    "plt.show()"
   ]
  },
  {
   "cell_type": "markdown",
   "metadata": {
    "hidden": true
   },
   "source": [
    "### Fine-tuning"
   ]
  },
  {
   "cell_type": "code",
   "execution_count": 12,
   "metadata": {
    "hidden": true
   },
   "outputs": [],
   "source": [
    "base_model.trainable = True"
   ]
  },
  {
   "cell_type": "code",
   "execution_count": 13,
   "metadata": {
    "hidden": true
   },
   "outputs": [],
   "source": [
    "model.compile(optimizer=keras.optimizers.Adam(1e-5),\n",
    "              loss=keras.losses.categorical_crossentropy,\n",
    "              metrics=['accuracy'])"
   ]
  },
  {
   "cell_type": "code",
   "execution_count": 17,
   "metadata": {
    "hidden": true
   },
   "outputs": [
    {
     "name": "stdout",
     "output_type": "stream",
     "text": [
      "Epoch 1/5\n",
      "144/144 [==============================] - 44s 304ms/step - loss: 5.3220 - accuracy: 0.3930 - val_loss: 23.8035 - val_accuracy: 0.0087\n",
      "Epoch 2/5\n",
      "144/144 [==============================] - 41s 287ms/step - loss: 1.1878 - accuracy: 0.7500 - val_loss: 25.9715 - val_accuracy: 0.0099\n",
      "Epoch 3/5\n",
      "144/144 [==============================] - 41s 288ms/step - loss: 0.2959 - accuracy: 0.9517 - val_loss: 23.7876 - val_accuracy: 0.0161\n",
      "Epoch 4/5\n",
      "144/144 [==============================] - 41s 288ms/step - loss: 0.0883 - accuracy: 0.9935 - val_loss: 21.9554 - val_accuracy: 0.0174\n",
      "Epoch 5/5\n",
      "144/144 [==============================] - 41s 287ms/step - loss: 0.0324 - accuracy: 1.0000 - val_loss: 20.0386 - val_accuracy: 0.0124\n"
     ]
    }
   ],
   "source": [
    "# history = model.fit(X_train, y_train, batch_size=128, epochs=10, validation_data=(X_test, y_test), shuffle=True, callbacks=[mc])\n",
    "history = model.fit(X_train, y_train, batch_size=16, validation_data=(X_test, y_test), epochs=5, shuffle=True)"
   ]
  },
  {
   "cell_type": "code",
   "execution_count": 18,
   "metadata": {
    "hidden": true,
    "scrolled": true
   },
   "outputs": [
    {
     "data": {
      "image/png": "[encoded data removed]",
      "text/plain": [
       "<Figure size 432x288 with 1 Axes>"
      ]
     },
     "metadata": {
      "needs_background": "light"
     },
     "output_type": "display_data"
    },
    {
     "data": {
      "image/png": "[encoded data removed]",
      "text/plain": [
       "<Figure size 432x288 with 1 Axes>"
      ]
     },
     "metadata": {
      "needs_background": "light"
     },
     "output_type": "display_data"
    }
   ],
   "source": [
    "plt.plot(history.history['accuracy'])\n",
    "plt.plot(history.history['val_accuracy'])\n",
    "plt.title('model accuracy')\n",
    "plt.ylabel('accuracy')\n",
    "plt.xlabel('epoch')\n",
    "plt.legend(['train', 'validation'], loc='upper left')\n",
    "plt.show()\n",
    "# \"Loss\"\n",
    "plt.plot(history.history['loss'])\n",
    "plt.plot(history.history['val_loss'])\n",
    "plt.title('model loss')\n",
    "plt.ylabel('loss')\n",
    "plt.xlabel('epoch')\n",
    "plt.legend(['train', 'validation'], loc='upper left')\n",
    "plt.show()"
   ]
  },
  {
   "cell_type": "code",
   "execution_count": null,
   "metadata": {
    "hidden": true
   },
   "outputs": [],
   "source": []
  },
  {
   "cell_type": "markdown",
   "metadata": {
    "heading_collapsed": true
   },
   "source": [
    "## Xception"
   ]
  },
  {
   "cell_type": "code",
   "execution_count": 7,
   "metadata": {
    "hidden": true
   },
   "outputs": [],
   "source": [
    "base_model = keras.applications.Xception(input_shape=(224, 224, 3), classes=115, weights='imagenet', include_top=False, pooling='max')\n",
    "base_model.trainable = False"
   ]
  },
  {
   "cell_type": "code",
   "execution_count": 8,
   "metadata": {
    "hidden": true
   },
   "outputs": [],
   "source": [
    "x = keras.layers.Dense(units=256, activation='relu')(base_model.output)\n",
    "x = keras.layers.Dropout(.5)(x)\n",
    "x = keras.layers.Dense(units=115, activation='softmax')(x)\n",
    "model = keras.models.Model(base_model.input, x)"
   ]
  },
  {
   "cell_type": "code",
   "execution_count": 9,
   "metadata": {
    "hidden": true
   },
   "outputs": [],
   "source": [
    "model.compile(optimizer=keras.optimizers.Adam(),\n",
    "              loss=keras.losses.categorical_crossentropy,\n",
    "              metrics=['accuracy'])"
   ]
  },
  {
   "cell_type": "code",
   "execution_count": 10,
   "metadata": {
    "hidden": true,
    "scrolled": false
   },
   "outputs": [
    {
     "name": "stdout",
     "output_type": "stream",
     "text": [
      "Epoch 1/5\n",
      "36/36 [==============================] - 27s 592ms/step - loss: 4.0740 - accuracy: 0.1980 - val_loss: 2.9554 - val_accuracy: 0.4174\n",
      "Epoch 2/5\n",
      "36/36 [==============================] - 17s 462ms/step - loss: 0.7811 - accuracy: 0.8789 - val_loss: 2.1864 - val_accuracy: 0.5205\n",
      "Epoch 3/5\n",
      "36/36 [==============================] - 17s 462ms/step - loss: 0.1730 - accuracy: 0.9862 - val_loss: 1.9879 - val_accuracy: 0.5615\n",
      "Epoch 4/5\n",
      "36/36 [==============================] - 17s 462ms/step - loss: 0.0735 - accuracy: 0.9949 - val_loss: 1.9017 - val_accuracy: 0.5677\n",
      "Epoch 5/5\n",
      "36/36 [==============================] - 17s 462ms/step - loss: 0.0456 - accuracy: 0.9992 - val_loss: 1.8709 - val_accuracy: 0.5764\n"
     ]
    }
   ],
   "source": [
    "# history = model.fit(X_train, y_train, batch_size=128, epochs=10, validation_data=(X_test, y_test), shuffle=True, callbacks=[mc])\n",
    "history = model.fit(X_train, y_train, batch_size=64, validation_data=(X_test, y_test), epochs=5, shuffle=True)"
   ]
  },
  {
   "cell_type": "code",
   "execution_count": 11,
   "metadata": {
    "hidden": true
   },
   "outputs": [
    {
     "data": {
      "image/png": "[encoded data removed]",
      "text/plain": [
       "<Figure size 432x288 with 1 Axes>"
      ]
     },
     "metadata": {
      "needs_background": "light"
     },
     "output_type": "display_data"
    },
    {
     "data": {
      "image/png": "[encoded data removed]",
      "text/plain": [
       "<Figure size 432x288 with 1 Axes>"
      ]
     },
     "metadata": {
      "needs_background": "light"
     },
     "output_type": "display_data"
    }
   ],
   "source": [
    "plt.plot(history.history['accuracy'])\n",
    "plt.plot(history.history['val_accuracy'])\n",
    "plt.title('model accuracy')\n",
    "plt.ylabel('accuracy')\n",
    "plt.xlabel('epoch')\n",
    "plt.legend(['train', 'validation'], loc='upper left')\n",
    "plt.show()\n",
    "# \"Loss\"\n",
    "plt.plot(history.history['loss'])\n",
    "plt.plot(history.history['val_loss'])\n",
    "plt.title('model loss')\n",
    "plt.ylabel('loss')\n",
    "plt.xlabel('epoch')\n",
    "plt.legend(['train', 'validation'], loc='upper left')\n",
    "plt.show()"
   ]
  },
  {
   "cell_type": "code",
   "execution_count": null,
   "metadata": {
    "hidden": true
   },
   "outputs": [],
   "source": []
  },
  {
   "cell_type": "markdown",
   "metadata": {
    "heading_collapsed": true,
    "hidden": true
   },
   "source": [
    "### fine tuning"
   ]
  },
  {
   "cell_type": "code",
   "execution_count": 12,
   "metadata": {
    "hidden": true
   },
   "outputs": [],
   "source": [
    "for i in range(1, 11):    \n",
    "    base_model.layers[-i].trainable = True"
   ]
  },
  {
   "cell_type": "code",
   "execution_count": 13,
   "metadata": {
    "hidden": true
   },
   "outputs": [],
   "source": [
    "model.compile(optimizer=keras.optimizers.Adam(1e-5),\n",
    "              loss=keras.losses.categorical_crossentropy,\n",
    "              metrics=['accuracy'])"
   ]
  },
  {
   "cell_type": "code",
   "execution_count": 14,
   "metadata": {
    "hidden": true
   },
   "outputs": [
    {
     "name": "stdout",
     "output_type": "stream",
     "text": [
      "Epoch 1/5\n",
      "36/36 [==============================] - 23s 547ms/step - loss: 3.3518 - accuracy: 0.3324 - val_loss: 2.7951 - val_accuracy: 0.3913\n",
      "Epoch 2/5\n",
      "36/36 [==============================] - 18s 513ms/step - loss: 1.6672 - accuracy: 0.5995 - val_loss: 3.1656 - val_accuracy: 0.3453\n",
      "Epoch 3/5\n",
      "36/36 [==============================] - 18s 514ms/step - loss: 0.7390 - accuracy: 0.8280 - val_loss: 3.0415 - val_accuracy: 0.3578\n",
      "Epoch 4/5\n",
      "36/36 [==============================] - 18s 515ms/step - loss: 0.3812 - accuracy: 0.9202 - val_loss: 2.8326 - val_accuracy: 0.3752\n",
      "Epoch 5/5\n",
      "36/36 [==============================] - 18s 514ms/step - loss: 0.2883 - accuracy: 0.9458 - val_loss: 2.6102 - val_accuracy: 0.4050\n"
     ]
    }
   ],
   "source": [
    "# history = model.fit(X_train, y_train, batch_size=128, epochs=10, validation_data=(X_test, y_test), shuffle=True, callbacks=[mc])\n",
    "history = model.fit(X_train, y_train, batch_size=64, validation_data=(X_test, y_test), epochs=5, shuffle=True)"
   ]
  },
  {
   "cell_type": "code",
   "execution_count": 15,
   "metadata": {
    "hidden": true
   },
   "outputs": [
    {
     "data": {
      "image/png": "[encoded data removed]",
      "text/plain": [
       "<Figure size 432x288 with 1 Axes>"
      ]
     },
     "metadata": {
      "needs_background": "light"
     },
     "output_type": "display_data"
    },
    {
     "data": {
      "image/png": "[encoded data removed]",
      "text/plain": [
       "<Figure size 432x288 with 1 Axes>"
      ]
     },
     "metadata": {
      "needs_background": "light"
     },
     "output_type": "display_data"
    }
   ],
   "source": [
    "plt.plot(history.history['accuracy'])\n",
    "plt.plot(history.history['val_accuracy'])\n",
    "plt.title('model accuracy')\n",
    "plt.ylabel('accuracy')\n",
    "plt.xlabel('epoch')\n",
    "plt.legend(['train', 'validation'], loc='upper left')\n",
    "plt.show()\n",
    "# \"Loss\"\n",
    "plt.plot(history.history['loss'])\n",
    "plt.plot(history.history['val_loss'])\n",
    "plt.title('model loss')\n",
    "plt.ylabel('loss')\n",
    "plt.xlabel('epoch')\n",
    "plt.legend(['train', 'validation'], loc='upper left')\n",
    "plt.show()"
   ]
  },
  {
   "cell_type": "markdown",
   "metadata": {
    "heading_collapsed": true
   },
   "source": [
    "## Define a Model"
   ]
  },
  {
   "cell_type": "code",
   "execution_count": 22,
   "metadata": {
    "hidden": true
   },
   "outputs": [],
   "source": [
    "input_layer = keras.Input((224, 224, 3))\n",
    "\n",
    "x = keras.layers.Conv2D(16, 3, activation=\"relu\")(input_layer)\n",
    "x = keras.layers.Conv2D(16, 3, activation=\"relu\")(x)\n",
    "x = keras.layers.MaxPooling2D()(x)\n",
    "\n",
    "x = keras.layers.Conv2D(32, 3, activation=\"relu\")(x)\n",
    "x = keras.layers.Conv2D(32, 3, activation=\"relu\")(x)\n",
    "x = keras.layers.GlobalMaxPooling2D()(x)\n",
    "\n",
    "x = keras.layers.Dense(256, activation='relu')(x)\n",
    "x = keras.layers.Dropout(.5)(x)\n",
    "output_layer = keras.layers.Dense(115, activation='softmax')(x)\n",
    "\n",
    "model = keras.Model(input_layer, output_layer)"
   ]
  },
  {
   "cell_type": "code",
   "execution_count": 23,
   "metadata": {
    "hidden": true
   },
   "outputs": [],
   "source": [
    "model.compile(optimizer=keras.optimizers.Adam(),\n",
    "              loss=keras.losses.categorical_crossentropy,\n",
    "              metrics=['accuracy'])"
   ]
  },
  {
   "cell_type": "code",
   "execution_count": 24,
   "metadata": {
    "hidden": true,
    "scrolled": false
   },
   "outputs": [
    {
     "name": "stdout",
     "output_type": "stream",
     "text": [
      "Epoch 1/15\n",
      "36/36 [==============================] - 6s 163ms/step - loss: 4.7427 - accuracy: 0.0111 - val_loss: 4.7397 - val_accuracy: 0.0099\n",
      "Epoch 2/15\n",
      "36/36 [==============================] - 5s 152ms/step - loss: 4.7188 - accuracy: 0.0140 - val_loss: 4.6853 - val_accuracy: 0.0112\n",
      "Epoch 3/15\n",
      "36/36 [==============================] - 5s 152ms/step - loss: 4.4590 - accuracy: 0.0346 - val_loss: 4.2979 - val_accuracy: 0.0534\n",
      "Epoch 4/15\n",
      "36/36 [==============================] - 5s 152ms/step - loss: 3.2212 - accuracy: 0.2139 - val_loss: 4.3549 - val_accuracy: 0.0994\n",
      "Epoch 5/15\n",
      "36/36 [==============================] - 5s 153ms/step - loss: 1.6810 - accuracy: 0.5050 - val_loss: 4.7103 - val_accuracy: 0.1230\n",
      "Epoch 6/15\n",
      "36/36 [==============================] - 5s 153ms/step - loss: 0.7489 - accuracy: 0.7786 - val_loss: 5.4205 - val_accuracy: 0.1416\n",
      "Epoch 7/15\n",
      "36/36 [==============================] - 5s 153ms/step - loss: 0.3677 - accuracy: 0.8812 - val_loss: 5.8918 - val_accuracy: 0.1404\n",
      "Epoch 8/15\n",
      "36/36 [==============================] - 5s 153ms/step - loss: 0.1886 - accuracy: 0.9502 - val_loss: 6.4375 - val_accuracy: 0.1453\n",
      "Epoch 9/15\n",
      "36/36 [==============================] - 5s 153ms/step - loss: 0.1271 - accuracy: 0.9637 - val_loss: 6.7863 - val_accuracy: 0.1429\n",
      "Epoch 10/15\n",
      "36/36 [==============================] - 5s 152ms/step - loss: 0.0916 - accuracy: 0.9727 - val_loss: 6.9759 - val_accuracy: 0.1528\n",
      "Epoch 11/15\n",
      "36/36 [==============================] - 5s 153ms/step - loss: 0.0634 - accuracy: 0.9873 - val_loss: 7.3680 - val_accuracy: 0.1391\n",
      "Epoch 12/15\n",
      "36/36 [==============================] - 6s 154ms/step - loss: 0.0612 - accuracy: 0.9788 - val_loss: 7.4212 - val_accuracy: 0.1429\n",
      "Epoch 13/15\n",
      "36/36 [==============================] - 6s 154ms/step - loss: 0.0356 - accuracy: 0.9943 - val_loss: 7.6956 - val_accuracy: 0.1491\n",
      "Epoch 14/15\n",
      "36/36 [==============================] - 6s 154ms/step - loss: 0.0280 - accuracy: 0.9943 - val_loss: 7.9152 - val_accuracy: 0.1453\n",
      "Epoch 15/15\n",
      "36/36 [==============================] - 5s 152ms/step - loss: 0.0178 - accuracy: 0.9975 - val_loss: 8.2413 - val_accuracy: 0.1329\n"
     ]
    }
   ],
   "source": [
    "# history = model.fit(X_train, y_train, batch_size=128, epochs=10, validation_data=(X_test, y_test), shuffle=True, callbacks=[mc])\n",
    "history = model.fit(X_train, y_train, batch_size=64, validation_data=(X_test, y_test), epochs=15, shuffle=True)"
   ]
  },
  {
   "cell_type": "code",
   "execution_count": 25,
   "metadata": {
    "hidden": true
   },
   "outputs": [
    {
     "data": {
      "image/png": "[encoded data removed]",
      "text/plain": [
       "<Figure size 432x288 with 1 Axes>"
      ]
     },
     "metadata": {
      "needs_background": "light"
     },
     "output_type": "display_data"
    },
    {
     "data": {
      "image/png": "[encoded data removed]",
      "text/plain": [
       "<Figure size 432x288 with 1 Axes>"
      ]
     },
     "metadata": {
      "needs_background": "light"
     },
     "output_type": "display_data"
    }
   ],
   "source": [
    "plt.plot(history.history['accuracy'])\n",
    "plt.plot(history.history['val_accuracy'])\n",
    "plt.title('model accuracy')\n",
    "plt.ylabel('accuracy')\n",
    "plt.xlabel('epoch')\n",
    "plt.legend(['train', 'validation'], loc='upper left')\n",
    "plt.show()\n",
    "# \"Loss\"\n",
    "plt.plot(history.history['loss'])\n",
    "plt.plot(history.history['val_loss'])\n",
    "plt.title('model loss')\n",
    "plt.ylabel('loss')\n",
    "plt.xlabel('epoch')\n",
    "plt.legend(['train', 'validation'], loc='upper left')\n",
    "plt.show()"
   ]
  },
  {
   "cell_type": "code",
   "execution_count": null,
   "metadata": {
    "hidden": true
   },
   "outputs": [],
   "source": []
  },
  {
   "cell_type": "markdown",
   "metadata": {
    "heading_collapsed": true
   },
   "source": [
    "## SVM"
   ]
  },
  {
   "cell_type": "code",
   "execution_count": 25,
   "metadata": {
    "hidden": true
   },
   "outputs": [],
   "source": [
    "base_model = keras.applications.Xception(input_shape=(224, 224, 3), classes=115, weights='imagenet', include_top=False, pooling='max')"
   ]
  },
  {
   "cell_type": "code",
   "execution_count": 26,
   "metadata": {
    "hidden": true
   },
   "outputs": [],
   "source": [
    "X = np.concatenate((X_train, X_test))"
   ]
  },
  {
   "cell_type": "code",
   "execution_count": 33,
   "metadata": {
    "hidden": true
   },
   "outputs": [],
   "source": [
    "y = np.concatenate((y_train, y_test))"
   ]
  },
  {
   "cell_type": "code",
   "execution_count": 27,
   "metadata": {
    "hidden": true
   },
   "outputs": [],
   "source": [
    "featurs = base_model.predict(X)"
   ]
  },
  {
   "cell_type": "code",
   "execution_count": 28,
   "metadata": {
    "hidden": true
   },
   "outputs": [],
   "source": [
    "param_grid = {'C': [0.1, 1, 10], 'gamma': [1, 0.1, 0.01], 'kernel': ['rbf']} "
   ]
  },
  {
   "cell_type": "code",
   "execution_count": 29,
   "metadata": {
    "hidden": true
   },
   "outputs": [],
   "source": [
    "test_fold = np.full(3105, -1)\n",
    "test_fold[2300: ] = 0"
   ]
  },
  {
   "cell_type": "code",
   "execution_count": 30,
   "metadata": {
    "hidden": true
   },
   "outputs": [],
   "source": [
    "ps = PredefinedSplit(test_fold)"
   ]
  },
  {
   "cell_type": "code",
   "execution_count": 31,
   "metadata": {
    "hidden": true
   },
   "outputs": [],
   "source": [
    "model = GridSearchCV(SVC(), param_grid, refit=True, verbose=5, n_jobs=-1, cv=ps)"
   ]
  },
  {
   "cell_type": "code",
   "execution_count": 34,
   "metadata": {
    "hidden": true
   },
   "outputs": [
    {
     "name": "stdout",
     "output_type": "stream",
     "text": [
      "Fitting 1 folds for each of 9 candidates, totalling 9 fits\n"
     ]
    },
    {
     "name": "stderr",
     "output_type": "stream",
     "text": [
      "[Parallel(n_jobs=-1)]: Using backend LokyBackend with 12 concurrent workers.\n",
      "[Parallel(n_jobs=-1)]: Done   2 out of   9 | elapsed:    4.0s remaining:   14.2s\n",
      "[Parallel(n_jobs=-1)]: Done   4 out of   9 | elapsed:    4.0s remaining:    5.1s\n",
      "[Parallel(n_jobs=-1)]: Done   6 out of   9 | elapsed:    4.6s remaining:    2.3s\n",
      "[Parallel(n_jobs=-1)]: Done   9 out of   9 | elapsed:   15.1s finished\n"
     ]
    },
    {
     "data": {
      "text/plain": [
       "GridSearchCV(cv=PredefinedSplit(test_fold=array([-1, -1, ...,  0,  0])),\n",
       "             estimator=SVC(), n_jobs=-1,\n",
       "             param_grid={'C': [0.1, 1, 10], 'gamma': [1, 0.1, 0.01],\n",
       "                         'kernel': ['rbf']},\n",
       "             verbose=5)"
      ]
     },
     "execution_count": 34,
     "metadata": {},
     "output_type": "execute_result"
    }
   ],
   "source": [
    "model.fit(featurs, y)"
   ]
  },
  {
   "cell_type": "code",
   "execution_count": 35,
   "metadata": {
    "hidden": true
   },
   "outputs": [
    {
     "data": {
      "text/plain": [
       "{'C': 0.1, 'gamma': 0.1, 'kernel': 'rbf'}"
      ]
     },
     "execution_count": 35,
     "metadata": {},
     "output_type": "execute_result"
    }
   ],
   "source": [
    "model.best_params_"
   ]
  },
  {
   "cell_type": "code",
   "execution_count": 36,
   "metadata": {
    "hidden": true
   },
   "outputs": [
    {
     "name": "stdout",
     "output_type": "stream",
     "text": [
      "accuracy: 1.00\n"
     ]
    }
   ],
   "source": [
    "test_features = base_model.predict(X_test)\n",
    "print('accuracy: {0:.2f}'.format(model.score(test_features, y_test)))"
   ]
  }
 ],
 "metadata": {
  "kernelspec": {
   "display_name": "Python 3",
   "language": "python",
   "name": "python3"
  },
  "language_info": {
   "codemirror_mode": {
    "name": "ipython",
    "version": 3
   },
   "file_extension": ".py",
   "mimetype": "text/x-python",
   "name": "python",
   "nbconvert_exporter": "python",
   "pygments_lexer": "ipython3",
   "version": "3.8.5"
  },
  "toc": {
   "base_numbering": 1,
   "nav_menu": {},
   "number_sections": true,
   "sideBar": true,
   "skip_h1_title": false,
   "title_cell": "Table of Contents",
   "title_sidebar": "Contents",
   "toc_cell": false,
   "toc_position": {},
   "toc_section_display": true,
   "toc_window_display": false
  }
 },
 "nbformat": 4,
 "nbformat_minor": 4
}
